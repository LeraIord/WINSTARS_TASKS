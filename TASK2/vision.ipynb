{
 "cells": [
  {
   "cell_type": "code",
   "execution_count": 1,
   "metadata": {
    "colab": {
     "base_uri": "https://localhost:8080/"
    },
    "executionInfo": {
     "elapsed": "",
     "status": "ok",
     "timestamp": "",
     "user": {
      "displayName": "Iordanova Valeriia",
      "userId": ""
     },
     "user_tz": -120
    },
    "id": "VfIN2AjRB4Yu",
    "outputId": ""
   },
   "outputs": [],
   "source": [
    "import os\n",
    "import shutil\n",
    "import random\n",
    "import time\n",
    "import torch\n",
    "import torch.nn as nn\n",
    "import torch.optim as optim\n",
    "from torchvision import datasets, transforms, models\n",
    "from torch.utils.data import DataLoader\n",
    "from tqdm import tqdm"
   ]
  },
  {
   "cell_type": "markdown",
   "metadata": {},
   "source": [
    "Splits images from the raw-img source directory into training (80%) and test (20%) samples, creating the corresponding train and test folders, and copies the images to the required directories if the splitting has not been done yet"
   ]
  },
  {
   "cell_type": "code",
   "execution_count": 3,
   "metadata": {
    "colab": {
     "base_uri": "https://localhost:8080/"
    },
    "executionInfo": {
     "elapsed": "",
     "status": "ok",
     "timestamp": "",
     "user": {
      "displayName": "Iordanova Valeriia",
      "userId": ""
     },
     "user_tz": -120
    },
    "id": "WA_1MktFIb9_",
    "outputId": ""
   },
   "outputs": [
    {
     "name": "stdout",
     "output_type": "stream",
     "text": [
      "butterfly: 1689 for train, 423 for test\n",
      "cat: 1334 for train, 334 for test\n",
      "chicken: 2478 for train, 620 for test\n",
      "cow: 1492 for train, 374 for test\n",
      "dog: 3890 for train, 973 for test\n",
      "elephant: 1156 for train, 290 for test\n",
      "horse: 2098 for train, 525 for test\n",
      "sheep: 1456 for train, 364 for test\n",
      "spider: 3856 for train, 965 for test\n",
      "squirrel: 1489 for train, 373 for test\n",
      "Dataset successfully split and saved to ./data/vision/dataset\n"
     ]
    }
   ],
   "source": [
    "base_dir = \"./data/vision/raw-img\"\n",
    "dataset_dir = \"./data/vision/dataset\"\n",
    "train_dir = os.path.join(dataset_dir, \"train\")\n",
    "test_dir = os.path.join(dataset_dir, \"test\")\n",
    "\n",
    "\n",
    "def is_class_split(train_class_path, test_class_path):\n",
    "    return os.path.exists(train_class_path) and os.path.exists(test_class_path) and \\\n",
    "           len(os.listdir(train_class_path)) > 0 and len(os.listdir(test_class_path)) > 0\n",
    "\n",
    "\n",
    "os.makedirs(train_dir, exist_ok=True)\n",
    "os.makedirs(test_dir, exist_ok=True)\n",
    "\n",
    "\n",
    "split_ratio = 0.8  # 80% train, 20% test\n",
    "\n",
    "if not os.path.exists(base_dir):\n",
    "    print(f\"The {base_dir} directory was not found. Check the path to the dataset.\")\n",
    "else:\n",
    "    for class_name in os.listdir(base_dir):\n",
    "        class_path = os.path.join(base_dir, class_name)\n",
    "        if os.path.isdir(class_path):\n",
    "            train_class_dir = os.path.join(train_dir, class_name)\n",
    "            test_class_dir = os.path.join(test_dir, class_name)\n",
    "\n",
    "            if is_class_split(train_class_dir, test_class_dir):\n",
    "                print(f\"Skip {class_name} (already split)\")\n",
    "                continue\n",
    "\n",
    "            images = [img for img in os.listdir(class_path) if img.lower().endswith(('.jpg', '.jpeg', '.png', '.webp'))]\n",
    "            if not images:\n",
    "                print(f\"Missing {class_name} (no images in source folder)\")\n",
    "                continue\n",
    "\n",
    "            random.shuffle(images)\n",
    "            split_index = int(len(images) * split_ratio)\n",
    "            train_images = images[:split_index]\n",
    "            test_images = images[split_index:]\n",
    "\n",
    "            os.makedirs(train_class_dir, exist_ok=True)\n",
    "            os.makedirs(test_class_dir, exist_ok=True)\n",
    "\n",
    "            for img in train_images:\n",
    "                src = os.path.join(class_path, img)\n",
    "                dst = os.path.join(train_class_dir, img)\n",
    "                shutil.copy(src, dst)\n",
    "\n",
    "            for img in test_images:\n",
    "                src = os.path.join(class_path, img)\n",
    "                dst = os.path.join(test_class_dir, img)\n",
    "                shutil.copy(src, dst)\n",
    "\n",
    "            print(f\"{class_name}: {len(train_images)} for train, {len(test_images)} for test\")\n",
    "\n",
    "    print(f\"Dataset successfully split and saved to {dataset_dir}\")"
   ]
  },
  {
   "cell_type": "code",
   "execution_count": 4,
   "metadata": {
    "colab": {
     "base_uri": "https://localhost:8080/"
    },
    "executionInfo": {
     "elapsed": 310,
     "status": "ok",
     "timestamp": 1740587628480,
     "user": {
      "displayName": "Iordanova Valeriia",
      "userId": ""
     },
     "user_tz": -120
    },
    "id": "DZcIBJoSLEYv",
    "outputId": "982fb11d-9b35-48a4-a07b-80f7a58f865b"
   },
   "outputs": [
    {
     "name": "stdout",
     "output_type": "stream",
     "text": [
      "The number of images in the train:\n",
      "  butterfly: 1689\n",
      "  cat: 1334\n",
      "  chicken: 2478\n",
      "  cow: 1492\n",
      "  dog: 3890\n",
      "  elephant: 1156\n",
      "  horse: 2098\n",
      "  sheep: 1456\n",
      "  spider: 3856\n",
      "  squirrel: 1489\n",
      "\n",
      " Number of images in test:\n",
      "  butterfly: 423\n",
      "  cat: 334\n",
      "  chicken: 620\n",
      "  cow: 374\n",
      "  dog: 973\n",
      "  elephant: 290\n",
      "  horse: 525\n",
      "  sheep: 364\n",
      "  spider: 965\n",
      "  squirrel: 373\n"
     ]
    }
   ],
   "source": [
    "def count_images_in_folders(base_dir):\n",
    "    class_counts = {}\n",
    "\n",
    "    if not os.path.exists(base_dir):\n",
    "        print(f\"The {base_dir} directory was not found.\")\n",
    "        return class_counts\n",
    "\n",
    "    for class_name in sorted(os.listdir(base_dir)):\n",
    "        class_path = os.path.join(base_dir, class_name)\n",
    "        if os.path.isdir(class_path):\n",
    "            class_counts[class_name] = len(os.listdir(class_path))\n",
    "\n",
    "    return class_counts\n",
    "\n",
    "train_counts = count_images_in_folders(train_dir)\n",
    "test_counts = count_images_in_folders(test_dir)\n",
    "\n",
    "if train_counts:\n",
    "    print(\"The number of images in the train:\")\n",
    "    for class_name, count in train_counts.items():\n",
    "        print(f\"  {class_name}: {count}\")\n",
    "else:\n",
    "    print(\"Train-directory is empty or missing.\")\n",
    "\n",
    "if test_counts:\n",
    "    print(\"\\n Number of images in test:\")\n",
    "    for class_name, count in test_counts.items():\n",
    "        print(f\"  {class_name}: {count}\")\n",
    "else:\n",
    "    print(\"Test directory is empty or missing.\")\n"
   ]
  },
  {
   "cell_type": "markdown",
   "metadata": {},
   "source": [
    "Loads and preprocesses a dataset of animal images, initialises ResNet-18 for classification, configures training parameters including an optimiser and error criterion, and then trains the model using PyTorch and mixed precision (if CUDA is available), monitoring loss and accuracy at each step."
   ]
  },
  {
   "cell_type": "code",
   "execution_count": null,
   "metadata": {
    "colab": {
     "base_uri": "https://localhost:8080/"
    },
    "executionInfo": {
     "elapsed": 1187720,
     "status": "ok",
     "timestamp": 1740589011456,
     "user": {
      "displayName": "Iordanova Valeriia",
      "userId": ""
     },
     "user_tz": -120
    },
    "id": "BZHsCkceXky7",
    "outputId": "7e865a8f-ae0a-4c1d-9063-ae66a082ab1f"
   },
   "outputs": [
    {
     "name": "stdout",
     "output_type": "stream",
     "text": [
      "Classes ['butterfly', 'cat', 'chicken', 'cow', 'dog', 'elephant', 'horse', 'sheep', 'spider', 'squirrel']\n",
      "Dataset size {'train': 21046, 'test': 5241}\n",
      "\n",
      " Epoch 1/15 | LR: 0.001000\n",
      "--------------------------------------------------\n"
     ]
    },
    {
     "name": "stderr",
     "output_type": "stream",
     "text": []
    },
    {
     "name": "stdout",
     "output_type": "stream",
     "text": [
      "Processed 0 in 2.8875 seconds\n",
      "Processed 1 in 0.1969 seconds\n"
     ]
    },
    {
     "name": "stderr",
     "output_type": "stream",
     "text": [
      " TRAIN: 3it [01:22, 18.60s/it, loss=2.3016, acc=0.1836, batch_time=0.1541s]"
     ]
    },
    {
     "name": "stdout",
     "output_type": "stream",
     "text": [
      "Processed 2 in 0.1541 seconds\n"
     ]
    },
    {
     "name": "stderr",
     "output_type": "stream",
     "text": [
      " TRAIN: 5it [01:26,  8.19s/it, loss=2.1777, acc=0.2344, batch_time=0.1532s]"
     ]
    },
    {
     "name": "stdout",
     "output_type": "stream",
     "text": [
      "Processed 3 in 0.1735 seconds\n",
      "Processed 4 in 0.1532 seconds\n"
     ]
    },
    {
     "name": "stderr",
     "output_type": "stream",
     "text": [
      " TRAIN: 7it [01:27,  3.72s/it, loss=2.0493, acc=0.3086, batch_time=0.1530s]"
     ]
    },
    {
     "name": "stdout",
     "output_type": "stream",
     "text": [
      "Processed 5 in 0.1550 seconds\n",
      "Processed 6 in 0.1530 seconds\n"
     ]
    },
    {
     "name": "stderr",
     "output_type": "stream",
     "text": [
      " TRAIN: 9it [01:27,  1.83s/it, loss=1.9817, acc=0.3262, batch_time=0.1531s]"
     ]
    },
    {
     "name": "stdout",
     "output_type": "stream",
     "text": [
      "Processed 7 in 0.1530 seconds\n",
      "Processed 8 in 0.1531 seconds\n"
     ]
    },
    {
     "name": "stderr",
     "output_type": "stream",
     "text": [
      " TRAIN: 10it [01:27,  1.31s/it, loss=1.9061, acc=0.3828, batch_time=0.1533s]"
     ]
    },
    {
     "name": "stdout",
     "output_type": "stream",
     "text": [
      "Processed 9 in 0.1533 seconds\n"
     ]
    },
    {
     "name": "stderr",
     "output_type": "stream",
     "text": [
      " TRAIN: 12it [02:24, 12.80s/it, loss=1.7657, acc=0.4023, batch_time=0.1530s]"
     ]
    },
    {
     "name": "stdout",
     "output_type": "stream",
     "text": [
      "Processed 10 in 0.1743 seconds\n",
      "Processed 11 in 0.1530 seconds\n"
     ]
    },
    {
     "name": "stderr",
     "output_type": "stream",
     "text": [
      " TRAIN: 13it [02:24,  8.97s/it, loss=1.6780, acc=0.4414, batch_time=0.1532s]"
     ]
    },
    {
     "name": "stdout",
     "output_type": "stream",
     "text": [
      "Processed 12 in 0.1532 seconds\n"
     ]
    },
    {
     "name": "stderr",
     "output_type": "stream",
     "text": [
      " TRAIN: 15it [02:34,  6.44s/it, loss=1.6318, acc=0.4844, batch_time=0.1555s]"
     ]
    },
    {
     "name": "stdout",
     "output_type": "stream",
     "text": [
      "Processed 13 in 0.1657 seconds\n",
      "Processed 14 in 0.1555 seconds\n"
     ]
    },
    {
     "name": "stderr",
     "output_type": "stream",
     "text": [
      " TRAIN: 17it [02:34,  3.23s/it, loss=1.4325, acc=0.5684, batch_time=0.1529s]"
     ]
    },
    {
     "name": "stdout",
     "output_type": "stream",
     "text": [
      "Processed 15 in 0.1529 seconds\n",
      "Processed 16 in 0.1529 seconds\n"
     ]
    },
    {
     "name": "stderr",
     "output_type": "stream",
     "text": [
      " TRAIN: 19it [02:35,  1.66s/it, loss=1.3571, acc=0.6680, batch_time=0.1530s]"
     ]
    },
    {
     "name": "stdout",
     "output_type": "stream",
     "text": [
      "Processed 17 in 0.1528 seconds\n",
      "Processed 18 in 0.1530 seconds\n"
     ]
    },
    {
     "name": "stderr",
     "output_type": "stream",
     "text": [
      " TRAIN: 20it [02:35,  1.21s/it, loss=1.2860, acc=0.6836, batch_time=0.1530s]"
     ]
    },
    {
     "name": "stdout",
     "output_type": "stream",
     "text": [
      "Processed 19 in 0.1530 seconds\n"
     ]
    },
    {
     "name": "stderr",
     "output_type": "stream",
     "text": [
      " TRAIN: 22it [03:37, 13.72s/it, loss=1.2042, acc=0.7090, batch_time=0.1529s]"
     ]
    },
    {
     "name": "stdout",
     "output_type": "stream",
     "text": [
      "Processed 20 in 0.1729 seconds\n",
      "Processed 21 in 0.1529 seconds\n"
     ]
    },
    {
     "name": "stderr",
     "output_type": "stream",
     "text": [
      " TRAIN: 24it [03:38,  6.80s/it, loss=1.1323, acc=0.7715, batch_time=0.1528s]"
     ]
    },
    {
     "name": "stdout",
     "output_type": "stream",
     "text": [
      "Processed 22 in 0.1530 seconds\n",
      "Processed 23 in 0.1528 seconds\n"
     ]
    },
    {
     "name": "stderr",
     "output_type": "stream",
     "text": [
      " TRAIN: 26it [03:38,  3.41s/it, loss=1.0219, acc=0.7949, batch_time=0.1528s]"
     ]
    },
    {
     "name": "stdout",
     "output_type": "stream",
     "text": [
      "Processed 24 in 0.1530 seconds\n",
      "Processed 25 in 0.1528 seconds\n"
     ]
    },
    {
     "name": "stderr",
     "output_type": "stream",
     "text": [
      " TRAIN: 27it [03:38,  2.44s/it, loss=0.9641, acc=0.8477, batch_time=0.1531s]"
     ]
    },
    {
     "name": "stdout",
     "output_type": "stream",
     "text": [
      "Processed 26 in 0.1531 seconds\n"
     ]
    },
    {
     "name": "stderr",
     "output_type": "stream",
     "text": [
      " TRAIN: 29it [03:41,  1.84s/it, loss=0.8970, acc=0.8340, batch_time=0.1550s]"
     ]
    },
    {
     "name": "stdout",
     "output_type": "stream",
     "text": [
      "Processed 27 in 0.1742 seconds\n",
      "Processed 28 in 0.1550 seconds\n"
     ]
    },
    {
     "name": "stderr",
     "output_type": "stream",
     "text": [
      " TRAIN: 30it [03:41,  1.33s/it, loss=0.8587, acc=0.8633, batch_time=0.1530s]"
     ]
    },
    {
     "name": "stdout",
     "output_type": "stream",
     "text": [
      "Processed 29 in 0.1530 seconds\n"
     ]
    },
    {
     "name": "stderr",
     "output_type": "stream",
     "text": [
      " TRAIN: 32it [04:45, 14.15s/it, loss=0.8450, acc=0.8203, batch_time=0.1534s]"
     ]
    },
    {
     "name": "stdout",
     "output_type": "stream",
     "text": [
      "Processed 30 in 0.1690 seconds\n",
      "Processed 31 in 0.1534 seconds\n"
     ]
    },
    {
     "name": "stderr",
     "output_type": "stream",
     "text": [
      " TRAIN: 34it [04:46,  7.01s/it, loss=0.7682, acc=0.8594, batch_time=0.1531s]"
     ]
    },
    {
     "name": "stdout",
     "output_type": "stream",
     "text": [
      "Processed 32 in 0.1530 seconds\n",
      "Processed 33 in 0.1531 seconds\n"
     ]
    },
    {
     "name": "stderr",
     "output_type": "stream",
     "text": [
      " TRAIN: 36it [04:46,  3.52s/it, loss=0.7240, acc=0.8652, batch_time=0.1528s]"
     ]
    },
    {
     "name": "stdout",
     "output_type": "stream",
     "text": [
      "Processed 34 in 0.1530 seconds\n",
      "Processed 35 in 0.1528 seconds\n"
     ]
    },
    {
     "name": "stderr",
     "output_type": "stream",
     "text": [
      " TRAIN: 38it [04:46,  1.80s/it, loss=0.6976, acc=0.8496, batch_time=0.1528s]"
     ]
    },
    {
     "name": "stdout",
     "output_type": "stream",
     "text": [
      "Processed 36 in 0.1528 seconds\n",
      "Processed 37 in 0.1528 seconds\n"
     ]
    },
    {
     "name": "stderr",
     "output_type": "stream",
     "text": [
      " TRAIN: 40it [04:47,  1.04it/s, loss=0.6610, acc=0.8652, batch_time=0.1526s]"
     ]
    },
    {
     "name": "stdout",
     "output_type": "stream",
     "text": [
      "Processed 38 in 0.1527 seconds\n",
      "Processed 39 in 0.1526 seconds\n"
     ]
    },
    {
     "name": "stderr",
     "output_type": "stream",
     "text": [
      " TRAIN: 41it [05:51, 20.01s/it, loss=0.5411, acc=0.9444, batch_time=0.0967s]"
     ]
    },
    {
     "name": "stdout",
     "output_type": "stream",
     "text": [
      "Processed 40 in 0.1742 seconds\n",
      "Processed 41 in 0.0967 seconds\n"
     ]
    },
    {
     "name": "stderr",
     "output_type": "stream",
     "text": [
      "\r                                                                            "
     ]
    },
    {
     "name": "stdout",
     "output_type": "stream",
     "text": [
      " TRAIN | Loss: 1.3526 | Accuracy: 0.6094\n"
     ]
    },
    {
     "name": "stderr",
     "output_type": "stream",
     "text": [
      " TEST: 1it [02:14, 134.33s/it, loss=0.5572, acc=0.8984, batch_time=0.0630s]"
     ]
    },
    {
     "name": "stdout",
     "output_type": "stream",
     "text": [
      "Processed 0 in 0.0630 seconds\n"
     ]
    },
    {
     "name": "stderr",
     "output_type": "stream",
     "text": [
      " TEST: 4it [02:15, 20.80s/it, loss=0.6245, acc=0.8574, batch_time=0.0572s]"
     ]
    },
    {
     "name": "stdout",
     "output_type": "stream",
     "text": [
      "Processed 1 in 0.0626 seconds\n",
      "Processed 2 in 0.0625 seconds\n",
      "Processed 3 in 0.0573 seconds\n",
      "Processed 4 in 0.0572 seconds\n"
     ]
    },
    {
     "name": "stderr",
     "output_type": "stream",
     "text": [
      " TEST: 8it [02:15,  6.59s/it, loss=0.6031, acc=0.8828, batch_time=0.0571s]"
     ]
    },
    {
     "name": "stdout",
     "output_type": "stream",
     "text": [
      "Processed 5 in 0.0572 seconds\n",
      "Processed 6 in 0.0572 seconds\n",
      "Processed 7 in 0.0573 seconds\n",
      "Processed 8 in 0.0571 seconds\n"
     ]
    },
    {
     "name": "stderr",
     "output_type": "stream",
     "text": [
      " TEST: 10it [02:15,  4.21s/it, loss=0.5369, acc=0.8965, batch_time=0.0573s]"
     ]
    },
    {
     "name": "stdout",
     "output_type": "stream",
     "text": [
      "Processed 9 in 0.0573 seconds\n"
     ]
    },
    {
     "name": "stderr",
     "output_type": "stream",
     "text": [
      "                                                                           "
     ]
    },
    {
     "name": "stdout",
     "output_type": "stream",
     "text": [
      "Processed 10 in 0.0358 seconds\n",
      " TEST | Loss: 0.5732 | Accuracy: 0.8880\n",
      "\n",
      " Epoch 2/15 | LR: 0.001000\n",
      "--------------------------------------------------\n"
     ]
    },
    {
     "name": "stderr",
     "output_type": "stream",
     "text": [
      " TRAIN: 2it [00:09,  3.87s/it, loss=0.5848, acc=0.8652, batch_time=0.1536s]"
     ]
    },
    {
     "name": "stdout",
     "output_type": "stream",
     "text": [
      "Processed 0 in 0.1740 seconds\n",
      "Processed 1 in 0.1536 seconds\n"
     ]
    },
    {
     "name": "stderr",
     "output_type": "stream",
     "text": [
      " TRAIN: 4it [00:09,  1.38s/it, loss=0.5202, acc=0.9023, batch_time=0.1535s]"
     ]
    },
    {
     "name": "stdout",
     "output_type": "stream",
     "text": [
      "Processed 2 in 0.1533 seconds\n",
      "Processed 3 in 0.1535 seconds\n"
     ]
    },
    {
     "name": "stderr",
     "output_type": "stream",
     "text": [
      " TRAIN: 6it [00:09,  1.48it/s, loss=0.5110, acc=0.9160, batch_time=0.1534s]"
     ]
    },
    {
     "name": "stdout",
     "output_type": "stream",
     "text": [
      "Processed 4 in 0.1532 seconds\n",
      "Processed 5 in 0.1534 seconds\n"
     ]
    },
    {
     "name": "stderr",
     "output_type": "stream",
     "text": [
      " TRAIN: 8it [00:10,  2.53it/s, loss=0.5235, acc=0.9004, batch_time=0.1534s]"
     ]
    },
    {
     "name": "stdout",
     "output_type": "stream",
     "text": [
      "Processed 6 in 0.1532 seconds\n",
      "Processed 7 in 0.1534 seconds\n"
     ]
    },
    {
     "name": "stderr",
     "output_type": "stream",
     "text": [
      " TRAIN: 10it [00:10,  3.70it/s, loss=0.5374, acc=0.8965, batch_time=0.1531s]"
     ]
    },
    {
     "name": "stdout",
     "output_type": "stream",
     "text": [
      "Processed 8 in 0.1530 seconds\n",
      "Processed 9 in 0.1531 seconds\n"
     ]
    },
    {
     "name": "stderr",
     "output_type": "stream",
     "text": [
      " TRAIN: 12it [00:17,  1.63s/it, loss=0.4542, acc=0.9297, batch_time=0.1535s]"
     ]
    },
    {
     "name": "stdout",
     "output_type": "stream",
     "text": [
      "Processed 10 in 0.1717 seconds\n",
      "Processed 11 in 0.1535 seconds\n"
     ]
    },
    {
     "name": "stderr",
     "output_type": "stream",
     "text": [
      " TRAIN: 14it [00:17,  1.14it/s, loss=0.4462, acc=0.9219, batch_time=0.1531s]"
     ]
    },
    {
     "name": "stdout",
     "output_type": "stream",
     "text": [
      "Processed 12 in 0.1535 seconds\n",
      "Processed 13 in 0.1531 seconds\n"
     ]
    },
    {
     "name": "stderr",
     "output_type": "stream",
     "text": [
      " TRAIN: 16it [00:18,  1.97it/s, loss=0.4286, acc=0.9141, batch_time=0.1531s]"
     ]
    },
    {
     "name": "stdout",
     "output_type": "stream",
     "text": [
      "Processed 14 in 0.1531 seconds\n",
      "Processed 15 in 0.1531 seconds\n"
     ]
    },
    {
     "name": "stderr",
     "output_type": "stream",
     "text": [
      " TRAIN: 18it [00:18,  3.04it/s, loss=0.4234, acc=0.9258, batch_time=0.1530s]"
     ]
    },
    {
     "name": "stdout",
     "output_type": "stream",
     "text": [
      "Processed 16 in 0.1530 seconds\n",
      "Processed 17 in 0.1530 seconds\n"
     ]
    },
    {
     "name": "stderr",
     "output_type": "stream",
     "text": [
      " TRAIN: 20it [00:18,  4.14it/s, loss=0.4185, acc=0.9199, batch_time=0.1530s]"
     ]
    },
    {
     "name": "stdout",
     "output_type": "stream",
     "text": [
      "Processed 18 in 0.1531 seconds\n",
      "Processed 19 in 0.1530 seconds\n"
     ]
    },
    {
     "name": "stderr",
     "output_type": "stream",
     "text": [
      " TRAIN: 22it [00:26,  1.63s/it, loss=0.4133, acc=0.9297, batch_time=0.1538s]"
     ]
    },
    {
     "name": "stdout",
     "output_type": "stream",
     "text": [
      "Processed 20 in 0.1744 seconds\n",
      "Processed 21 in 0.1538 seconds\n"
     ]
    },
    {
     "name": "stderr",
     "output_type": "stream",
     "text": [
      " TRAIN: 24it [00:26,  1.13it/s, loss=0.4169, acc=0.9199, batch_time=0.1545s]"
     ]
    },
    {
     "name": "stdout",
     "output_type": "stream",
     "text": [
      "Processed 22 in 0.1538 seconds\n",
      "Processed 23 in 0.1545 seconds\n"
     ]
    },
    {
     "name": "stderr",
     "output_type": "stream",
     "text": [
      " TRAIN: 26it [00:26,  1.95it/s, loss=0.3736, acc=0.9414, batch_time=0.1530s]"
     ]
    },
    {
     "name": "stdout",
     "output_type": "stream",
     "text": [
      "Processed 24 in 0.1536 seconds\n",
      "Processed 25 in 0.1530 seconds\n"
     ]
    },
    {
     "name": "stderr",
     "output_type": "stream",
     "text": [
      " TRAIN: 28it [00:26,  3.02it/s, loss=0.3998, acc=0.9141, batch_time=0.1530s]"
     ]
    },
    {
     "name": "stdout",
     "output_type": "stream",
     "text": [
      "Processed 26 in 0.1530 seconds\n",
      "Processed 27 in 0.1530 seconds\n"
     ]
    },
    {
     "name": "stderr",
     "output_type": "stream",
     "text": [
      " TRAIN: 30it [00:27,  4.12it/s, loss=0.3951, acc=0.9199, batch_time=0.1531s]"
     ]
    },
    {
     "name": "stdout",
     "output_type": "stream",
     "text": [
      "Processed 28 in 0.1531 seconds\n",
      "Processed 29 in 0.1531 seconds\n"
     ]
    },
    {
     "name": "stderr",
     "output_type": "stream",
     "text": [
      " TRAIN: 32it [00:34,  1.68s/it, loss=0.3844, acc=0.9160, batch_time=0.1536s]"
     ]
    },
    {
     "name": "stdout",
     "output_type": "stream",
     "text": [
      "Processed 30 in 0.1745 seconds\n",
      "Processed 31 in 0.1536 seconds\n"
     ]
    },
    {
     "name": "stderr",
     "output_type": "stream",
     "text": [
      " TRAIN: 34it [00:34,  1.11it/s, loss=0.3554, acc=0.9199, batch_time=0.1532s]"
     ]
    },
    {
     "name": "stdout",
     "output_type": "stream",
     "text": [
      "Processed 32 in 0.1530 seconds\n",
      "Processed 33 in 0.1532 seconds\n"
     ]
    },
    {
     "name": "stderr",
     "output_type": "stream",
     "text": [
      " TRAIN: 36it [00:35,  1.91it/s, loss=0.3473, acc=0.9336, batch_time=0.1534s]"
     ]
    },
    {
     "name": "stdout",
     "output_type": "stream",
     "text": [
      "Processed 34 in 0.1532 seconds\n",
      "Processed 35 in 0.1534 seconds\n"
     ]
    },
    {
     "name": "stderr",
     "output_type": "stream",
     "text": [
      " TRAIN: 38it [00:35,  2.97it/s, loss=0.3145, acc=0.9453, batch_time=0.1530s]"
     ]
    },
    {
     "name": "stdout",
     "output_type": "stream",
     "text": [
      "Processed 36 in 0.1530 seconds\n",
      "Processed 37 in 0.1530 seconds\n"
     ]
    },
    {
     "name": "stderr",
     "output_type": "stream",
     "text": [
      " TRAIN: 40it [00:35,  4.08it/s, loss=0.3626, acc=0.9180, batch_time=0.1530s]"
     ]
    },
    {
     "name": "stdout",
     "output_type": "stream",
     "text": [
      "Processed 38 in 0.1529 seconds\n",
      "Processed 39 in 0.1530 seconds\n"
     ]
    },
    {
     "name": "stderr",
     "output_type": "stream",
     "text": [
      "                                                                            "
     ]
    },
    {
     "name": "stdout",
     "output_type": "stream",
     "text": [
      "Processed 40 in 0.1530 seconds\n",
      "Processed 41 in 0.0197 seconds\n",
      " TRAIN | Loss: 0.4290 | Accuracy: 0.9183\n"
     ]
    },
    {
     "name": "stderr",
     "output_type": "stream",
     "text": [
      " TEST: 3it [00:09,  2.41s/it, loss=0.3628, acc=0.9062, batch_time=0.0574s]"
     ]
    },
    {
     "name": "stdout",
     "output_type": "stream",
     "text": [
      "Processed 0 in 0.0629 seconds\n",
      "Processed 1 in 0.0618 seconds\n",
      "Processed 2 in 0.0574 seconds\n",
      "Processed 3 in 0.0574 seconds\n"
     ]
    },
    {
     "name": "stderr",
     "output_type": "stream",
     "text": [
      " TEST: 7it [00:09,  1.38it/s, loss=0.2895, acc=0.9395, batch_time=0.0573s]"
     ]
    },
    {
     "name": "stdout",
     "output_type": "stream",
     "text": [
      "Processed 4 in 0.0574 seconds\n",
      "Processed 5 in 0.0573 seconds\n",
      "Processed 6 in 0.0575 seconds\n",
      "Processed 7 in 0.0573 seconds\n"
     ]
    },
    {
     "name": "stderr",
     "output_type": "stream",
     "text": [
      "                                                                          "
     ]
    },
    {
     "name": "stdout",
     "output_type": "stream",
     "text": [
      "Processed 8 in 0.0572 seconds\n",
      "Processed 9 in 0.0573 seconds\n",
      "Processed 10 in 0.0143 seconds\n",
      " TEST | Loss: 0.3232 | Accuracy: 0.9269\n",
      "\n",
      " Epoch 3/15 | LR: 0.001000\n",
      "--------------------------------------------------\n"
     ]
    },
    {
     "name": "stderr",
     "output_type": "stream",
     "text": [
      " TRAIN: 2it [00:09,  3.85s/it, loss=0.3294, acc=0.9238, batch_time=0.1586s]"
     ]
    },
    {
     "name": "stdout",
     "output_type": "stream",
     "text": [
      "Processed 0 in 0.1759 seconds\n",
      "Processed 1 in 0.1586 seconds\n"
     ]
    },
    {
     "name": "stderr",
     "output_type": "stream",
     "text": [
      " TRAIN: 4it [00:09,  1.37s/it, loss=0.3000, acc=0.9453, batch_time=0.1535s]"
     ]
    },
    {
     "name": "stdout",
     "output_type": "stream",
     "text": [
      "Processed 2 in 0.1530 seconds\n",
      "Processed 3 in 0.1535 seconds\n"
     ]
    },
    {
     "name": "stderr",
     "output_type": "stream",
     "text": [
      " TRAIN: 6it [00:09,  1.49it/s, loss=0.3147, acc=0.9395, batch_time=0.1536s]"
     ]
    },
    {
     "name": "stdout",
     "output_type": "stream",
     "text": [
      "Processed 4 in 0.1534 seconds\n",
      "Processed 5 in 0.1536 seconds\n"
     ]
    },
    {
     "name": "stderr",
     "output_type": "stream",
     "text": [
      " TRAIN: 8it [00:10,  2.54it/s, loss=0.3309, acc=0.9121, batch_time=0.1530s]"
     ]
    },
    {
     "name": "stdout",
     "output_type": "stream",
     "text": [
      "Processed 6 in 0.1530 seconds\n",
      "Processed 7 in 0.1530 seconds\n"
     ]
    },
    {
     "name": "stderr",
     "output_type": "stream",
     "text": [
      " TRAIN: 10it [00:10,  3.70it/s, loss=0.2843, acc=0.9492, batch_time=0.1535s]"
     ]
    },
    {
     "name": "stdout",
     "output_type": "stream",
     "text": [
      "Processed 8 in 0.1531 seconds\n",
      "Processed 9 in 0.1535 seconds\n"
     ]
    },
    {
     "name": "stderr",
     "output_type": "stream",
     "text": [
      " TRAIN: 12it [00:17,  1.73s/it, loss=0.2922, acc=0.9336, batch_time=0.1532s]"
     ]
    },
    {
     "name": "stdout",
     "output_type": "stream",
     "text": [
      "Processed 10 in 0.1734 seconds\n",
      "Processed 11 in 0.1532 seconds\n"
     ]
    },
    {
     "name": "stderr",
     "output_type": "stream",
     "text": [
      " TRAIN: 14it [00:18,  1.08it/s, loss=0.2670, acc=0.9590, batch_time=0.1532s]"
     ]
    },
    {
     "name": "stdout",
     "output_type": "stream",
     "text": [
      "Processed 12 in 0.1532 seconds\n",
      "Processed 13 in 0.1532 seconds\n"
     ]
    },
    {
     "name": "stderr",
     "output_type": "stream",
     "text": [
      " TRAIN: 16it [00:18,  1.88it/s, loss=0.2762, acc=0.9414, batch_time=0.1535s]"
     ]
    },
    {
     "name": "stdout",
     "output_type": "stream",
     "text": [
      "Processed 14 in 0.1538 seconds\n",
      "Processed 15 in 0.1535 seconds\n"
     ]
    },
    {
     "name": "stderr",
     "output_type": "stream",
     "text": [
      " TRAIN: 18it [00:18,  2.94it/s, loss=0.2571, acc=0.9570, batch_time=0.1531s]"
     ]
    },
    {
     "name": "stdout",
     "output_type": "stream",
     "text": [
      "Processed 16 in 0.1531 seconds\n",
      "Processed 17 in 0.1531 seconds\n"
     ]
    },
    {
     "name": "stderr",
     "output_type": "stream",
     "text": [
      " TRAIN: 20it [00:19,  4.04it/s, loss=0.3306, acc=0.9219, batch_time=0.1531s]"
     ]
    },
    {
     "name": "stdout",
     "output_type": "stream",
     "text": [
      "Processed 18 in 0.1537 seconds\n",
      "Processed 19 in 0.1531 seconds\n"
     ]
    },
    {
     "name": "stderr",
     "output_type": "stream",
     "text": [
      " TRAIN: 22it [00:26,  1.72s/it, loss=0.2826, acc=0.9434, batch_time=0.1568s]"
     ]
    },
    {
     "name": "stdout",
     "output_type": "stream",
     "text": [
      "Processed 20 in 0.1744 seconds\n",
      "Processed 21 in 0.1568 seconds\n"
     ]
    },
    {
     "name": "stderr",
     "output_type": "stream",
     "text": [
      " TRAIN: 24it [00:27,  1.09it/s, loss=0.2813, acc=0.9492, batch_time=0.1536s]"
     ]
    },
    {
     "name": "stdout",
     "output_type": "stream",
     "text": [
      "Processed 22 in 0.1531 seconds\n",
      "Processed 23 in 0.1536 seconds\n"
     ]
    },
    {
     "name": "stderr",
     "output_type": "stream",
     "text": [
      " TRAIN: 26it [00:27,  1.88it/s, loss=0.2878, acc=0.9375, batch_time=0.1531s]"
     ]
    },
    {
     "name": "stdout",
     "output_type": "stream",
     "text": [
      "Processed 24 in 0.1537 seconds\n",
      "Processed 25 in 0.1531 seconds\n"
     ]
    },
    {
     "name": "stderr",
     "output_type": "stream",
     "text": [
      " TRAIN: 28it [00:27,  2.93it/s, loss=0.2608, acc=0.9492, batch_time=0.1531s]"
     ]
    },
    {
     "name": "stdout",
     "output_type": "stream",
     "text": [
      "Processed 26 in 0.1537 seconds\n",
      "Processed 27 in 0.1531 seconds\n"
     ]
    },
    {
     "name": "stderr",
     "output_type": "stream",
     "text": [
      " TRAIN: 30it [00:28,  4.03it/s, loss=0.2523, acc=0.9414, batch_time=0.1539s]"
     ]
    },
    {
     "name": "stdout",
     "output_type": "stream",
     "text": [
      "Processed 28 in 0.1531 seconds\n",
      "Processed 29 in 0.1539 seconds\n"
     ]
    },
    {
     "name": "stderr",
     "output_type": "stream",
     "text": [
      " TRAIN: 32it [00:34,  1.60s/it, loss=0.2911, acc=0.9355, batch_time=0.1580s]"
     ]
    },
    {
     "name": "stdout",
     "output_type": "stream",
     "text": [
      "Processed 30 in 0.1744 seconds\n",
      "Processed 31 in 0.1580 seconds\n"
     ]
    },
    {
     "name": "stderr",
     "output_type": "stream",
     "text": [
      " TRAIN: 34it [00:35,  1.16it/s, loss=0.2705, acc=0.9453, batch_time=0.1532s]"
     ]
    },
    {
     "name": "stdout",
     "output_type": "stream",
     "text": [
      "Processed 32 in 0.1535 seconds\n",
      "Processed 33 in 0.1532 seconds\n"
     ]
    },
    {
     "name": "stderr",
     "output_type": "stream",
     "text": [
      " TRAIN: 36it [00:35,  1.99it/s, loss=0.2838, acc=0.9160, batch_time=0.1530s]"
     ]
    },
    {
     "name": "stdout",
     "output_type": "stream",
     "text": [
      "Processed 34 in 0.1530 seconds\n",
      "Processed 35 in 0.1530 seconds\n"
     ]
    },
    {
     "name": "stderr",
     "output_type": "stream",
     "text": [
      " TRAIN: 38it [00:35,  3.06it/s, loss=0.2625, acc=0.9434, batch_time=0.1530s]"
     ]
    },
    {
     "name": "stdout",
     "output_type": "stream",
     "text": [
      "Processed 36 in 0.1531 seconds\n",
      "Processed 37 in 0.1530 seconds\n"
     ]
    },
    {
     "name": "stderr",
     "output_type": "stream",
     "text": [
      " TRAIN: 40it [00:36,  4.16it/s, loss=0.2406, acc=0.9590, batch_time=0.1531s]"
     ]
    },
    {
     "name": "stdout",
     "output_type": "stream",
     "text": [
      "Processed 38 in 0.1531 seconds\n",
      "Processed 39 in 0.1531 seconds\n"
     ]
    },
    {
     "name": "stderr",
     "output_type": "stream",
     "text": [
      "                                                                            "
     ]
    },
    {
     "name": "stdout",
     "output_type": "stream",
     "text": [
      "Processed 40 in 0.1532 seconds\n",
      "Processed 41 in 0.0242 seconds\n",
      " TRAIN | Loss: 0.2846 | Accuracy: 0.9394\n"
     ]
    },
    {
     "name": "stderr",
     "output_type": "stream",
     "text": [
      " TEST: 3it [00:08,  2.30s/it, loss=0.2303, acc=0.9648, batch_time=0.0574s]"
     ]
    },
    {
     "name": "stdout",
     "output_type": "stream",
     "text": [
      "Processed 0 in 0.0628 seconds\n",
      "Processed 1 in 0.0603 seconds\n",
      "Processed 2 in 0.0574 seconds\n"
     ]
    },
    {
     "name": "stderr",
     "output_type": "stream",
     "text": [
      " TEST: 6it [00:09,  1.11it/s, loss=0.2754, acc=0.9434, batch_time=0.0573s]"
     ]
    },
    {
     "name": "stdout",
     "output_type": "stream",
     "text": [
      "Processed 3 in 0.0574 seconds\n",
      "Processed 4 in 0.0573 seconds\n",
      "Processed 5 in 0.0573 seconds\n",
      "Processed 6 in 0.0573 seconds\n"
     ]
    },
    {
     "name": "stderr",
     "output_type": "stream",
     "text": [
      " TEST: 10it [00:09,  2.70it/s, loss=0.2390, acc=0.9421, batch_time=0.0143s]"
     ]
    },
    {
     "name": "stdout",
     "output_type": "stream",
     "text": [
      "Processed 7 in 0.0573 seconds\n",
      "Processed 8 in 0.0573 seconds\n",
      "Processed 9 in 0.0572 seconds\n",
      "Processed 10 in 0.0143 seconds\n"
     ]
    },
    {
     "name": "stderr",
     "output_type": "stream",
     "text": [
      "\r                                                                           "
     ]
    },
    {
     "name": "stdout",
     "output_type": "stream",
     "text": [
      " TEST | Loss: 0.2516 | Accuracy: 0.9410\n",
      "\n",
      " Epoch 4/15 | LR: 0.001000\n",
      "--------------------------------------------------\n"
     ]
    },
    {
     "name": "stderr",
     "output_type": "stream",
     "text": [
      " TRAIN: 1it [00:09,  9.61s/it, loss=0.2612, acc=0.9375, batch_time=0.1761s]"
     ]
    },
    {
     "name": "stdout",
     "output_type": "stream",
     "text": [
      "Processed 0 in 0.1761 seconds\n"
     ]
    },
    {
     "name": "stderr",
     "output_type": "stream",
     "text": [
      " TRAIN: 3it [00:10,  2.34s/it, loss=0.2321, acc=0.9473, batch_time=0.1532s]"
     ]
    },
    {
     "name": "stdout",
     "output_type": "stream",
     "text": [
      "Processed 1 in 0.1544 seconds\n",
      "Processed 2 in 0.1532 seconds\n"
     ]
    },
    {
     "name": "stderr",
     "output_type": "stream",
     "text": [
      " TRAIN: 5it [00:10,  1.00s/it, loss=0.2322, acc=0.9512, batch_time=0.1530s]"
     ]
    },
    {
     "name": "stdout",
     "output_type": "stream",
     "text": [
      "Processed 3 in 0.1530 seconds\n",
      "Processed 4 in 0.1530 seconds\n"
     ]
    },
    {
     "name": "stderr",
     "output_type": "stream",
     "text": [
      " TRAIN: 7it [00:10,  1.88it/s, loss=0.2948, acc=0.9238, batch_time=0.1532s]"
     ]
    },
    {
     "name": "stdout",
     "output_type": "stream",
     "text": [
      "Processed 5 in 0.1537 seconds\n",
      "Processed 6 in 0.1532 seconds\n"
     ]
    },
    {
     "name": "stderr",
     "output_type": "stream",
     "text": [
      " TRAIN: 9it [00:11,  3.00it/s, loss=0.2575, acc=0.9375, batch_time=0.1530s]"
     ]
    },
    {
     "name": "stdout",
     "output_type": "stream",
     "text": [
      "Processed 7 in 0.1535 seconds\n",
      "Processed 8 in 0.1530 seconds\n"
     ]
    },
    {
     "name": "stderr",
     "output_type": "stream",
     "text": [
      " TRAIN: 10it [00:11,  3.58it/s, loss=0.2248, acc=0.9570, batch_time=0.1532s]"
     ]
    },
    {
     "name": "stdout",
     "output_type": "stream",
     "text": [
      "Processed 9 in 0.1532 seconds\n"
     ]
    },
    {
     "name": "stderr",
     "output_type": "stream",
     "text": [
      " TRAIN: 11it [00:17,  2.03s/it, loss=0.2058, acc=0.9648, batch_time=0.1744s]"
     ]
    },
    {
     "name": "stdout",
     "output_type": "stream",
     "text": [
      "Processed 10 in 0.1744 seconds\n"
     ]
    },
    {
     "name": "stderr",
     "output_type": "stream",
     "text": [
      " TRAIN: 13it [00:18,  1.25s/it, loss=0.2125, acc=0.9648, batch_time=0.1531s]"
     ]
    },
    {
     "name": "stdout",
     "output_type": "stream",
     "text": [
      "Processed 11 in 0.1532 seconds\n",
      "Processed 12 in 0.1531 seconds\n"
     ]
    },
    {
     "name": "stderr",
     "output_type": "stream",
     "text": [
      " TRAIN: 15it [00:18,  1.45it/s, loss=0.1979, acc=0.9688, batch_time=0.1532s]"
     ]
    },
    {
     "name": "stdout",
     "output_type": "stream",
     "text": [
      "Processed 13 in 0.1538 seconds\n",
      "Processed 14 in 0.1532 seconds\n"
     ]
    },
    {
     "name": "stderr",
     "output_type": "stream",
     "text": [
      " TRAIN: 17it [00:19,  2.38it/s, loss=0.2413, acc=0.9512, batch_time=0.1539s]"
     ]
    },
    {
     "name": "stdout",
     "output_type": "stream",
     "text": [
      "Processed 15 in 0.1535 seconds\n",
      "Processed 16 in 0.1539 seconds\n"
     ]
    },
    {
     "name": "stderr",
     "output_type": "stream",
     "text": [
      " TRAIN: 19it [00:19,  3.50it/s, loss=0.2045, acc=0.9512, batch_time=0.1532s]"
     ]
    },
    {
     "name": "stdout",
     "output_type": "stream",
     "text": [
      "Processed 17 in 0.1532 seconds\n",
      "Processed 18 in 0.1532 seconds\n"
     ]
    },
    {
     "name": "stderr",
     "output_type": "stream",
     "text": [
      " TRAIN: 20it [00:19,  4.04it/s, loss=0.2124, acc=0.9473, batch_time=0.1537s]"
     ]
    },
    {
     "name": "stdout",
     "output_type": "stream",
     "text": [
      "Processed 19 in 0.1537 seconds\n"
     ]
    },
    {
     "name": "stderr",
     "output_type": "stream",
     "text": [
      " TRAIN: 21it [00:25,  1.99s/it, loss=0.1818, acc=0.9707, batch_time=0.1743s]"
     ]
    },
    {
     "name": "stdout",
     "output_type": "stream",
     "text": [
      "Processed 20 in 0.1743 seconds\n"
     ]
    },
    {
     "name": "stderr",
     "output_type": "stream",
     "text": [
      " TRAIN: 23it [00:26,  1.22s/it, loss=0.2240, acc=0.9434, batch_time=0.1532s]"
     ]
    },
    {
     "name": "stdout",
     "output_type": "stream",
     "text": [
      "Processed 21 in 0.1568 seconds\n",
      "Processed 22 in 0.1532 seconds\n"
     ]
    },
    {
     "name": "stderr",
     "output_type": "stream",
     "text": [
      " TRAIN: 25it [00:26,  1.48it/s, loss=0.2226, acc=0.9492, batch_time=0.1538s]"
     ]
    },
    {
     "name": "stdout",
     "output_type": "stream",
     "text": [
      "Processed 23 in 0.1537 seconds\n",
      "Processed 24 in 0.1538 seconds\n"
     ]
    },
    {
     "name": "stderr",
     "output_type": "stream",
     "text": [
      " TRAIN: 27it [00:27,  2.43it/s, loss=0.2379, acc=0.9395, batch_time=0.1531s]"
     ]
    },
    {
     "name": "stdout",
     "output_type": "stream",
     "text": [
      "Processed 25 in 0.1531 seconds\n",
      "Processed 26 in 0.1531 seconds\n"
     ]
    },
    {
     "name": "stderr",
     "output_type": "stream",
     "text": [
      " TRAIN: 29it [00:27,  3.55it/s, loss=0.2019, acc=0.9512, batch_time=0.1530s]"
     ]
    },
    {
     "name": "stdout",
     "output_type": "stream",
     "text": [
      "Processed 27 in 0.1531 seconds\n",
      "Processed 28 in 0.1530 seconds\n"
     ]
    },
    {
     "name": "stderr",
     "output_type": "stream",
     "text": [
      " TRAIN: 30it [00:27,  4.09it/s, loss=0.1991, acc=0.9434, batch_time=0.1530s]"
     ]
    },
    {
     "name": "stdout",
     "output_type": "stream",
     "text": [
      "Processed 29 in 0.1530 seconds\n"
     ]
    },
    {
     "name": "stderr",
     "output_type": "stream",
     "text": [
      " TRAIN: 32it [00:34,  1.57s/it, loss=0.1973, acc=0.9590, batch_time=0.1605s]"
     ]
    },
    {
     "name": "stdout",
     "output_type": "stream",
     "text": [
      "Processed 30 in 0.1744 seconds\n",
      "Processed 31 in 0.1605 seconds\n"
     ]
    },
    {
     "name": "stderr",
     "output_type": "stream",
     "text": [
      " TRAIN: 34it [00:34,  1.18it/s, loss=0.2592, acc=0.9414, batch_time=0.1532s]"
     ]
    },
    {
     "name": "stdout",
     "output_type": "stream",
     "text": [
      "Processed 32 in 0.1532 seconds\n",
      "Processed 33 in 0.1532 seconds\n"
     ]
    },
    {
     "name": "stderr",
     "output_type": "stream",
     "text": [
      " TRAIN: 36it [00:35,  2.01it/s, loss=0.2268, acc=0.9395, batch_time=0.1533s]"
     ]
    },
    {
     "name": "stdout",
     "output_type": "stream",
     "text": [
      "Processed 34 in 0.1533 seconds\n",
      "Processed 35 in 0.1533 seconds\n"
     ]
    },
    {
     "name": "stderr",
     "output_type": "stream",
     "text": [
      " TRAIN: 38it [00:35,  3.09it/s, loss=0.2187, acc=0.9531, batch_time=0.1533s]"
     ]
    },
    {
     "name": "stdout",
     "output_type": "stream",
     "text": [
      "Processed 36 in 0.1529 seconds\n",
      "Processed 37 in 0.1533 seconds\n"
     ]
    },
    {
     "name": "stderr",
     "output_type": "stream",
     "text": [
      " TRAIN: 40it [00:35,  4.19it/s, loss=0.1962, acc=0.9590, batch_time=0.1530s]"
     ]
    },
    {
     "name": "stdout",
     "output_type": "stream",
     "text": [
      "Processed 38 in 0.1532 seconds\n",
      "Processed 39 in 0.1530 seconds\n"
     ]
    },
    {
     "name": "stderr",
     "output_type": "stream",
     "text": [
      "                                                                            "
     ]
    },
    {
     "name": "stdout",
     "output_type": "stream",
     "text": [
      "Processed 40 in 0.1531 seconds\n",
      "Processed 41 in 0.0228 seconds\n",
      " TRAIN | Loss: 0.2270 | Accuracy: 0.9482\n"
     ]
    },
    {
     "name": "stderr",
     "output_type": "stream",
     "text": [
      " TEST: 3it [00:09,  2.39s/it, loss=0.2236, acc=0.9473, batch_time=0.0625s]"
     ]
    },
    {
     "name": "stdout",
     "output_type": "stream",
     "text": [
      "Processed 0 in 0.0629 seconds\n",
      "Processed 1 in 0.0625 seconds\n",
      "Processed 2 in 0.0625 seconds\n",
      "Processed 3 in 0.0625 seconds\n"
     ]
    },
    {
     "name": "stderr",
     "output_type": "stream",
     "text": [
      " TEST: 7it [00:09,  1.40it/s, loss=0.2035, acc=0.9434, batch_time=0.0573s]"
     ]
    },
    {
     "name": "stdout",
     "output_type": "stream",
     "text": [
      "Processed 4 in 0.0573 seconds\n",
      "Processed 5 in 0.0573 seconds\n",
      "Processed 6 in 0.0573 seconds\n",
      "Processed 7 in 0.0573 seconds\n"
     ]
    },
    {
     "name": "stderr",
     "output_type": "stream",
     "text": [
      "                                                                          "
     ]
    },
    {
     "name": "stdout",
     "output_type": "stream",
     "text": [
      "Processed 8 in 0.0573 seconds\n",
      "Processed 9 in 0.0575 seconds\n",
      "Processed 10 in 0.0143 seconds\n",
      " TEST | Loss: 0.2125 | Accuracy: 0.9477\n",
      "\n",
      " Epoch 5/15 | LR: 0.001000\n",
      "--------------------------------------------------\n"
     ]
    },
    {
     "name": "stderr",
     "output_type": "stream",
     "text": [
      " TRAIN: 1it [00:08,  8.80s/it, loss=0.2091, acc=0.9570, batch_time=0.1708s]"
     ]
    },
    {
     "name": "stdout",
     "output_type": "stream",
     "text": [
      "Processed 0 in 0.1708 seconds\n"
     ]
    },
    {
     "name": "stderr",
     "output_type": "stream",
     "text": [
      " TRAIN: 3it [00:09,  2.28s/it, loss=0.2017, acc=0.9453, batch_time=0.1536s]"
     ]
    },
    {
     "name": "stdout",
     "output_type": "stream",
     "text": [
      "Processed 1 in 0.1540 seconds\n",
      "Processed 2 in 0.1536 seconds\n"
     ]
    },
    {
     "name": "stderr",
     "output_type": "stream",
     "text": [
      " TRAIN: 5it [00:10,  1.02it/s, loss=0.1777, acc=0.9531, batch_time=0.1531s]"
     ]
    },
    {
     "name": "stdout",
     "output_type": "stream",
     "text": [
      "Processed 3 in 0.1534 seconds\n",
      "Processed 4 in 0.1531 seconds\n"
     ]
    },
    {
     "name": "stderr",
     "output_type": "stream",
     "text": [
      " TRAIN: 7it [00:10,  1.91it/s, loss=0.2401, acc=0.9453, batch_time=0.1530s]"
     ]
    },
    {
     "name": "stdout",
     "output_type": "stream",
     "text": [
      "Processed 5 in 0.1536 seconds\n",
      "Processed 6 in 0.1530 seconds\n"
     ]
    },
    {
     "name": "stderr",
     "output_type": "stream",
     "text": [
      " TRAIN: 9it [00:10,  3.03it/s, loss=0.1896, acc=0.9668, batch_time=0.1539s]"
     ]
    },
    {
     "name": "stdout",
     "output_type": "stream",
     "text": [
      "Processed 7 in 0.1530 seconds\n",
      "Processed 8 in 0.1539 seconds\n"
     ]
    },
    {
     "name": "stderr",
     "output_type": "stream",
     "text": [
      " TRAIN: 10it [00:10,  3.61it/s, loss=0.2098, acc=0.9434, batch_time=0.1535s]"
     ]
    },
    {
     "name": "stdout",
     "output_type": "stream",
     "text": [
      "Processed 9 in 0.1535 seconds\n"
     ]
    },
    {
     "name": "stderr",
     "output_type": "stream",
     "text": [
      " TRAIN: 11it [00:16,  1.98s/it, loss=0.1906, acc=0.9668, batch_time=0.1664s]"
     ]
    },
    {
     "name": "stdout",
     "output_type": "stream",
     "text": [
      "Processed 10 in 0.1664 seconds\n"
     ]
    },
    {
     "name": "stderr",
     "output_type": "stream",
     "text": [
      " TRAIN: 13it [00:18,  1.31s/it, loss=0.1973, acc=0.9551, batch_time=0.1538s]"
     ]
    },
    {
     "name": "stdout",
     "output_type": "stream",
     "text": [
      "Processed 11 in 0.1535 seconds\n",
      "Processed 12 in 0.1538 seconds\n"
     ]
    },
    {
     "name": "stderr",
     "output_type": "stream",
     "text": [
      " TRAIN: 15it [00:18,  1.39it/s, loss=0.1548, acc=0.9609, batch_time=0.1538s]"
     ]
    },
    {
     "name": "stdout",
     "output_type": "stream",
     "text": [
      "Processed 13 in 0.1530 seconds\n",
      "Processed 14 in 0.1538 seconds\n"
     ]
    },
    {
     "name": "stderr",
     "output_type": "stream",
     "text": [
      " TRAIN: 17it [00:18,  2.31it/s, loss=0.1749, acc=0.9609, batch_time=0.1533s]"
     ]
    },
    {
     "name": "stdout",
     "output_type": "stream",
     "text": [
      "Processed 15 in 0.1537 seconds\n",
      "Processed 16 in 0.1533 seconds\n"
     ]
    },
    {
     "name": "stderr",
     "output_type": "stream",
     "text": [
      " TRAIN: 19it [00:19,  3.43it/s, loss=0.2037, acc=0.9492, batch_time=0.1531s]"
     ]
    },
    {
     "name": "stdout",
     "output_type": "stream",
     "text": [
      "Processed 17 in 0.1536 seconds\n",
      "Processed 18 in 0.1531 seconds\n"
     ]
    },
    {
     "name": "stderr",
     "output_type": "stream",
     "text": [
      " TRAIN: 20it [00:19,  3.97it/s, loss=0.1943, acc=0.9648, batch_time=0.1532s]"
     ]
    },
    {
     "name": "stdout",
     "output_type": "stream",
     "text": [
      "Processed 19 in 0.1532 seconds\n"
     ]
    },
    {
     "name": "stderr",
     "output_type": "stream",
     "text": [
      " TRAIN: 21it [00:25,  1.88s/it, loss=0.1858, acc=0.9531, batch_time=0.1751s]"
     ]
    },
    {
     "name": "stdout",
     "output_type": "stream",
     "text": [
      "Processed 20 in 0.1751 seconds\n"
     ]
    },
    {
     "name": "stderr",
     "output_type": "stream",
     "text": [
      " TRAIN: 23it [00:26,  1.28s/it, loss=0.2068, acc=0.9512, batch_time=0.1535s]"
     ]
    },
    {
     "name": "stdout",
     "output_type": "stream",
     "text": [
      "Processed 21 in 0.1532 seconds\n",
      "Processed 22 in 0.1535 seconds\n"
     ]
    },
    {
     "name": "stderr",
     "output_type": "stream",
     "text": [
      " TRAIN: 25it [00:26,  1.42it/s, loss=0.1883, acc=0.9609, batch_time=0.1529s]"
     ]
    },
    {
     "name": "stdout",
     "output_type": "stream",
     "text": [
      "Processed 23 in 0.1531 seconds\n",
      "Processed 24 in 0.1529 seconds\n"
     ]
    },
    {
     "name": "stderr",
     "output_type": "stream",
     "text": [
      " TRAIN: 27it [00:27,  2.35it/s, loss=0.1933, acc=0.9570, batch_time=0.1533s]"
     ]
    },
    {
     "name": "stdout",
     "output_type": "stream",
     "text": [
      "Processed 25 in 0.1530 seconds\n",
      "Processed 26 in 0.1533 seconds\n"
     ]
    },
    {
     "name": "stderr",
     "output_type": "stream",
     "text": [
      " TRAIN: 29it [00:27,  3.46it/s, loss=0.1875, acc=0.9531, batch_time=0.1530s]"
     ]
    },
    {
     "name": "stdout",
     "output_type": "stream",
     "text": [
      "Processed 27 in 0.1530 seconds\n",
      "Processed 28 in 0.1530 seconds\n"
     ]
    },
    {
     "name": "stderr",
     "output_type": "stream",
     "text": [
      " TRAIN: 30it [00:27,  4.00it/s, loss=0.1855, acc=0.9688, batch_time=0.1535s]"
     ]
    },
    {
     "name": "stdout",
     "output_type": "stream",
     "text": [
      "Processed 29 in 0.1535 seconds\n"
     ]
    },
    {
     "name": "stderr",
     "output_type": "stream",
     "text": [
      " TRAIN: 31it [00:33,  1.94s/it, loss=0.1708, acc=0.9570, batch_time=0.1746s]"
     ]
    },
    {
     "name": "stdout",
     "output_type": "stream",
     "text": [
      "Processed 30 in 0.1746 seconds\n"
     ]
    },
    {
     "name": "stderr",
     "output_type": "stream",
     "text": [
      " TRAIN: 33it [00:34,  1.18s/it, loss=0.1880, acc=0.9590, batch_time=0.1537s]"
     ]
    },
    {
     "name": "stdout",
     "output_type": "stream",
     "text": [
      "Processed 31 in 0.1538 seconds\n",
      "Processed 32 in 0.1537 seconds\n"
     ]
    },
    {
     "name": "stderr",
     "output_type": "stream",
     "text": [
      " TRAIN: 35it [00:34,  1.51it/s, loss=0.2014, acc=0.9551, batch_time=0.1534s]"
     ]
    },
    {
     "name": "stdout",
     "output_type": "stream",
     "text": [
      "Processed 33 in 0.1531 seconds\n",
      "Processed 34 in 0.1534 seconds\n"
     ]
    },
    {
     "name": "stderr",
     "output_type": "stream",
     "text": [
      " TRAIN: 37it [00:35,  2.48it/s, loss=0.1677, acc=0.9648, batch_time=0.1531s]"
     ]
    },
    {
     "name": "stdout",
     "output_type": "stream",
     "text": [
      "Processed 35 in 0.1529 seconds\n",
      "Processed 36 in 0.1531 seconds\n"
     ]
    },
    {
     "name": "stderr",
     "output_type": "stream",
     "text": [
      " TRAIN: 39it [00:35,  3.60it/s, loss=0.1804, acc=0.9629, batch_time=0.1532s]"
     ]
    },
    {
     "name": "stdout",
     "output_type": "stream",
     "text": [
      "Processed 37 in 0.1530 seconds\n",
      "Processed 38 in 0.1532 seconds\n"
     ]
    },
    {
     "name": "stderr",
     "output_type": "stream",
     "text": [
      " TRAIN: 40it [00:35,  4.13it/s, loss=0.1742, acc=0.9570, batch_time=0.1529s]"
     ]
    },
    {
     "name": "stdout",
     "output_type": "stream",
     "text": [
      "Processed 39 in 0.1529 seconds\n"
     ]
    },
    {
     "name": "stderr",
     "output_type": "stream",
     "text": [
      "                                                                            "
     ]
    },
    {
     "name": "stdout",
     "output_type": "stream",
     "text": [
      "Processed 40 in 0.1532 seconds\n",
      "Processed 41 in 0.0191 seconds\n",
      " TRAIN | Loss: 0.1937 | Accuracy: 0.9549\n"
     ]
    },
    {
     "name": "stderr",
     "output_type": "stream",
     "text": [
      " TEST: 1it [00:08,  8.98s/it, loss=0.1960, acc=0.9531, batch_time=0.0627s]"
     ]
    },
    {
     "name": "stdout",
     "output_type": "stream",
     "text": [
      "Processed 0 in 0.0627 seconds\n"
     ]
    },
    {
     "name": "stderr",
     "output_type": "stream",
     "text": [
      " TEST: 4it [00:09,  1.56s/it, loss=0.1816, acc=0.9551, batch_time=0.0573s]"
     ]
    },
    {
     "name": "stdout",
     "output_type": "stream",
     "text": [
      "Processed 1 in 0.0625 seconds\n",
      "Processed 2 in 0.0629 seconds\n",
      "Processed 3 in 0.0578 seconds\n",
      "Processed 4 in 0.0573 seconds\n"
     ]
    },
    {
     "name": "stderr",
     "output_type": "stream",
     "text": [
      " TEST: 8it [00:10,  1.87it/s, loss=0.1974, acc=0.9434, batch_time=0.0573s]"
     ]
    },
    {
     "name": "stdout",
     "output_type": "stream",
     "text": [
      "Processed 5 in 0.0573 seconds\n",
      "Processed 6 in 0.0573 seconds\n",
      "Processed 7 in 0.0574 seconds\n",
      "Processed 8 in 0.0573 seconds\n"
     ]
    },
    {
     "name": "stderr",
     "output_type": "stream",
     "text": [
      "                                                                           "
     ]
    },
    {
     "name": "stdout",
     "output_type": "stream",
     "text": [
      "Processed 9 in 0.0573 seconds\n",
      "Processed 10 in 0.0143 seconds\n",
      " TEST | Loss: 0.1903 | Accuracy: 0.9525\n",
      "\n",
      " Epoch 6/15 | LR: 0.001000\n",
      "--------------------------------------------------\n"
     ]
    },
    {
     "name": "stderr",
     "output_type": "stream",
     "text": [
      " TRAIN: 2it [00:09,  3.83s/it, loss=0.1999, acc=0.9531, batch_time=0.1550s]"
     ]
    },
    {
     "name": "stdout",
     "output_type": "stream",
     "text": [
      "Processed 0 in 0.1753 seconds\n",
      "Processed 1 in 0.1550 seconds\n"
     ]
    },
    {
     "name": "stderr",
     "output_type": "stream",
     "text": [
      " TRAIN: 4it [00:09,  1.37s/it, loss=0.2027, acc=0.9531, batch_time=0.1533s]"
     ]
    },
    {
     "name": "stdout",
     "output_type": "stream",
     "text": [
      "Processed 2 in 0.1536 seconds\n",
      "Processed 3 in 0.1533 seconds\n"
     ]
    },
    {
     "name": "stderr",
     "output_type": "stream",
     "text": [
      " TRAIN: 6it [00:09,  1.50it/s, loss=0.1559, acc=0.9688, batch_time=0.1531s]"
     ]
    },
    {
     "name": "stdout",
     "output_type": "stream",
     "text": [
      "Processed 4 in 0.1535 seconds\n",
      "Processed 5 in 0.1531 seconds\n"
     ]
    },
    {
     "name": "stderr",
     "output_type": "stream",
     "text": [
      " TRAIN: 8it [00:10,  2.55it/s, loss=0.1851, acc=0.9551, batch_time=0.1534s]"
     ]
    },
    {
     "name": "stdout",
     "output_type": "stream",
     "text": [
      "Processed 6 in 0.1530 seconds\n",
      "Processed 7 in 0.1534 seconds\n"
     ]
    },
    {
     "name": "stderr",
     "output_type": "stream",
     "text": [
      " TRAIN: 10it [00:10,  3.71it/s, loss=0.1866, acc=0.9492, batch_time=0.1531s]"
     ]
    },
    {
     "name": "stdout",
     "output_type": "stream",
     "text": [
      "Processed 8 in 0.1532 seconds\n",
      "Processed 9 in 0.1531 seconds\n"
     ]
    },
    {
     "name": "stderr",
     "output_type": "stream",
     "text": [
      " TRAIN: 12it [00:17,  1.69s/it, loss=0.1374, acc=0.9766, batch_time=0.1533s]"
     ]
    },
    {
     "name": "stdout",
     "output_type": "stream",
     "text": [
      "Processed 10 in 0.1707 seconds\n",
      "Processed 11 in 0.1533 seconds\n"
     ]
    },
    {
     "name": "stderr",
     "output_type": "stream",
     "text": [
      " TRAIN: 13it [00:17,  1.22s/it, loss=0.1914, acc=0.9512, batch_time=0.1532s]"
     ]
    },
    {
     "name": "stdout",
     "output_type": "stream",
     "text": [
      "Processed 12 in 0.1532 seconds\n"
     ]
    },
    {
     "name": "stderr",
     "output_type": "stream",
     "text": [
      " TRAIN: 15it [00:18,  1.35it/s, loss=0.1836, acc=0.9512, batch_time=0.1533s]"
     ]
    },
    {
     "name": "stdout",
     "output_type": "stream",
     "text": [
      "Processed 13 in 0.1533 seconds\n",
      "Processed 14 in 0.1533 seconds\n"
     ]
    },
    {
     "name": "stderr",
     "output_type": "stream",
     "text": [
      " TRAIN: 17it [00:18,  2.26it/s, loss=0.1819, acc=0.9570, batch_time=0.1531s]"
     ]
    },
    {
     "name": "stdout",
     "output_type": "stream",
     "text": [
      "Processed 15 in 0.1530 seconds\n",
      "Processed 16 in 0.1531 seconds\n"
     ]
    },
    {
     "name": "stderr",
     "output_type": "stream",
     "text": [
      " TRAIN: 19it [00:19,  3.36it/s, loss=0.1359, acc=0.9668, batch_time=0.1530s]"
     ]
    },
    {
     "name": "stdout",
     "output_type": "stream",
     "text": [
      "Processed 17 in 0.1536 seconds\n",
      "Processed 18 in 0.1530 seconds\n"
     ]
    },
    {
     "name": "stderr",
     "output_type": "stream",
     "text": [
      " TRAIN: 20it [00:19,  3.90it/s, loss=0.1611, acc=0.9688, batch_time=0.1536s]"
     ]
    },
    {
     "name": "stdout",
     "output_type": "stream",
     "text": [
      "Processed 19 in 0.1536 seconds\n"
     ]
    },
    {
     "name": "stderr",
     "output_type": "stream",
     "text": [
      " TRAIN: 22it [00:26,  1.61s/it, loss=0.1630, acc=0.9688, batch_time=0.1601s]"
     ]
    },
    {
     "name": "stdout",
     "output_type": "stream",
     "text": [
      "Processed 20 in 0.1749 seconds\n",
      "Processed 21 in 0.1601 seconds\n"
     ]
    },
    {
     "name": "stderr",
     "output_type": "stream",
     "text": [
      " TRAIN: 23it [00:26,  1.17s/it, loss=0.1491, acc=0.9648, batch_time=0.1533s]"
     ]
    },
    {
     "name": "stdout",
     "output_type": "stream",
     "text": [
      "Processed 22 in 0.1533 seconds\n"
     ]
    },
    {
     "name": "stderr",
     "output_type": "stream",
     "text": [
      " TRAIN: 25it [00:26,  1.48it/s, loss=0.1866, acc=0.9570, batch_time=0.1531s]"
     ]
    },
    {
     "name": "stdout",
     "output_type": "stream",
     "text": [
      "Processed 23 in 0.1532 seconds\n",
      "Processed 24 in 0.1531 seconds\n"
     ]
    },
    {
     "name": "stderr",
     "output_type": "stream",
     "text": [
      " TRAIN: 27it [00:27,  2.43it/s, loss=0.1875, acc=0.9512, batch_time=0.1536s]"
     ]
    },
    {
     "name": "stdout",
     "output_type": "stream",
     "text": [
      "Processed 25 in 0.1539 seconds\n",
      "Processed 26 in 0.1536 seconds\n"
     ]
    },
    {
     "name": "stderr",
     "output_type": "stream",
     "text": [
      " TRAIN: 29it [00:27,  3.54it/s, loss=0.2322, acc=0.9258, batch_time=0.1534s]"
     ]
    },
    {
     "name": "stdout",
     "output_type": "stream",
     "text": [
      "Processed 27 in 0.1534 seconds\n",
      "Processed 28 in 0.1534 seconds\n"
     ]
    },
    {
     "name": "stderr",
     "output_type": "stream",
     "text": [
      " TRAIN: 30it [00:27,  4.07it/s, loss=0.1762, acc=0.9492, batch_time=0.1534s]"
     ]
    },
    {
     "name": "stdout",
     "output_type": "stream",
     "text": [
      "Processed 29 in 0.1534 seconds\n"
     ]
    },
    {
     "name": "stderr",
     "output_type": "stream",
     "text": [
      " TRAIN: 32it [00:34,  1.51s/it, loss=0.1493, acc=0.9746, batch_time=0.1538s]"
     ]
    },
    {
     "name": "stdout",
     "output_type": "stream",
     "text": [
      "Processed 30 in 0.1748 seconds\n",
      "Processed 31 in 0.1538 seconds\n"
     ]
    },
    {
     "name": "stderr",
     "output_type": "stream",
     "text": [
      " TRAIN: 33it [00:34,  1.10s/it, loss=0.1697, acc=0.9668, batch_time=0.1530s]"
     ]
    },
    {
     "name": "stdout",
     "output_type": "stream",
     "text": [
      "Processed 32 in 0.1530 seconds\n"
     ]
    },
    {
     "name": "stderr",
     "output_type": "stream",
     "text": [
      " TRAIN: 35it [00:34,  1.53it/s, loss=0.1708, acc=0.9551, batch_time=0.1530s]"
     ]
    },
    {
     "name": "stdout",
     "output_type": "stream",
     "text": [
      "Processed 33 in 0.1530 seconds\n",
      "Processed 34 in 0.1530 seconds\n"
     ]
    },
    {
     "name": "stderr",
     "output_type": "stream",
     "text": [
      " TRAIN: 37it [00:35,  2.50it/s, loss=0.1500, acc=0.9629, batch_time=0.1530s]"
     ]
    },
    {
     "name": "stdout",
     "output_type": "stream",
     "text": [
      "Processed 35 in 0.1538 seconds\n",
      "Processed 36 in 0.1530 seconds\n"
     ]
    },
    {
     "name": "stderr",
     "output_type": "stream",
     "text": [
      " TRAIN: 39it [00:35,  3.62it/s, loss=0.1605, acc=0.9609, batch_time=0.1529s]"
     ]
    },
    {
     "name": "stdout",
     "output_type": "stream",
     "text": [
      "Processed 37 in 0.1531 seconds\n",
      "Processed 38 in 0.1529 seconds\n"
     ]
    },
    {
     "name": "stderr",
     "output_type": "stream",
     "text": [
      " TRAIN: 40it [00:35,  4.15it/s, loss=0.1543, acc=0.9609, batch_time=0.1531s]"
     ]
    },
    {
     "name": "stdout",
     "output_type": "stream",
     "text": [
      "Processed 39 in 0.1531 seconds\n"
     ]
    },
    {
     "name": "stderr",
     "output_type": "stream",
     "text": [
      "                                                                            "
     ]
    },
    {
     "name": "stdout",
     "output_type": "stream",
     "text": [
      "Processed 40 in 0.1745 seconds\n",
      "Processed 41 in 0.0223 seconds\n",
      " TRAIN | Loss: 0.1724 | Accuracy: 0.9594\n"
     ]
    },
    {
     "name": "stderr",
     "output_type": "stream",
     "text": [
      " TEST: 1it [00:08,  8.50s/it, loss=0.2038, acc=0.9414, batch_time=0.0630s]"
     ]
    },
    {
     "name": "stdout",
     "output_type": "stream",
     "text": [
      "Processed 0 in 0.0630 seconds\n"
     ]
    },
    {
     "name": "stderr",
     "output_type": "stream",
     "text": [
      " TEST: 4it [00:09,  1.51s/it, loss=0.1939, acc=0.9512, batch_time=0.0573s]"
     ]
    },
    {
     "name": "stdout",
     "output_type": "stream",
     "text": [
      "Processed 1 in 0.0626 seconds\n",
      "Processed 2 in 0.0625 seconds\n",
      "Processed 3 in 0.0625 seconds\n",
      "Processed 4 in 0.0573 seconds\n"
     ]
    },
    {
     "name": "stderr",
     "output_type": "stream",
     "text": [
      " TEST: 8it [00:09,  1.94it/s, loss=0.1767, acc=0.9531, batch_time=0.0573s]"
     ]
    },
    {
     "name": "stdout",
     "output_type": "stream",
     "text": [
      "Processed 5 in 0.0573 seconds\n",
      "Processed 6 in 0.0573 seconds\n",
      "Processed 7 in 0.0573 seconds\n",
      "Processed 8 in 0.0573 seconds\n"
     ]
    },
    {
     "name": "stderr",
     "output_type": "stream",
     "text": [
      "                                                                           "
     ]
    },
    {
     "name": "stdout",
     "output_type": "stream",
     "text": [
      "Processed 9 in 0.0572 seconds\n",
      "Processed 10 in 0.0144 seconds\n",
      " TEST | Loss: 0.1745 | Accuracy: 0.9527\n",
      "\n",
      " Epoch 7/15 | LR: 0.001000\n",
      "--------------------------------------------------\n"
     ]
    },
    {
     "name": "stderr",
     "output_type": "stream",
     "text": [
      " TRAIN: 1it [00:09,  9.13s/it, loss=0.1662, acc=0.9629, batch_time=0.1764s]"
     ]
    },
    {
     "name": "stdout",
     "output_type": "stream",
     "text": [
      "Processed 0 in 0.1764 seconds\n"
     ]
    },
    {
     "name": "stderr",
     "output_type": "stream",
     "text": [
      " TRAIN: 2it [00:09,  3.93s/it, loss=0.1687, acc=0.9629, batch_time=0.1531s]"
     ]
    },
    {
     "name": "stdout",
     "output_type": "stream",
     "text": [
      "Processed 1 in 0.1531 seconds\n"
     ]
    },
    {
     "name": "stderr",
     "output_type": "stream",
     "text": [
      " TRAIN: 4it [00:10,  1.48s/it, loss=0.1619, acc=0.9688, batch_time=0.1531s]"
     ]
    },
    {
     "name": "stdout",
     "output_type": "stream",
     "text": [
      "Processed 2 in 0.1534 seconds\n",
      "Processed 3 in 0.1531 seconds\n"
     ]
    },
    {
     "name": "stderr",
     "output_type": "stream",
     "text": [
      " TRAIN: 6it [00:10,  1.39it/s, loss=0.1911, acc=0.9395, batch_time=0.1534s]"
     ]
    },
    {
     "name": "stdout",
     "output_type": "stream",
     "text": [
      "Processed 4 in 0.1530 seconds\n",
      "Processed 5 in 0.1534 seconds\n"
     ]
    },
    {
     "name": "stderr",
     "output_type": "stream",
     "text": [
      " TRAIN: 8it [00:10,  2.41it/s, loss=0.1681, acc=0.9531, batch_time=0.1534s]"
     ]
    },
    {
     "name": "stdout",
     "output_type": "stream",
     "text": [
      "Processed 6 in 0.1532 seconds\n",
      "Processed 7 in 0.1534 seconds\n"
     ]
    },
    {
     "name": "stderr",
     "output_type": "stream",
     "text": [
      " TRAIN: 10it [00:10,  3.56it/s, loss=0.1634, acc=0.9609, batch_time=0.1531s]"
     ]
    },
    {
     "name": "stdout",
     "output_type": "stream",
     "text": [
      "Processed 8 in 0.1532 seconds\n",
      "Processed 9 in 0.1531 seconds\n"
     ]
    },
    {
     "name": "stderr",
     "output_type": "stream",
     "text": [
      " TRAIN: 12it [00:17,  1.46s/it, loss=0.1663, acc=0.9629, batch_time=0.1537s]"
     ]
    },
    {
     "name": "stdout",
     "output_type": "stream",
     "text": [
      "Processed 10 in 0.1750 seconds\n",
      "Processed 11 in 0.1537 seconds\n"
     ]
    },
    {
     "name": "stderr",
     "output_type": "stream",
     "text": [
      " TRAIN: 14it [00:17,  1.12it/s, loss=0.1763, acc=0.9590, batch_time=0.1532s]"
     ]
    },
    {
     "name": "stdout",
     "output_type": "stream",
     "text": [
      "Processed 12 in 0.1535 seconds\n",
      "Processed 13 in 0.1532 seconds\n"
     ]
    },
    {
     "name": "stderr",
     "output_type": "stream",
     "text": [
      " TRAIN: 16it [00:18,  1.93it/s, loss=0.1678, acc=0.9551, batch_time=0.1537s]"
     ]
    },
    {
     "name": "stdout",
     "output_type": "stream",
     "text": [
      "Processed 14 in 0.1530 seconds\n",
      "Processed 15 in 0.1537 seconds\n"
     ]
    },
    {
     "name": "stderr",
     "output_type": "stream",
     "text": [
      " TRAIN: 18it [00:18,  3.00it/s, loss=0.1616, acc=0.9629, batch_time=0.1530s]"
     ]
    },
    {
     "name": "stdout",
     "output_type": "stream",
     "text": [
      "Processed 16 in 0.1536 seconds\n",
      "Processed 17 in 0.1530 seconds\n"
     ]
    },
    {
     "name": "stderr",
     "output_type": "stream",
     "text": [
      " TRAIN: 20it [00:18,  4.09it/s, loss=0.1420, acc=0.9688, batch_time=0.1536s]"
     ]
    },
    {
     "name": "stdout",
     "output_type": "stream",
     "text": [
      "Processed 18 in 0.1530 seconds\n",
      "Processed 19 in 0.1536 seconds\n"
     ]
    },
    {
     "name": "stderr",
     "output_type": "stream",
     "text": [
      " TRAIN: 22it [00:26,  1.72s/it, loss=0.1470, acc=0.9668, batch_time=0.1534s]"
     ]
    },
    {
     "name": "stdout",
     "output_type": "stream",
     "text": [
      "Processed 20 in 0.1656 seconds\n",
      "Processed 21 in 0.1534 seconds\n"
     ]
    },
    {
     "name": "stderr",
     "output_type": "stream",
     "text": [
      " TRAIN: 24it [00:26,  1.08it/s, loss=0.1510, acc=0.9609, batch_time=0.1537s]"
     ]
    },
    {
     "name": "stdout",
     "output_type": "stream",
     "text": [
      "Processed 22 in 0.1531 seconds\n",
      "Processed 23 in 0.1537 seconds\n"
     ]
    },
    {
     "name": "stderr",
     "output_type": "stream",
     "text": [
      " TRAIN: 26it [00:27,  1.87it/s, loss=0.1354, acc=0.9707, batch_time=0.1531s]"
     ]
    },
    {
     "name": "stdout",
     "output_type": "stream",
     "text": [
      "Processed 24 in 0.1530 seconds\n",
      "Processed 25 in 0.1531 seconds\n"
     ]
    },
    {
     "name": "stderr",
     "output_type": "stream",
     "text": [
      " TRAIN: 28it [00:27,  2.92it/s, loss=0.1307, acc=0.9668, batch_time=0.1537s]"
     ]
    },
    {
     "name": "stdout",
     "output_type": "stream",
     "text": [
      "Processed 26 in 0.1530 seconds\n",
      "Processed 27 in 0.1537 seconds\n"
     ]
    },
    {
     "name": "stderr",
     "output_type": "stream",
     "text": [
      " TRAIN: 30it [00:27,  4.03it/s, loss=0.1470, acc=0.9707, batch_time=0.1536s]"
     ]
    },
    {
     "name": "stdout",
     "output_type": "stream",
     "text": [
      "Processed 28 in 0.1530 seconds\n",
      "Processed 29 in 0.1536 seconds\n"
     ]
    },
    {
     "name": "stderr",
     "output_type": "stream",
     "text": [
      " TRAIN: 31it [00:33,  2.03s/it, loss=0.1481, acc=0.9707, batch_time=0.1726s]"
     ]
    },
    {
     "name": "stdout",
     "output_type": "stream",
     "text": [
      "Processed 30 in 0.1726 seconds\n"
     ]
    },
    {
     "name": "stderr",
     "output_type": "stream",
     "text": [
      " TRAIN: 33it [00:34,  1.13s/it, loss=0.1363, acc=0.9668, batch_time=0.1532s]"
     ]
    },
    {
     "name": "stdout",
     "output_type": "stream",
     "text": [
      "Processed 31 in 0.1532 seconds\n",
      "Processed 32 in 0.1532 seconds\n"
     ]
    },
    {
     "name": "stderr",
     "output_type": "stream",
     "text": [
      " TRAIN: 35it [00:34,  1.58it/s, loss=0.1360, acc=0.9688, batch_time=0.1529s]"
     ]
    },
    {
     "name": "stdout",
     "output_type": "stream",
     "text": [
      "Processed 33 in 0.1538 seconds\n",
      "Processed 34 in 0.1529 seconds\n"
     ]
    },
    {
     "name": "stderr",
     "output_type": "stream",
     "text": [
      " TRAIN: 37it [00:35,  2.56it/s, loss=0.1842, acc=0.9492, batch_time=0.1536s]"
     ]
    },
    {
     "name": "stdout",
     "output_type": "stream",
     "text": [
      "Processed 35 in 0.1530 seconds\n",
      "Processed 36 in 0.1536 seconds\n"
     ]
    },
    {
     "name": "stderr",
     "output_type": "stream",
     "text": [
      " TRAIN: 39it [00:35,  3.67it/s, loss=0.1925, acc=0.9492, batch_time=0.1530s]"
     ]
    },
    {
     "name": "stdout",
     "output_type": "stream",
     "text": [
      "Processed 37 in 0.1540 seconds\n",
      "Processed 38 in 0.1530 seconds\n"
     ]
    },
    {
     "name": "stderr",
     "output_type": "stream",
     "text": [
      " TRAIN: 40it [00:35,  4.21it/s, loss=0.1547, acc=0.9590, batch_time=0.1531s]"
     ]
    },
    {
     "name": "stdout",
     "output_type": "stream",
     "text": [
      "Processed 39 in 0.1531 seconds\n"
     ]
    },
    {
     "name": "stderr",
     "output_type": "stream",
     "text": [
      "                                                                            "
     ]
    },
    {
     "name": "stdout",
     "output_type": "stream",
     "text": [
      "Processed 40 in 0.1744 seconds\n",
      "Processed 41 in 0.0200 seconds\n",
      " TRAIN | Loss: 0.1560 | Accuracy: 0.9619\n"
     ]
    },
    {
     "name": "stderr",
     "output_type": "stream",
     "text": [
      " TEST: 1it [00:08,  8.19s/it, loss=0.1659, acc=0.9590, batch_time=0.0628s]"
     ]
    },
    {
     "name": "stdout",
     "output_type": "stream",
     "text": [
      "Processed 0 in 0.0628 seconds\n"
     ]
    },
    {
     "name": "stderr",
     "output_type": "stream",
     "text": [
      " TEST: 2it [00:09,  3.92s/it, loss=0.1644, acc=0.9531, batch_time=0.0626s]"
     ]
    },
    {
     "name": "stdout",
     "output_type": "stream",
     "text": [
      "Processed 1 in 0.0626 seconds\n"
     ]
    },
    {
     "name": "stderr",
     "output_type": "stream",
     "text": [
      " TEST: 5it [00:09,  1.01s/it, loss=0.1622, acc=0.9492, batch_time=0.0572s]"
     ]
    },
    {
     "name": "stdout",
     "output_type": "stream",
     "text": [
      "Processed 2 in 0.0625 seconds\n",
      "Processed 3 in 0.0625 seconds\n",
      "Processed 4 in 0.0608 seconds\n",
      "Processed 5 in 0.0572 seconds\n"
     ]
    },
    {
     "name": "stderr",
     "output_type": "stream",
     "text": [
      " TEST: 9it [00:09,  2.61it/s, loss=0.1544, acc=0.9256, batch_time=0.0144s]"
     ]
    },
    {
     "name": "stdout",
     "output_type": "stream",
     "text": [
      "Processed 6 in 0.0572 seconds\n",
      "Processed 7 in 0.0573 seconds\n",
      "Processed 8 in 0.0573 seconds\n",
      "Processed 9 in 0.0574 seconds\n"
     ]
    },
    {
     "name": "stderr",
     "output_type": "stream",
     "text": [
      "                                                                          "
     ]
    },
    {
     "name": "stdout",
     "output_type": "stream",
     "text": [
      "Processed 10 in 0.0144 seconds\n",
      " TEST | Loss: 0.1628 | Accuracy: 0.9557\n",
      "\n",
      " Epoch 8/15 | LR: 0.001000\n",
      "--------------------------------------------------\n"
     ]
    },
    {
     "name": "stderr",
     "output_type": "stream",
     "text": [
      " TRAIN: 1it [00:08,  8.90s/it, loss=0.0978, acc=0.9844, batch_time=0.1761s]"
     ]
    },
    {
     "name": "stdout",
     "output_type": "stream",
     "text": [
      "Processed 0 in 0.1761 seconds\n"
     ]
    },
    {
     "name": "stderr",
     "output_type": "stream",
     "text": [
      " TRAIN: 3it [00:09,  2.24s/it, loss=0.1582, acc=0.9609, batch_time=0.1532s]"
     ]
    },
    {
     "name": "stdout",
     "output_type": "stream",
     "text": [
      "Processed 1 in 0.1534 seconds\n",
      "Processed 2 in 0.1532 seconds\n"
     ]
    },
    {
     "name": "stderr",
     "output_type": "stream",
     "text": [
      " TRAIN: 5it [00:09,  1.04it/s, loss=0.1587, acc=0.9668, batch_time=0.1537s]"
     ]
    },
    {
     "name": "stdout",
     "output_type": "stream",
     "text": [
      "Processed 3 in 0.1532 seconds\n",
      "Processed 4 in 0.1537 seconds\n"
     ]
    },
    {
     "name": "stderr",
     "output_type": "stream",
     "text": [
      " TRAIN: 7it [00:10,  1.94it/s, loss=0.1221, acc=0.9746, batch_time=0.1535s]"
     ]
    },
    {
     "name": "stdout",
     "output_type": "stream",
     "text": [
      "Processed 5 in 0.1530 seconds\n",
      "Processed 6 in 0.1535 seconds\n"
     ]
    },
    {
     "name": "stderr",
     "output_type": "stream",
     "text": [
      " TRAIN: 9it [00:10,  3.07it/s, loss=0.1537, acc=0.9688, batch_time=0.1530s]"
     ]
    },
    {
     "name": "stdout",
     "output_type": "stream",
     "text": [
      "Processed 7 in 0.1530 seconds\n",
      "Processed 8 in 0.1530 seconds\n"
     ]
    },
    {
     "name": "stderr",
     "output_type": "stream",
     "text": [
      " TRAIN: 10it [00:10,  3.65it/s, loss=0.1071, acc=0.9746, batch_time=0.1538s]"
     ]
    },
    {
     "name": "stdout",
     "output_type": "stream",
     "text": [
      "Processed 9 in 0.1538 seconds\n"
     ]
    },
    {
     "name": "stderr",
     "output_type": "stream",
     "text": [
      " TRAIN: 11it [00:16,  2.07s/it, loss=0.1407, acc=0.9688, batch_time=0.1670s]"
     ]
    },
    {
     "name": "stdout",
     "output_type": "stream",
     "text": [
      "Processed 10 in 0.1670 seconds\n"
     ]
    },
    {
     "name": "stderr",
     "output_type": "stream",
     "text": [
      " TRAIN: 12it [00:17,  1.54s/it, loss=0.1441, acc=0.9570, batch_time=0.1590s]"
     ]
    },
    {
     "name": "stdout",
     "output_type": "stream",
     "text": [
      "Processed 11 in 0.1590 seconds\n"
     ]
    },
    {
     "name": "stderr",
     "output_type": "stream",
     "text": [
      " TRAIN: 14it [00:17,  1.12it/s, loss=0.1574, acc=0.9648, batch_time=0.1534s]"
     ]
    },
    {
     "name": "stdout",
     "output_type": "stream",
     "text": [
      "Processed 12 in 0.1543 seconds\n",
      "Processed 13 in 0.1534 seconds\n"
     ]
    },
    {
     "name": "stderr",
     "output_type": "stream",
     "text": [
      " TRAIN: 16it [00:18,  1.93it/s, loss=0.1385, acc=0.9570, batch_time=0.1530s]"
     ]
    },
    {
     "name": "stdout",
     "output_type": "stream",
     "text": [
      "Processed 14 in 0.1532 seconds\n",
      "Processed 15 in 0.1530 seconds\n"
     ]
    },
    {
     "name": "stderr",
     "output_type": "stream",
     "text": [
      " TRAIN: 18it [00:18,  2.99it/s, loss=0.1866, acc=0.9629, batch_time=0.1529s]"
     ]
    },
    {
     "name": "stdout",
     "output_type": "stream",
     "text": [
      "Processed 16 in 0.1536 seconds\n",
      "Processed 17 in 0.1529 seconds\n"
     ]
    },
    {
     "name": "stderr",
     "output_type": "stream",
     "text": [
      " TRAIN: 20it [00:18,  4.10it/s, loss=0.1220, acc=0.9805, batch_time=0.1530s]"
     ]
    },
    {
     "name": "stdout",
     "output_type": "stream",
     "text": [
      "Processed 18 in 0.1530 seconds\n",
      "Processed 19 in 0.1530 seconds\n"
     ]
    },
    {
     "name": "stderr",
     "output_type": "stream",
     "text": [
      " TRAIN: 21it [00:25,  2.16s/it, loss=0.1319, acc=0.9746, batch_time=0.1750s]"
     ]
    },
    {
     "name": "stdout",
     "output_type": "stream",
     "text": [
      "Processed 20 in 0.1750 seconds\n"
     ]
    },
    {
     "name": "stderr",
     "output_type": "stream",
     "text": [
      " TRAIN: 23it [00:26,  1.34s/it, loss=0.1483, acc=0.9629, batch_time=0.1536s]"
     ]
    },
    {
     "name": "stdout",
     "output_type": "stream",
     "text": [
      "Processed 21 in 0.1533 seconds\n",
      "Processed 22 in 0.1536 seconds\n"
     ]
    },
    {
     "name": "stderr",
     "output_type": "stream",
     "text": [
      " TRAIN: 25it [00:27,  1.36it/s, loss=0.1667, acc=0.9551, batch_time=0.1537s]"
     ]
    },
    {
     "name": "stdout",
     "output_type": "stream",
     "text": [
      "Processed 23 in 0.1530 seconds\n",
      "Processed 24 in 0.1537 seconds\n"
     ]
    },
    {
     "name": "stderr",
     "output_type": "stream",
     "text": [
      " TRAIN: 27it [00:27,  2.26it/s, loss=0.1306, acc=0.9668, batch_time=0.1531s]"
     ]
    },
    {
     "name": "stdout",
     "output_type": "stream",
     "text": [
      "Processed 25 in 0.1530 seconds\n",
      "Processed 26 in 0.1531 seconds\n"
     ]
    },
    {
     "name": "stderr",
     "output_type": "stream",
     "text": [
      " TRAIN: 29it [00:27,  3.36it/s, loss=0.1532, acc=0.9570, batch_time=0.1529s]"
     ]
    },
    {
     "name": "stdout",
     "output_type": "stream",
     "text": [
      "Processed 27 in 0.1538 seconds\n",
      "Processed 28 in 0.1529 seconds\n"
     ]
    },
    {
     "name": "stderr",
     "output_type": "stream",
     "text": [
      " TRAIN: 30it [00:27,  3.92it/s, loss=0.1412, acc=0.9707, batch_time=0.1532s]"
     ]
    },
    {
     "name": "stdout",
     "output_type": "stream",
     "text": [
      "Processed 29 in 0.1532 seconds\n"
     ]
    },
    {
     "name": "stderr",
     "output_type": "stream",
     "text": [
      " TRAIN: 31it [00:33,  2.03s/it, loss=0.1238, acc=0.9688, batch_time=0.1653s]"
     ]
    },
    {
     "name": "stdout",
     "output_type": "stream",
     "text": [
      "Processed 30 in 0.1653 seconds\n"
     ]
    },
    {
     "name": "stderr",
     "output_type": "stream",
     "text": [
      " TRAIN: 33it [00:34,  1.21s/it, loss=0.1775, acc=0.9512, batch_time=0.1529s]"
     ]
    },
    {
     "name": "stdout",
     "output_type": "stream",
     "text": [
      "Processed 31 in 0.1531 seconds\n",
      "Processed 32 in 0.1529 seconds\n"
     ]
    },
    {
     "name": "stderr",
     "output_type": "stream",
     "text": [
      " TRAIN: 35it [00:35,  1.49it/s, loss=0.1416, acc=0.9707, batch_time=0.1529s]"
     ]
    },
    {
     "name": "stdout",
     "output_type": "stream",
     "text": [
      "Processed 33 in 0.1532 seconds\n",
      "Processed 34 in 0.1529 seconds\n"
     ]
    },
    {
     "name": "stderr",
     "output_type": "stream",
     "text": [
      " TRAIN: 37it [00:35,  2.44it/s, loss=0.1244, acc=0.9668, batch_time=0.1529s]"
     ]
    },
    {
     "name": "stdout",
     "output_type": "stream",
     "text": [
      "Processed 35 in 0.1530 seconds\n",
      "Processed 36 in 0.1529 seconds\n"
     ]
    },
    {
     "name": "stderr",
     "output_type": "stream",
     "text": [
      " TRAIN: 39it [00:35,  3.56it/s, loss=0.1681, acc=0.9609, batch_time=0.1536s]"
     ]
    },
    {
     "name": "stdout",
     "output_type": "stream",
     "text": [
      "Processed 37 in 0.1530 seconds\n",
      "Processed 38 in 0.1536 seconds\n"
     ]
    },
    {
     "name": "stderr",
     "output_type": "stream",
     "text": [
      " TRAIN: 40it [00:36,  4.10it/s, loss=0.1473, acc=0.9668, batch_time=0.1530s]"
     ]
    },
    {
     "name": "stdout",
     "output_type": "stream",
     "text": [
      "Processed 39 in 0.1530 seconds\n"
     ]
    },
    {
     "name": "stderr",
     "output_type": "stream",
     "text": [
      "                                                                            "
     ]
    },
    {
     "name": "stdout",
     "output_type": "stream",
     "text": [
      "Processed 40 in 0.1538 seconds\n",
      "Processed 41 in 0.0207 seconds\n",
      " TRAIN | Loss: 0.1425 | Accuracy: 0.9665\n"
     ]
    },
    {
     "name": "stderr",
     "output_type": "stream",
     "text": [
      " TEST: 2it [00:08,  3.50s/it, loss=0.1649, acc=0.9531, batch_time=0.0627s]"
     ]
    },
    {
     "name": "stdout",
     "output_type": "stream",
     "text": [
      "Processed 0 in 0.0628 seconds\n",
      "Processed 1 in 0.0627 seconds\n"
     ]
    },
    {
     "name": "stderr",
     "output_type": "stream",
     "text": [
      " TEST: 3it [00:09,  2.19s/it, loss=0.1089, acc=0.9727, batch_time=0.0573s]"
     ]
    },
    {
     "name": "stdout",
     "output_type": "stream",
     "text": [
      "Processed 2 in 0.0573 seconds\n"
     ]
    },
    {
     "name": "stderr",
     "output_type": "stream",
     "text": [
      " TEST: 6it [00:09,  1.42it/s, loss=0.1558, acc=0.9531, batch_time=0.0574s]"
     ]
    },
    {
     "name": "stdout",
     "output_type": "stream",
     "text": [
      "Processed 3 in 0.0573 seconds\n",
      "Processed 4 in 0.0573 seconds\n",
      "Processed 5 in 0.0574 seconds\n",
      "Processed 6 in 0.0574 seconds\n"
     ]
    },
    {
     "name": "stderr",
     "output_type": "stream",
     "text": [
      " TEST: 10it [00:09,  3.48it/s, loss=0.1467, acc=0.9421, batch_time=0.0144s]"
     ]
    },
    {
     "name": "stdout",
     "output_type": "stream",
     "text": [
      "Processed 7 in 0.0573 seconds\n",
      "Processed 8 in 0.0573 seconds\n",
      "Processed 9 in 0.0572 seconds\n",
      "Processed 10 in 0.0144 seconds\n"
     ]
    },
    {
     "name": "stderr",
     "output_type": "stream",
     "text": [
      "\r                                                                           "
     ]
    },
    {
     "name": "stdout",
     "output_type": "stream",
     "text": [
      " TEST | Loss: 0.1545 | Accuracy: 0.9563\n",
      "\n",
      " Epoch 9/15 | LR: 0.001000\n",
      "--------------------------------------------------\n"
     ]
    },
    {
     "name": "stderr",
     "output_type": "stream",
     "text": [
      " TRAIN: 2it [00:08,  3.72s/it, loss=0.1779, acc=0.9570, batch_time=0.1539s]"
     ]
    },
    {
     "name": "stdout",
     "output_type": "stream",
     "text": [
      "Processed 0 in 0.1762 seconds\n",
      "Processed 1 in 0.1539 seconds\n"
     ]
    },
    {
     "name": "stderr",
     "output_type": "stream",
     "text": [
      " TRAIN: 4it [00:09,  1.40s/it, loss=0.1749, acc=0.9531, batch_time=0.1533s]"
     ]
    },
    {
     "name": "stdout",
     "output_type": "stream",
     "text": [
      "Processed 2 in 0.1539 seconds\n",
      "Processed 3 in 0.1533 seconds\n"
     ]
    },
    {
     "name": "stderr",
     "output_type": "stream",
     "text": [
      " TRAIN: 6it [00:09,  1.45it/s, loss=0.1573, acc=0.9590, batch_time=0.1531s]"
     ]
    },
    {
     "name": "stdout",
     "output_type": "stream",
     "text": [
      "Processed 4 in 0.1533 seconds\n",
      "Processed 5 in 0.1531 seconds\n"
     ]
    },
    {
     "name": "stderr",
     "output_type": "stream",
     "text": [
      " TRAIN: 8it [00:10,  2.49it/s, loss=0.1145, acc=0.9746, batch_time=0.1530s]"
     ]
    },
    {
     "name": "stdout",
     "output_type": "stream",
     "text": [
      "Processed 6 in 0.1532 seconds\n",
      "Processed 7 in 0.1530 seconds\n"
     ]
    },
    {
     "name": "stderr",
     "output_type": "stream",
     "text": [
      " TRAIN: 10it [00:10,  3.66it/s, loss=0.0903, acc=0.9863, batch_time=0.1532s]"
     ]
    },
    {
     "name": "stdout",
     "output_type": "stream",
     "text": [
      "Processed 8 in 0.1536 seconds\n",
      "Processed 9 in 0.1532 seconds\n"
     ]
    },
    {
     "name": "stderr",
     "output_type": "stream",
     "text": [
      " TRAIN: 11it [00:16,  2.10s/it, loss=0.1453, acc=0.9707, batch_time=0.1754s]"
     ]
    },
    {
     "name": "stdout",
     "output_type": "stream",
     "text": [
      "Processed 10 in 0.1754 seconds\n"
     ]
    },
    {
     "name": "stderr",
     "output_type": "stream",
     "text": [
      " TRAIN: 12it [00:17,  1.67s/it, loss=0.1424, acc=0.9648, batch_time=0.1604s]"
     ]
    },
    {
     "name": "stdout",
     "output_type": "stream",
     "text": [
      "Processed 11 in 0.1604 seconds\n"
     ]
    },
    {
     "name": "stderr",
     "output_type": "stream",
     "text": [
      " TRAIN: 14it [00:18,  1.04it/s, loss=0.0953, acc=0.9805, batch_time=0.1535s]"
     ]
    },
    {
     "name": "stdout",
     "output_type": "stream",
     "text": [
      "Processed 12 in 0.1533 seconds\n",
      "Processed 13 in 0.1535 seconds\n"
     ]
    },
    {
     "name": "stderr",
     "output_type": "stream",
     "text": [
      " TRAIN: 16it [00:18,  1.82it/s, loss=0.1248, acc=0.9746, batch_time=0.1533s]"
     ]
    },
    {
     "name": "stdout",
     "output_type": "stream",
     "text": [
      "Processed 14 in 0.1531 seconds\n",
      "Processed 15 in 0.1533 seconds\n"
     ]
    },
    {
     "name": "stderr",
     "output_type": "stream",
     "text": [
      " TRAIN: 18it [00:18,  2.86it/s, loss=0.1035, acc=0.9707, batch_time=0.1530s]"
     ]
    },
    {
     "name": "stdout",
     "output_type": "stream",
     "text": [
      "Processed 16 in 0.1530 seconds\n",
      "Processed 17 in 0.1530 seconds\n"
     ]
    },
    {
     "name": "stderr",
     "output_type": "stream",
     "text": [
      " TRAIN: 20it [00:19,  3.97it/s, loss=0.1139, acc=0.9766, batch_time=0.1530s]"
     ]
    },
    {
     "name": "stdout",
     "output_type": "stream",
     "text": [
      "Processed 18 in 0.1535 seconds\n",
      "Processed 19 in 0.1530 seconds\n"
     ]
    },
    {
     "name": "stderr",
     "output_type": "stream",
     "text": [
      " TRAIN: 21it [00:25,  2.26s/it, loss=0.1410, acc=0.9668, batch_time=0.1711s]"
     ]
    },
    {
     "name": "stdout",
     "output_type": "stream",
     "text": [
      "Processed 20 in 0.1711 seconds\n"
     ]
    },
    {
     "name": "stderr",
     "output_type": "stream",
     "text": [
      " TRAIN: 23it [00:26,  1.25s/it, loss=0.1485, acc=0.9512, batch_time=0.1560s]"
     ]
    },
    {
     "name": "stdout",
     "output_type": "stream",
     "text": [
      "Processed 21 in 0.1646 seconds\n",
      "Processed 22 in 0.1560 seconds\n"
     ]
    },
    {
     "name": "stderr",
     "output_type": "stream",
     "text": [
      " TRAIN: 25it [00:26,  1.44it/s, loss=0.1283, acc=0.9688, batch_time=0.1530s]"
     ]
    },
    {
     "name": "stdout",
     "output_type": "stream",
     "text": [
      "Processed 23 in 0.1532 seconds\n",
      "Processed 24 in 0.1530 seconds\n"
     ]
    },
    {
     "name": "stderr",
     "output_type": "stream",
     "text": [
      " TRAIN: 27it [00:27,  2.38it/s, loss=0.1360, acc=0.9590, batch_time=0.1535s]"
     ]
    },
    {
     "name": "stdout",
     "output_type": "stream",
     "text": [
      "Processed 25 in 0.1530 seconds\n",
      "Processed 26 in 0.1535 seconds\n"
     ]
    },
    {
     "name": "stderr",
     "output_type": "stream",
     "text": [
      " TRAIN: 29it [00:27,  3.49it/s, loss=0.1226, acc=0.9668, batch_time=0.1529s]"
     ]
    },
    {
     "name": "stdout",
     "output_type": "stream",
     "text": [
      "Processed 27 in 0.1530 seconds\n",
      "Processed 28 in 0.1529 seconds\n"
     ]
    },
    {
     "name": "stderr",
     "output_type": "stream",
     "text": [
      " TRAIN: 30it [00:27,  4.03it/s, loss=0.1282, acc=0.9629, batch_time=0.1531s]"
     ]
    },
    {
     "name": "stdout",
     "output_type": "stream",
     "text": [
      "Processed 29 in 0.1531 seconds\n"
     ]
    },
    {
     "name": "stderr",
     "output_type": "stream",
     "text": [
      " TRAIN: 32it [00:34,  1.64s/it, loss=0.1585, acc=0.9570, batch_time=0.1532s]"
     ]
    },
    {
     "name": "stdout",
     "output_type": "stream",
     "text": [
      "Processed 30 in 0.1750 seconds\n",
      "Processed 31 in 0.1532 seconds\n"
     ]
    },
    {
     "name": "stderr",
     "output_type": "stream",
     "text": [
      " TRAIN: 34it [00:35,  1.13it/s, loss=0.1539, acc=0.9629, batch_time=0.1531s]"
     ]
    },
    {
     "name": "stdout",
     "output_type": "stream",
     "text": [
      "Processed 32 in 0.1530 seconds\n",
      "Processed 33 in 0.1531 seconds\n"
     ]
    },
    {
     "name": "stderr",
     "output_type": "stream",
     "text": [
      " TRAIN: 36it [00:35,  1.95it/s, loss=0.1596, acc=0.9668, batch_time=0.1533s]"
     ]
    },
    {
     "name": "stdout",
     "output_type": "stream",
     "text": [
      "Processed 34 in 0.1531 seconds\n",
      "Processed 35 in 0.1533 seconds\n"
     ]
    },
    {
     "name": "stderr",
     "output_type": "stream",
     "text": [
      " TRAIN: 38it [00:35,  3.01it/s, loss=0.1777, acc=0.9531, batch_time=0.1530s]"
     ]
    },
    {
     "name": "stdout",
     "output_type": "stream",
     "text": [
      "Processed 36 in 0.1531 seconds\n",
      "Processed 37 in 0.1530 seconds\n"
     ]
    },
    {
     "name": "stderr",
     "output_type": "stream",
     "text": [
      " TRAIN: 40it [00:36,  4.12it/s, loss=0.1522, acc=0.9609, batch_time=0.1530s]"
     ]
    },
    {
     "name": "stdout",
     "output_type": "stream",
     "text": [
      "Processed 38 in 0.1530 seconds\n",
      "Processed 39 in 0.1530 seconds\n"
     ]
    },
    {
     "name": "stderr",
     "output_type": "stream",
     "text": [
      "                                                                            "
     ]
    },
    {
     "name": "stdout",
     "output_type": "stream",
     "text": [
      "Processed 40 in 0.1532 seconds\n",
      "Processed 41 in 0.0204 seconds\n",
      " TRAIN | Loss: 0.1328 | Accuracy: 0.9675\n"
     ]
    },
    {
     "name": "stderr",
     "output_type": "stream",
     "text": [
      " TEST: 1it [00:08,  8.65s/it, loss=0.1713, acc=0.9512, batch_time=0.0627s]"
     ]
    },
    {
     "name": "stdout",
     "output_type": "stream",
     "text": [
      "Processed 0 in 0.0627 seconds\n"
     ]
    },
    {
     "name": "stderr",
     "output_type": "stream",
     "text": [
      " TEST: 4it [00:09,  1.61s/it, loss=0.1854, acc=0.9395, batch_time=0.0604s]"
     ]
    },
    {
     "name": "stdout",
     "output_type": "stream",
     "text": [
      "Processed 1 in 0.0626 seconds\n",
      "Processed 2 in 0.0625 seconds\n",
      "Processed 3 in 0.0604 seconds\n"
     ]
    },
    {
     "name": "stderr",
     "output_type": "stream",
     "text": [
      " TEST: 8it [00:10,  1.82it/s, loss=0.1493, acc=0.9531, batch_time=0.0572s]"
     ]
    },
    {
     "name": "stdout",
     "output_type": "stream",
     "text": [
      "Processed 4 in 0.0572 seconds\n",
      "Processed 5 in 0.0573 seconds\n",
      "Processed 6 in 0.0572 seconds\n",
      "Processed 7 in 0.0572 seconds\n"
     ]
    },
    {
     "name": "stderr",
     "output_type": "stream",
     "text": [
      "                                                                           "
     ]
    },
    {
     "name": "stdout",
     "output_type": "stream",
     "text": [
      "Processed 8 in 0.0572 seconds\n",
      "Processed 9 in 0.0572 seconds\n",
      "Processed 10 in 0.0144 seconds\n",
      " TEST | Loss: 0.1458 | Accuracy: 0.9575\n",
      "\n",
      " Epoch 10/15 | LR: 0.001000\n",
      "--------------------------------------------------\n"
     ]
    },
    {
     "name": "stderr",
     "output_type": "stream",
     "text": [
      " TRAIN: 2it [00:09,  3.86s/it, loss=0.1147, acc=0.9746, batch_time=0.1539s]"
     ]
    },
    {
     "name": "stdout",
     "output_type": "stream",
     "text": [
      "Processed 0 in 0.1753 seconds\n",
      "Processed 1 in 0.1539 seconds\n"
     ]
    },
    {
     "name": "stderr",
     "output_type": "stream",
     "text": [
      " TRAIN: 3it [00:09,  2.17s/it, loss=0.1165, acc=0.9688, batch_time=0.1531s]"
     ]
    },
    {
     "name": "stdout",
     "output_type": "stream",
     "text": [
      "Processed 2 in 0.1531 seconds\n"
     ]
    },
    {
     "name": "stderr",
     "output_type": "stream",
     "text": [
      " TRAIN: 5it [00:10,  1.00s/it, loss=0.1304, acc=0.9629, batch_time=0.1536s]"
     ]
    },
    {
     "name": "stdout",
     "output_type": "stream",
     "text": [
      "Processed 3 in 0.1537 seconds\n",
      "Processed 4 in 0.1536 seconds\n"
     ]
    },
    {
     "name": "stderr",
     "output_type": "stream",
     "text": [
      " TRAIN: 7it [00:10,  1.88it/s, loss=0.0969, acc=0.9785, batch_time=0.1535s]"
     ]
    },
    {
     "name": "stdout",
     "output_type": "stream",
     "text": [
      "Processed 5 in 0.1535 seconds\n",
      "Processed 6 in 0.1535 seconds\n"
     ]
    },
    {
     "name": "stderr",
     "output_type": "stream",
     "text": [
      " TRAIN: 9it [00:10,  3.00it/s, loss=0.1490, acc=0.9609, batch_time=0.1530s]"
     ]
    },
    {
     "name": "stdout",
     "output_type": "stream",
     "text": [
      "Processed 7 in 0.1531 seconds\n",
      "Processed 8 in 0.1530 seconds\n"
     ]
    },
    {
     "name": "stderr",
     "output_type": "stream",
     "text": [
      " TRAIN: 10it [00:10,  3.58it/s, loss=0.1642, acc=0.9629, batch_time=0.1535s]"
     ]
    },
    {
     "name": "stdout",
     "output_type": "stream",
     "text": [
      "Processed 9 in 0.1535 seconds\n"
     ]
    },
    {
     "name": "stderr",
     "output_type": "stream",
     "text": [
      " TRAIN: 12it [00:17,  1.64s/it, loss=0.1218, acc=0.9707, batch_time=0.1536s]"
     ]
    },
    {
     "name": "stdout",
     "output_type": "stream",
     "text": [
      "Processed 10 in 0.1677 seconds\n",
      "Processed 11 in 0.1536 seconds\n"
     ]
    },
    {
     "name": "stderr",
     "output_type": "stream",
     "text": [
      " TRAIN: 14it [00:18,  1.14it/s, loss=0.1554, acc=0.9551, batch_time=0.1531s]"
     ]
    },
    {
     "name": "stdout",
     "output_type": "stream",
     "text": [
      "Processed 12 in 0.1530 seconds\n",
      "Processed 13 in 0.1531 seconds\n"
     ]
    },
    {
     "name": "stderr",
     "output_type": "stream",
     "text": [
      " TRAIN: 16it [00:18,  1.96it/s, loss=0.1077, acc=0.9707, batch_time=0.1531s]"
     ]
    },
    {
     "name": "stdout",
     "output_type": "stream",
     "text": [
      "Processed 14 in 0.1532 seconds\n",
      "Processed 15 in 0.1531 seconds\n"
     ]
    },
    {
     "name": "stderr",
     "output_type": "stream",
     "text": [
      " TRAIN: 18it [00:18,  3.03it/s, loss=0.1246, acc=0.9668, batch_time=0.1537s]"
     ]
    },
    {
     "name": "stdout",
     "output_type": "stream",
     "text": [
      "Processed 16 in 0.1535 seconds\n",
      "Processed 17 in 0.1537 seconds\n"
     ]
    },
    {
     "name": "stderr",
     "output_type": "stream",
     "text": [
      " TRAIN: 20it [00:19,  4.11it/s, loss=0.1298, acc=0.9785, batch_time=0.1535s]"
     ]
    },
    {
     "name": "stdout",
     "output_type": "stream",
     "text": [
      "Processed 18 in 0.1544 seconds\n",
      "Processed 19 in 0.1535 seconds\n"
     ]
    },
    {
     "name": "stderr",
     "output_type": "stream",
     "text": [
      " TRAIN: 22it [00:26,  1.74s/it, loss=0.1111, acc=0.9785, batch_time=0.1641s]"
     ]
    },
    {
     "name": "stdout",
     "output_type": "stream",
     "text": [
      "Processed 20 in 0.1744 seconds\n",
      "Processed 21 in 0.1641 seconds\n"
     ]
    },
    {
     "name": "stderr",
     "output_type": "stream",
     "text": [
      " TRAIN: 24it [00:27,  1.07it/s, loss=0.1454, acc=0.9688, batch_time=0.1535s]"
     ]
    },
    {
     "name": "stdout",
     "output_type": "stream",
     "text": [
      "Processed 22 in 0.1532 seconds\n",
      "Processed 23 in 0.1535 seconds\n"
     ]
    },
    {
     "name": "stderr",
     "output_type": "stream",
     "text": [
      " TRAIN: 26it [00:27,  1.86it/s, loss=0.1448, acc=0.9629, batch_time=0.1531s]"
     ]
    },
    {
     "name": "stdout",
     "output_type": "stream",
     "text": [
      "Processed 24 in 0.1530 seconds\n",
      "Processed 25 in 0.1531 seconds\n"
     ]
    },
    {
     "name": "stderr",
     "output_type": "stream",
     "text": [
      " TRAIN: 28it [00:27,  2.91it/s, loss=0.1468, acc=0.9707, batch_time=0.1533s]"
     ]
    },
    {
     "name": "stdout",
     "output_type": "stream",
     "text": [
      "Processed 26 in 0.1532 seconds\n",
      "Processed 27 in 0.1533 seconds\n"
     ]
    },
    {
     "name": "stderr",
     "output_type": "stream",
     "text": [
      " TRAIN: 30it [00:27,  4.02it/s, loss=0.1434, acc=0.9668, batch_time=0.1530s]"
     ]
    },
    {
     "name": "stdout",
     "output_type": "stream",
     "text": [
      "Processed 28 in 0.1536 seconds\n",
      "Processed 29 in 0.1530 seconds\n"
     ]
    },
    {
     "name": "stderr",
     "output_type": "stream",
     "text": [
      " TRAIN: 32it [00:34,  1.56s/it, loss=0.1086, acc=0.9707, batch_time=0.1624s]"
     ]
    },
    {
     "name": "stdout",
     "output_type": "stream",
     "text": [
      "Processed 30 in 0.1746 seconds\n",
      "Processed 31 in 0.1624 seconds\n"
     ]
    },
    {
     "name": "stderr",
     "output_type": "stream",
     "text": [
      " TRAIN: 34it [00:35,  1.18it/s, loss=0.1346, acc=0.9707, batch_time=0.1531s]"
     ]
    },
    {
     "name": "stdout",
     "output_type": "stream",
     "text": [
      "Processed 32 in 0.1530 seconds\n",
      "Processed 33 in 0.1531 seconds\n"
     ]
    },
    {
     "name": "stderr",
     "output_type": "stream",
     "text": [
      " TRAIN: 36it [00:35,  2.02it/s, loss=0.1234, acc=0.9688, batch_time=0.1529s]"
     ]
    },
    {
     "name": "stdout",
     "output_type": "stream",
     "text": [
      "Processed 34 in 0.1529 seconds\n",
      "Processed 35 in 0.1529 seconds\n"
     ]
    },
    {
     "name": "stderr",
     "output_type": "stream",
     "text": [
      " TRAIN: 38it [00:35,  3.10it/s, loss=0.1267, acc=0.9668, batch_time=0.1530s]"
     ]
    },
    {
     "name": "stdout",
     "output_type": "stream",
     "text": [
      "Processed 36 in 0.1529 seconds\n",
      "Processed 37 in 0.1530 seconds\n"
     ]
    },
    {
     "name": "stderr",
     "output_type": "stream",
     "text": [
      " TRAIN: 40it [00:36,  4.20it/s, loss=0.1264, acc=0.9746, batch_time=0.1530s]"
     ]
    },
    {
     "name": "stdout",
     "output_type": "stream",
     "text": [
      "Processed 38 in 0.1534 seconds\n",
      "Processed 39 in 0.1530 seconds\n"
     ]
    },
    {
     "name": "stderr",
     "output_type": "stream",
     "text": [
      "                                                                            "
     ]
    },
    {
     "name": "stdout",
     "output_type": "stream",
     "text": [
      "Processed 40 in 0.1742 seconds\n",
      "Processed 41 in 0.0220 seconds\n",
      " TRAIN | Loss: 0.1239 | Accuracy: 0.9702\n"
     ]
    },
    {
     "name": "stderr",
     "output_type": "stream",
     "text": [
      " TEST: 1it [00:08,  8.67s/it, loss=0.1278, acc=0.9629, batch_time=0.0602s]"
     ]
    },
    {
     "name": "stdout",
     "output_type": "stream",
     "text": [
      "Processed 0 in 0.0628 seconds\n",
      "Processed 1 in 0.0602 seconds\n"
     ]
    },
    {
     "name": "stderr",
     "output_type": "stream",
     "text": [
      " TEST: 3it [00:08,  2.35s/it, loss=0.1207, acc=0.9648, batch_time=0.0572s]"
     ]
    },
    {
     "name": "stdout",
     "output_type": "stream",
     "text": [
      "Processed 2 in 0.0572 seconds\n"
     ]
    },
    {
     "name": "stderr",
     "output_type": "stream",
     "text": [
      " TEST: 6it [00:09,  1.18it/s, loss=0.1320, acc=0.9707, batch_time=0.0572s]"
     ]
    },
    {
     "name": "stdout",
     "output_type": "stream",
     "text": [
      "Processed 3 in 0.0574 seconds\n",
      "Processed 4 in 0.0572 seconds\n",
      "Processed 5 in 0.0572 seconds\n",
      "Processed 6 in 0.0572 seconds\n"
     ]
    },
    {
     "name": "stderr",
     "output_type": "stream",
     "text": [
      " TEST: 10it [00:09,  2.86it/s, loss=0.1399, acc=0.9587, batch_time=0.0143s]"
     ]
    },
    {
     "name": "stdout",
     "output_type": "stream",
     "text": [
      "Processed 7 in 0.0572 seconds\n",
      "Processed 8 in 0.0573 seconds\n",
      "Processed 9 in 0.0572 seconds\n",
      "Processed 10 in 0.0143 seconds\n"
     ]
    },
    {
     "name": "stderr",
     "output_type": "stream",
     "text": [
      "\r                                                                           "
     ]
    },
    {
     "name": "stdout",
     "output_type": "stream",
     "text": [
      " TEST | Loss: 0.1405 | Accuracy: 0.9584\n",
      "\n",
      " Epoch 11/15 | LR: 0.001000\n",
      "--------------------------------------------------\n"
     ]
    },
    {
     "name": "stderr",
     "output_type": "stream",
     "text": [
      " TRAIN: 1it [00:08,  8.74s/it, loss=0.1180, acc=0.9727, batch_time=0.1695s]"
     ]
    },
    {
     "name": "stdout",
     "output_type": "stream",
     "text": [
      "Processed 0 in 0.1695 seconds\n"
     ]
    },
    {
     "name": "stderr",
     "output_type": "stream",
     "text": [
      " TRAIN: 3it [00:09,  2.13s/it, loss=0.1193, acc=0.9707, batch_time=0.1533s]"
     ]
    },
    {
     "name": "stdout",
     "output_type": "stream",
     "text": [
      "Processed 1 in 0.1635 seconds\n",
      "Processed 2 in 0.1533 seconds\n"
     ]
    },
    {
     "name": "stderr",
     "output_type": "stream",
     "text": [
      " TRAIN: 5it [00:10,  1.04s/it, loss=0.1214, acc=0.9746, batch_time=0.1531s]"
     ]
    },
    {
     "name": "stdout",
     "output_type": "stream",
     "text": [
      "Processed 3 in 0.1533 seconds\n",
      "Processed 4 in 0.1531 seconds\n"
     ]
    },
    {
     "name": "stderr",
     "output_type": "stream",
     "text": [
      " TRAIN: 7it [00:10,  1.81it/s, loss=0.1102, acc=0.9805, batch_time=0.1534s]"
     ]
    },
    {
     "name": "stdout",
     "output_type": "stream",
     "text": [
      "Processed 5 in 0.1534 seconds\n",
      "Processed 6 in 0.1534 seconds\n"
     ]
    },
    {
     "name": "stderr",
     "output_type": "stream",
     "text": [
      " TRAIN: 9it [00:10,  2.92it/s, loss=0.1009, acc=0.9785, batch_time=0.1530s]"
     ]
    },
    {
     "name": "stdout",
     "output_type": "stream",
     "text": [
      "Processed 7 in 0.1530 seconds\n",
      "Processed 8 in 0.1530 seconds\n"
     ]
    },
    {
     "name": "stderr",
     "output_type": "stream",
     "text": [
      " TRAIN: 10it [00:10,  3.50it/s, loss=0.1279, acc=0.9707, batch_time=0.1537s]"
     ]
    },
    {
     "name": "stdout",
     "output_type": "stream",
     "text": [
      "Processed 9 in 0.1537 seconds\n"
     ]
    },
    {
     "name": "stderr",
     "output_type": "stream",
     "text": [
      " TRAIN: 12it [00:17,  1.66s/it, loss=0.1176, acc=0.9648, batch_time=0.1532s]"
     ]
    },
    {
     "name": "stdout",
     "output_type": "stream",
     "text": [
      "Processed 10 in 0.1749 seconds\n",
      "Processed 11 in 0.1532 seconds\n"
     ]
    },
    {
     "name": "stderr",
     "output_type": "stream",
     "text": [
      " TRAIN: 14it [00:18,  1.13it/s, loss=0.1332, acc=0.9570, batch_time=0.1530s]"
     ]
    },
    {
     "name": "stdout",
     "output_type": "stream",
     "text": [
      "Processed 12 in 0.1530 seconds\n",
      "Processed 13 in 0.1530 seconds\n"
     ]
    },
    {
     "name": "stderr",
     "output_type": "stream",
     "text": [
      " TRAIN: 16it [00:18,  1.94it/s, loss=0.1277, acc=0.9707, batch_time=0.1538s]"
     ]
    },
    {
     "name": "stdout",
     "output_type": "stream",
     "text": [
      "Processed 14 in 0.1530 seconds\n",
      "Processed 15 in 0.1538 seconds\n"
     ]
    },
    {
     "name": "stderr",
     "output_type": "stream",
     "text": [
      " TRAIN: 18it [00:18,  3.01it/s, loss=0.1145, acc=0.9727, batch_time=0.1534s]"
     ]
    },
    {
     "name": "stdout",
     "output_type": "stream",
     "text": [
      "Processed 16 in 0.1530 seconds\n",
      "Processed 17 in 0.1534 seconds\n"
     ]
    },
    {
     "name": "stderr",
     "output_type": "stream",
     "text": [
      " TRAIN: 20it [00:19,  4.11it/s, loss=0.1296, acc=0.9648, batch_time=0.1535s]"
     ]
    },
    {
     "name": "stdout",
     "output_type": "stream",
     "text": [
      "Processed 18 in 0.1532 seconds\n",
      "Processed 19 in 0.1535 seconds\n"
     ]
    },
    {
     "name": "stderr",
     "output_type": "stream",
     "text": [
      " TRAIN: 22it [00:26,  1.67s/it, loss=0.1186, acc=0.9766, batch_time=0.1641s]"
     ]
    },
    {
     "name": "stdout",
     "output_type": "stream",
     "text": [
      "Processed 20 in 0.1745 seconds\n",
      "Processed 21 in 0.1641 seconds\n"
     ]
    },
    {
     "name": "stderr",
     "output_type": "stream",
     "text": [
      " TRAIN: 24it [00:26,  1.11it/s, loss=0.0983, acc=0.9746, batch_time=0.1530s]"
     ]
    },
    {
     "name": "stdout",
     "output_type": "stream",
     "text": [
      "Processed 22 in 0.1538 seconds\n",
      "Processed 23 in 0.1530 seconds\n"
     ]
    },
    {
     "name": "stderr",
     "output_type": "stream",
     "text": [
      " TRAIN: 26it [00:27,  1.92it/s, loss=0.1382, acc=0.9766, batch_time=0.1531s]"
     ]
    },
    {
     "name": "stdout",
     "output_type": "stream",
     "text": [
      "Processed 24 in 0.1532 seconds\n",
      "Processed 25 in 0.1531 seconds\n"
     ]
    },
    {
     "name": "stderr",
     "output_type": "stream",
     "text": [
      " TRAIN: 28it [00:27,  2.98it/s, loss=0.0962, acc=0.9785, batch_time=0.1537s]"
     ]
    },
    {
     "name": "stdout",
     "output_type": "stream",
     "text": [
      "Processed 26 in 0.1532 seconds\n",
      "Processed 27 in 0.1537 seconds\n"
     ]
    },
    {
     "name": "stderr",
     "output_type": "stream",
     "text": [
      " TRAIN: 30it [00:27,  4.08it/s, loss=0.1493, acc=0.9609, batch_time=0.1534s]"
     ]
    },
    {
     "name": "stdout",
     "output_type": "stream",
     "text": [
      "Processed 28 in 0.1529 seconds\n",
      "Processed 29 in 0.1534 seconds\n"
     ]
    },
    {
     "name": "stderr",
     "output_type": "stream",
     "text": [
      " TRAIN: 32it [00:34,  1.64s/it, loss=0.0834, acc=0.9824, batch_time=0.1640s]"
     ]
    },
    {
     "name": "stdout",
     "output_type": "stream",
     "text": [
      "Processed 30 in 0.1724 seconds\n",
      "Processed 31 in 0.1640 seconds\n"
     ]
    },
    {
     "name": "stderr",
     "output_type": "stream",
     "text": [
      " TRAIN: 34it [00:35,  1.13it/s, loss=0.1127, acc=0.9707, batch_time=0.1537s]"
     ]
    },
    {
     "name": "stdout",
     "output_type": "stream",
     "text": [
      "Processed 32 in 0.1531 seconds\n",
      "Processed 33 in 0.1537 seconds\n"
     ]
    },
    {
     "name": "stderr",
     "output_type": "stream",
     "text": [
      " TRAIN: 36it [00:35,  1.95it/s, loss=0.1037, acc=0.9785, batch_time=0.1531s]"
     ]
    },
    {
     "name": "stdout",
     "output_type": "stream",
     "text": [
      "Processed 34 in 0.1530 seconds\n",
      "Processed 35 in 0.1531 seconds\n"
     ]
    },
    {
     "name": "stderr",
     "output_type": "stream",
     "text": [
      " TRAIN: 38it [00:35,  3.02it/s, loss=0.1060, acc=0.9707, batch_time=0.1529s]"
     ]
    },
    {
     "name": "stdout",
     "output_type": "stream",
     "text": [
      "Processed 36 in 0.1530 seconds\n",
      "Processed 37 in 0.1529 seconds\n"
     ]
    },
    {
     "name": "stderr",
     "output_type": "stream",
     "text": [
      " TRAIN: 40it [00:36,  4.13it/s, loss=0.1068, acc=0.9746, batch_time=0.1529s]"
     ]
    },
    {
     "name": "stdout",
     "output_type": "stream",
     "text": [
      "Processed 38 in 0.1529 seconds\n",
      "Processed 39 in 0.1529 seconds\n"
     ]
    },
    {
     "name": "stderr",
     "output_type": "stream",
     "text": [
      "                                                                            "
     ]
    },
    {
     "name": "stdout",
     "output_type": "stream",
     "text": [
      "Processed 40 in 0.1531 seconds\n",
      "Processed 41 in 0.0208 seconds\n",
      " TRAIN | Loss: 0.1151 | Accuracy: 0.9725\n"
     ]
    },
    {
     "name": "stderr",
     "output_type": "stream",
     "text": [
      " TEST: 2it [00:09,  3.78s/it, loss=0.1169, acc=0.9688, batch_time=0.0627s]"
     ]
    },
    {
     "name": "stdout",
     "output_type": "stream",
     "text": [
      "Processed 0 in 0.0628 seconds\n",
      "Processed 1 in 0.0627 seconds\n"
     ]
    },
    {
     "name": "stderr",
     "output_type": "stream",
     "text": [
      " TEST: 6it [00:09,  1.26it/s, loss=0.1374, acc=0.9551, batch_time=0.0573s]"
     ]
    },
    {
     "name": "stdout",
     "output_type": "stream",
     "text": [
      "Processed 2 in 0.0625 seconds\n",
      "Processed 3 in 0.0574 seconds\n",
      "Processed 4 in 0.0574 seconds\n",
      "Processed 5 in 0.0573 seconds\n"
     ]
    },
    {
     "name": "stderr",
     "output_type": "stream",
     "text": [
      "                                                                           "
     ]
    },
    {
     "name": "stdout",
     "output_type": "stream",
     "text": [
      "Processed 6 in 0.0574 seconds\n",
      "Processed 7 in 0.0574 seconds\n",
      "Processed 8 in 0.0573 seconds\n",
      "Processed 9 in 0.0573 seconds\n"
     ]
    },
    {
     "name": "stderr",
     "output_type": "stream",
     "text": [
      "                                                                           "
     ]
    },
    {
     "name": "stdout",
     "output_type": "stream",
     "text": [
      "Processed 10 in 0.0144 seconds\n",
      " TEST | Loss: 0.1362 | Accuracy: 0.9588\n",
      "\n",
      " Epoch 12/15 | LR: 0.001000\n",
      "--------------------------------------------------\n"
     ]
    },
    {
     "name": "stderr",
     "output_type": "stream",
     "text": [
      " TRAIN: 2it [00:09,  4.09s/it, loss=0.1208, acc=0.9805, batch_time=0.1552s]"
     ]
    },
    {
     "name": "stdout",
     "output_type": "stream",
     "text": [
      "Processed 0 in 0.1754 seconds\n",
      "Processed 1 in 0.1552 seconds\n"
     ]
    },
    {
     "name": "stderr",
     "output_type": "stream",
     "text": [
      " TRAIN: 4it [00:10,  1.45s/it, loss=0.1215, acc=0.9727, batch_time=0.1534s]"
     ]
    },
    {
     "name": "stdout",
     "output_type": "stream",
     "text": [
      "Processed 2 in 0.1537 seconds\n",
      "Processed 3 in 0.1534 seconds\n"
     ]
    },
    {
     "name": "stderr",
     "output_type": "stream",
     "text": [
      " TRAIN: 6it [00:10,  1.42it/s, loss=0.1081, acc=0.9746, batch_time=0.1536s]"
     ]
    },
    {
     "name": "stdout",
     "output_type": "stream",
     "text": [
      "Processed 4 in 0.1536 seconds\n",
      "Processed 5 in 0.1536 seconds\n"
     ]
    },
    {
     "name": "stderr",
     "output_type": "stream",
     "text": [
      " TRAIN: 8it [00:10,  2.45it/s, loss=0.1179, acc=0.9688, batch_time=0.1538s]"
     ]
    },
    {
     "name": "stdout",
     "output_type": "stream",
     "text": [
      "Processed 6 in 0.1531 seconds\n",
      "Processed 7 in 0.1538 seconds\n"
     ]
    },
    {
     "name": "stderr",
     "output_type": "stream",
     "text": [
      " TRAIN: 10it [00:11,  3.60it/s, loss=0.1265, acc=0.9688, batch_time=0.1533s]"
     ]
    },
    {
     "name": "stdout",
     "output_type": "stream",
     "text": [
      "Processed 8 in 0.1536 seconds\n",
      "Processed 9 in 0.1533 seconds\n"
     ]
    },
    {
     "name": "stderr",
     "output_type": "stream",
     "text": [
      " TRAIN: 12it [00:18,  1.61s/it, loss=0.1380, acc=0.9668, batch_time=0.1537s]"
     ]
    },
    {
     "name": "stdout",
     "output_type": "stream",
     "text": [
      "Processed 10 in 0.1654 seconds\n",
      "Processed 11 in 0.1537 seconds\n"
     ]
    },
    {
     "name": "stderr",
     "output_type": "stream",
     "text": [
      " TRAIN: 14it [00:18,  1.16it/s, loss=0.0878, acc=0.9844, batch_time=0.1531s]"
     ]
    },
    {
     "name": "stdout",
     "output_type": "stream",
     "text": [
      "Processed 12 in 0.1534 seconds\n",
      "Processed 13 in 0.1531 seconds\n"
     ]
    },
    {
     "name": "stderr",
     "output_type": "stream",
     "text": [
      " TRAIN: 16it [00:18,  1.99it/s, loss=0.0770, acc=0.9883, batch_time=0.1531s]"
     ]
    },
    {
     "name": "stdout",
     "output_type": "stream",
     "text": [
      "Processed 14 in 0.1536 seconds\n",
      "Processed 15 in 0.1531 seconds\n"
     ]
    },
    {
     "name": "stderr",
     "output_type": "stream",
     "text": [
      " TRAIN: 18it [00:18,  3.06it/s, loss=0.1345, acc=0.9688, batch_time=0.1532s]"
     ]
    },
    {
     "name": "stdout",
     "output_type": "stream",
     "text": [
      "Processed 16 in 0.1535 seconds\n",
      "Processed 17 in 0.1532 seconds\n"
     ]
    },
    {
     "name": "stderr",
     "output_type": "stream",
     "text": [
      " TRAIN: 20it [00:19,  4.15it/s, loss=0.0961, acc=0.9824, batch_time=0.1536s]"
     ]
    },
    {
     "name": "stdout",
     "output_type": "stream",
     "text": [
      "Processed 18 in 0.1537 seconds\n",
      "Processed 19 in 0.1536 seconds\n"
     ]
    },
    {
     "name": "stderr",
     "output_type": "stream",
     "text": [
      " TRAIN: 22it [00:26,  1.67s/it, loss=0.0843, acc=0.9824, batch_time=0.1535s]"
     ]
    },
    {
     "name": "stdout",
     "output_type": "stream",
     "text": [
      "Processed 20 in 0.1752 seconds\n",
      "Processed 21 in 0.1535 seconds\n"
     ]
    },
    {
     "name": "stderr",
     "output_type": "stream",
     "text": [
      " TRAIN: 24it [00:26,  1.12it/s, loss=0.1171, acc=0.9668, batch_time=0.1535s]"
     ]
    },
    {
     "name": "stdout",
     "output_type": "stream",
     "text": [
      "Processed 22 in 0.1534 seconds\n",
      "Processed 23 in 0.1535 seconds\n"
     ]
    },
    {
     "name": "stderr",
     "output_type": "stream",
     "text": [
      " TRAIN: 26it [00:27,  1.92it/s, loss=0.0907, acc=0.9805, batch_time=0.1531s]"
     ]
    },
    {
     "name": "stdout",
     "output_type": "stream",
     "text": [
      "Processed 24 in 0.1531 seconds\n",
      "Processed 25 in 0.1531 seconds\n"
     ]
    },
    {
     "name": "stderr",
     "output_type": "stream",
     "text": [
      " TRAIN: 28it [00:27,  2.98it/s, loss=0.0961, acc=0.9746, batch_time=0.1536s]"
     ]
    },
    {
     "name": "stdout",
     "output_type": "stream",
     "text": [
      "Processed 26 in 0.1530 seconds\n",
      "Processed 27 in 0.1536 seconds\n"
     ]
    },
    {
     "name": "stderr",
     "output_type": "stream",
     "text": [
      " TRAIN: 30it [00:27,  4.08it/s, loss=0.1321, acc=0.9648, batch_time=0.1534s]"
     ]
    },
    {
     "name": "stdout",
     "output_type": "stream",
     "text": [
      "Processed 28 in 0.1531 seconds\n",
      "Processed 29 in 0.1534 seconds\n"
     ]
    },
    {
     "name": "stderr",
     "output_type": "stream",
     "text": [
      " TRAIN: 32it [00:34,  1.52s/it, loss=0.1098, acc=0.9688, batch_time=0.1530s]"
     ]
    },
    {
     "name": "stdout",
     "output_type": "stream",
     "text": [
      "Processed 30 in 0.1746 seconds\n",
      "Processed 31 in 0.1530 seconds\n"
     ]
    },
    {
     "name": "stderr",
     "output_type": "stream",
     "text": [
      " TRAIN: 34it [00:34,  1.21it/s, loss=0.0969, acc=0.9766, batch_time=0.1529s]"
     ]
    },
    {
     "name": "stdout",
     "output_type": "stream",
     "text": [
      "Processed 32 in 0.1530 seconds\n",
      "Processed 33 in 0.1529 seconds\n"
     ]
    },
    {
     "name": "stderr",
     "output_type": "stream",
     "text": [
      " TRAIN: 36it [00:35,  2.06it/s, loss=0.1093, acc=0.9746, batch_time=0.1530s]"
     ]
    },
    {
     "name": "stdout",
     "output_type": "stream",
     "text": [
      "Processed 34 in 0.1536 seconds\n",
      "Processed 35 in 0.1530 seconds\n"
     ]
    },
    {
     "name": "stderr",
     "output_type": "stream",
     "text": [
      " TRAIN: 38it [00:35,  3.15it/s, loss=0.1374, acc=0.9668, batch_time=0.1529s]"
     ]
    },
    {
     "name": "stdout",
     "output_type": "stream",
     "text": [
      "Processed 36 in 0.1530 seconds\n",
      "Processed 37 in 0.1529 seconds\n"
     ]
    },
    {
     "name": "stderr",
     "output_type": "stream",
     "text": [
      " TRAIN: 40it [00:35,  4.24it/s, loss=0.1216, acc=0.9727, batch_time=0.1530s]"
     ]
    },
    {
     "name": "stdout",
     "output_type": "stream",
     "text": [
      "Processed 38 in 0.1529 seconds\n",
      "Processed 39 in 0.1530 seconds\n"
     ]
    },
    {
     "name": "stderr",
     "output_type": "stream",
     "text": [
      "                                                                            "
     ]
    },
    {
     "name": "stdout",
     "output_type": "stream",
     "text": [
      "Processed 40 in 0.1530 seconds\n",
      "Processed 41 in 0.0200 seconds\n",
      " TRAIN | Loss: 0.1092 | Accuracy: 0.9739\n"
     ]
    },
    {
     "name": "stderr",
     "output_type": "stream",
     "text": [
      " TEST: 1it [00:08,  8.44s/it, loss=0.1399, acc=0.9512, batch_time=0.0626s]"
     ]
    },
    {
     "name": "stdout",
     "output_type": "stream",
     "text": [
      "Processed 0 in 0.0626 seconds\n"
     ]
    },
    {
     "name": "stderr",
     "output_type": "stream",
     "text": [
      " TEST: 4it [00:09,  1.56s/it, loss=0.1192, acc=0.9688, batch_time=0.0573s]"
     ]
    },
    {
     "name": "stdout",
     "output_type": "stream",
     "text": [
      "Processed 1 in 0.0625 seconds\n",
      "Processed 2 in 0.0624 seconds\n",
      "Processed 3 in 0.0625 seconds\n",
      "Processed 4 in 0.0573 seconds\n"
     ]
    },
    {
     "name": "stderr",
     "output_type": "stream",
     "text": [
      " TEST: 8it [00:09,  1.87it/s, loss=0.1243, acc=0.9590, batch_time=0.0573s]"
     ]
    },
    {
     "name": "stdout",
     "output_type": "stream",
     "text": [
      "Processed 5 in 0.0574 seconds\n",
      "Processed 6 in 0.0573 seconds\n",
      "Processed 7 in 0.0573 seconds\n",
      "Processed 8 in 0.0573 seconds\n"
     ]
    },
    {
     "name": "stderr",
     "output_type": "stream",
     "text": [
      "                                                                           "
     ]
    },
    {
     "name": "stdout",
     "output_type": "stream",
     "text": [
      "Processed 9 in 0.0572 seconds\n",
      "Processed 10 in 0.0143 seconds\n",
      " TEST | Loss: 0.1311 | Accuracy: 0.9601\n",
      "\n",
      " Epoch 13/15 | LR: 0.001000\n",
      "--------------------------------------------------\n"
     ]
    },
    {
     "name": "stderr",
     "output_type": "stream",
     "text": [
      " TRAIN: 2it [00:10,  4.18s/it, loss=0.1133, acc=0.9688, batch_time=0.1588s]"
     ]
    },
    {
     "name": "stdout",
     "output_type": "stream",
     "text": [
      "Processed 0 in 0.1748 seconds\n",
      "Processed 1 in 0.1588 seconds\n"
     ]
    },
    {
     "name": "stderr",
     "output_type": "stream",
     "text": [
      " TRAIN: 4it [00:10,  1.48s/it, loss=0.1464, acc=0.9629, batch_time=0.1534s]"
     ]
    },
    {
     "name": "stdout",
     "output_type": "stream",
     "text": [
      "Processed 2 in 0.1530 seconds\n",
      "Processed 3 in 0.1534 seconds\n"
     ]
    },
    {
     "name": "stderr",
     "output_type": "stream",
     "text": [
      " TRAIN: 6it [00:10,  1.40it/s, loss=0.0907, acc=0.9805, batch_time=0.1536s]"
     ]
    },
    {
     "name": "stdout",
     "output_type": "stream",
     "text": [
      "Processed 4 in 0.1530 seconds\n",
      "Processed 5 in 0.1536 seconds\n"
     ]
    },
    {
     "name": "stderr",
     "output_type": "stream",
     "text": [
      " TRAIN: 8it [00:11,  2.42it/s, loss=0.1064, acc=0.9707, batch_time=0.1534s]"
     ]
    },
    {
     "name": "stdout",
     "output_type": "stream",
     "text": [
      "Processed 6 in 0.1532 seconds\n",
      "Processed 7 in 0.1534 seconds\n"
     ]
    },
    {
     "name": "stderr",
     "output_type": "stream",
     "text": [
      " TRAIN: 10it [00:11,  3.57it/s, loss=0.1046, acc=0.9805, batch_time=0.1534s]"
     ]
    },
    {
     "name": "stdout",
     "output_type": "stream",
     "text": [
      "Processed 8 in 0.1532 seconds\n",
      "Processed 9 in 0.1534 seconds\n"
     ]
    },
    {
     "name": "stderr",
     "output_type": "stream",
     "text": [
      " TRAIN: 12it [00:18,  1.62s/it, loss=0.1079, acc=0.9766, batch_time=0.1546s]"
     ]
    },
    {
     "name": "stdout",
     "output_type": "stream",
     "text": [
      "Processed 10 in 0.1657 seconds\n",
      "Processed 11 in 0.1546 seconds\n"
     ]
    },
    {
     "name": "stderr",
     "output_type": "stream",
     "text": [
      " TRAIN: 14it [00:18,  1.15it/s, loss=0.0894, acc=0.9805, batch_time=0.1531s]"
     ]
    },
    {
     "name": "stdout",
     "output_type": "stream",
     "text": [
      "Processed 12 in 0.1530 seconds\n",
      "Processed 13 in 0.1531 seconds\n"
     ]
    },
    {
     "name": "stderr",
     "output_type": "stream",
     "text": [
      " TRAIN: 16it [00:18,  1.98it/s, loss=0.1105, acc=0.9746, batch_time=0.1532s]"
     ]
    },
    {
     "name": "stdout",
     "output_type": "stream",
     "text": [
      "Processed 14 in 0.1530 seconds\n",
      "Processed 15 in 0.1532 seconds\n"
     ]
    },
    {
     "name": "stderr",
     "output_type": "stream",
     "text": [
      " TRAIN: 18it [00:19,  3.05it/s, loss=0.1427, acc=0.9570, batch_time=0.1534s]"
     ]
    },
    {
     "name": "stdout",
     "output_type": "stream",
     "text": [
      "Processed 16 in 0.1536 seconds\n",
      "Processed 17 in 0.1534 seconds\n"
     ]
    },
    {
     "name": "stderr",
     "output_type": "stream",
     "text": [
      " TRAIN: 20it [00:19,  4.15it/s, loss=0.1061, acc=0.9824, batch_time=0.1530s]"
     ]
    },
    {
     "name": "stdout",
     "output_type": "stream",
     "text": [
      "Processed 18 in 0.1530 seconds\n",
      "Processed 19 in 0.1530 seconds\n"
     ]
    },
    {
     "name": "stderr",
     "output_type": "stream",
     "text": [
      " TRAIN: 22it [00:26,  1.56s/it, loss=0.1044, acc=0.9746, batch_time=0.1560s]"
     ]
    },
    {
     "name": "stdout",
     "output_type": "stream",
     "text": [
      "Processed 20 in 0.1659 seconds\n",
      "Processed 21 in 0.1560 seconds\n"
     ]
    },
    {
     "name": "stderr",
     "output_type": "stream",
     "text": [
      " TRAIN: 24it [00:26,  1.19it/s, loss=0.0987, acc=0.9746, batch_time=0.1531s]"
     ]
    },
    {
     "name": "stdout",
     "output_type": "stream",
     "text": [
      "Processed 22 in 0.1533 seconds\n",
      "Processed 23 in 0.1531 seconds\n"
     ]
    },
    {
     "name": "stderr",
     "output_type": "stream",
     "text": [
      " TRAIN: 26it [00:26,  2.02it/s, loss=0.0740, acc=0.9844, batch_time=0.1531s]"
     ]
    },
    {
     "name": "stdout",
     "output_type": "stream",
     "text": [
      "Processed 24 in 0.1538 seconds\n",
      "Processed 25 in 0.1531 seconds\n"
     ]
    },
    {
     "name": "stderr",
     "output_type": "stream",
     "text": [
      " TRAIN: 28it [00:27,  3.10it/s, loss=0.1177, acc=0.9707, batch_time=0.1530s]"
     ]
    },
    {
     "name": "stdout",
     "output_type": "stream",
     "text": [
      "Processed 26 in 0.1531 seconds\n",
      "Processed 27 in 0.1530 seconds\n"
     ]
    },
    {
     "name": "stderr",
     "output_type": "stream",
     "text": [
      " TRAIN: 30it [00:27,  4.19it/s, loss=0.0727, acc=0.9844, batch_time=0.1531s]"
     ]
    },
    {
     "name": "stdout",
     "output_type": "stream",
     "text": [
      "Processed 28 in 0.1534 seconds\n",
      "Processed 29 in 0.1531 seconds\n"
     ]
    },
    {
     "name": "stderr",
     "output_type": "stream",
     "text": [
      " TRAIN: 32it [00:34,  1.59s/it, loss=0.1198, acc=0.9648, batch_time=0.1539s]"
     ]
    },
    {
     "name": "stdout",
     "output_type": "stream",
     "text": [
      "Processed 30 in 0.1654 seconds\n",
      "Processed 31 in 0.1539 seconds\n"
     ]
    },
    {
     "name": "stderr",
     "output_type": "stream",
     "text": [
      " TRAIN: 34it [00:34,  1.16it/s, loss=0.0874, acc=0.9844, batch_time=0.1530s]"
     ]
    },
    {
     "name": "stdout",
     "output_type": "stream",
     "text": [
      "Processed 32 in 0.1530 seconds\n",
      "Processed 33 in 0.1530 seconds\n"
     ]
    },
    {
     "name": "stderr",
     "output_type": "stream",
     "text": [
      " TRAIN: 36it [00:35,  1.99it/s, loss=0.0990, acc=0.9746, batch_time=0.1530s]"
     ]
    },
    {
     "name": "stdout",
     "output_type": "stream",
     "text": [
      "Processed 34 in 0.1529 seconds\n",
      "Processed 35 in 0.1530 seconds\n"
     ]
    },
    {
     "name": "stderr",
     "output_type": "stream",
     "text": [
      " TRAIN: 38it [00:35,  3.07it/s, loss=0.1037, acc=0.9688, batch_time=0.1530s]"
     ]
    },
    {
     "name": "stdout",
     "output_type": "stream",
     "text": [
      "Processed 36 in 0.1530 seconds\n",
      "Processed 37 in 0.1530 seconds\n"
     ]
    },
    {
     "name": "stderr",
     "output_type": "stream",
     "text": [
      " TRAIN: 40it [00:35,  4.17it/s, loss=0.0879, acc=0.9785, batch_time=0.1530s]"
     ]
    },
    {
     "name": "stdout",
     "output_type": "stream",
     "text": [
      "Processed 38 in 0.1530 seconds\n",
      "Processed 39 in 0.1530 seconds\n"
     ]
    },
    {
     "name": "stderr",
     "output_type": "stream",
     "text": [
      "                                                                            "
     ]
    },
    {
     "name": "stdout",
     "output_type": "stream",
     "text": [
      "Processed 40 in 0.1740 seconds\n",
      "Processed 41 in 0.0216 seconds\n",
      " TRAIN | Loss: 0.1037 | Accuracy: 0.9752\n"
     ]
    },
    {
     "name": "stderr",
     "output_type": "stream",
     "text": [
      " TEST: 1it [00:08,  8.52s/it, loss=0.1224, acc=0.9629, batch_time=0.0628s]"
     ]
    },
    {
     "name": "stdout",
     "output_type": "stream",
     "text": [
      "Processed 0 in 0.0628 seconds\n"
     ]
    },
    {
     "name": "stderr",
     "output_type": "stream",
     "text": [
      " TEST: 2it [00:09,  3.82s/it, loss=0.1450, acc=0.9590, batch_time=0.0609s]"
     ]
    },
    {
     "name": "stdout",
     "output_type": "stream",
     "text": [
      "Processed 1 in 0.0625 seconds\n",
      "Processed 2 in 0.0609 seconds\n"
     ]
    },
    {
     "name": "stderr",
     "output_type": "stream",
     "text": [
      " TEST: 6it [00:09,  1.21it/s, loss=0.1121, acc=0.9688, batch_time=0.0572s]"
     ]
    },
    {
     "name": "stdout",
     "output_type": "stream",
     "text": [
      "Processed 3 in 0.0573 seconds\n",
      "Processed 4 in 0.0572 seconds\n",
      "Processed 5 in 0.0572 seconds\n",
      "Processed 6 in 0.0572 seconds\n"
     ]
    },
    {
     "name": "stderr",
     "output_type": "stream",
     "text": [
      " TEST: 10it [00:09,  2.86it/s, loss=0.1061, acc=0.9835, batch_time=0.0143s]"
     ]
    },
    {
     "name": "stdout",
     "output_type": "stream",
     "text": [
      "Processed 7 in 0.0572 seconds\n",
      "Processed 8 in 0.0572 seconds\n",
      "Processed 9 in 0.0572 seconds\n",
      "Processed 10 in 0.0143 seconds\n"
     ]
    },
    {
     "name": "stderr",
     "output_type": "stream",
     "text": [
      "\r                                                                           "
     ]
    },
    {
     "name": "stdout",
     "output_type": "stream",
     "text": [
      " TEST | Loss: 0.1279 | Accuracy: 0.9620\n",
      "\n",
      " Epoch 14/15 | LR: 0.001000\n",
      "--------------------------------------------------\n"
     ]
    },
    {
     "name": "stderr",
     "output_type": "stream",
     "text": [
      " TRAIN: 2it [00:09,  4.14s/it, loss=0.0719, acc=0.9844, batch_time=0.1616s]"
     ]
    },
    {
     "name": "stdout",
     "output_type": "stream",
     "text": [
      "Processed 0 in 0.1701 seconds\n",
      "Processed 1 in 0.1616 seconds\n"
     ]
    },
    {
     "name": "stderr",
     "output_type": "stream",
     "text": [
      " TRAIN: 4it [00:10,  1.47s/it, loss=0.1121, acc=0.9688, batch_time=0.1537s]"
     ]
    },
    {
     "name": "stdout",
     "output_type": "stream",
     "text": [
      "Processed 2 in 0.1537 seconds\n",
      "Processed 3 in 0.1537 seconds\n"
     ]
    },
    {
     "name": "stderr",
     "output_type": "stream",
     "text": [
      " TRAIN: 6it [00:10,  1.41it/s, loss=0.0740, acc=0.9863, batch_time=0.1532s]"
     ]
    },
    {
     "name": "stdout",
     "output_type": "stream",
     "text": [
      "Processed 4 in 0.1532 seconds\n",
      "Processed 5 in 0.1532 seconds\n"
     ]
    },
    {
     "name": "stderr",
     "output_type": "stream",
     "text": [
      " TRAIN: 8it [00:10,  2.43it/s, loss=0.1211, acc=0.9648, batch_time=0.1532s]"
     ]
    },
    {
     "name": "stdout",
     "output_type": "stream",
     "text": [
      "Processed 6 in 0.1537 seconds\n",
      "Processed 7 in 0.1532 seconds\n"
     ]
    },
    {
     "name": "stderr",
     "output_type": "stream",
     "text": [
      " TRAIN: 10it [00:11,  3.59it/s, loss=0.0991, acc=0.9766, batch_time=0.1530s]"
     ]
    },
    {
     "name": "stdout",
     "output_type": "stream",
     "text": [
      "Processed 8 in 0.1534 seconds\n",
      "Processed 9 in 0.1530 seconds\n"
     ]
    },
    {
     "name": "stderr",
     "output_type": "stream",
     "text": [
      " TRAIN: 12it [00:17,  1.56s/it, loss=0.0916, acc=0.9805, batch_time=0.1636s]"
     ]
    },
    {
     "name": "stdout",
     "output_type": "stream",
     "text": [
      "Processed 10 in 0.1751 seconds\n",
      "Processed 11 in 0.1636 seconds\n"
     ]
    },
    {
     "name": "stderr",
     "output_type": "stream",
     "text": [
      " TRAIN: 14it [00:18,  1.19it/s, loss=0.0789, acc=0.9863, batch_time=0.1540s]"
     ]
    },
    {
     "name": "stdout",
     "output_type": "stream",
     "text": [
      "Processed 12 in 0.1534 seconds\n",
      "Processed 13 in 0.1540 seconds\n"
     ]
    },
    {
     "name": "stderr",
     "output_type": "stream",
     "text": [
      " TRAIN: 16it [00:18,  2.04it/s, loss=0.0940, acc=0.9727, batch_time=0.1534s]"
     ]
    },
    {
     "name": "stdout",
     "output_type": "stream",
     "text": [
      "Processed 14 in 0.1538 seconds\n",
      "Processed 15 in 0.1534 seconds\n"
     ]
    },
    {
     "name": "stderr",
     "output_type": "stream",
     "text": [
      " TRAIN: 18it [00:18,  3.12it/s, loss=0.0954, acc=0.9824, batch_time=0.1531s]"
     ]
    },
    {
     "name": "stdout",
     "output_type": "stream",
     "text": [
      "Processed 16 in 0.1532 seconds\n",
      "Processed 17 in 0.1531 seconds\n"
     ]
    },
    {
     "name": "stderr",
     "output_type": "stream",
     "text": [
      " TRAIN: 20it [00:19,  4.20it/s, loss=0.0878, acc=0.9824, batch_time=0.1537s]"
     ]
    },
    {
     "name": "stdout",
     "output_type": "stream",
     "text": [
      "Processed 18 in 0.1536 seconds\n",
      "Processed 19 in 0.1537 seconds\n"
     ]
    },
    {
     "name": "stderr",
     "output_type": "stream",
     "text": [
      " TRAIN: 22it [00:26,  1.65s/it, loss=0.0821, acc=0.9727, batch_time=0.1531s]"
     ]
    },
    {
     "name": "stdout",
     "output_type": "stream",
     "text": [
      "Processed 20 in 0.1747 seconds\n",
      "Processed 21 in 0.1531 seconds\n"
     ]
    },
    {
     "name": "stderr",
     "output_type": "stream",
     "text": [
      " TRAIN: 24it [00:26,  1.12it/s, loss=0.1201, acc=0.9707, batch_time=0.1530s]"
     ]
    },
    {
     "name": "stdout",
     "output_type": "stream",
     "text": [
      "Processed 22 in 0.1532 seconds\n",
      "Processed 23 in 0.1530 seconds\n"
     ]
    },
    {
     "name": "stderr",
     "output_type": "stream",
     "text": [
      " TRAIN: 26it [00:27,  1.93it/s, loss=0.0801, acc=0.9844, batch_time=0.1530s]"
     ]
    },
    {
     "name": "stdout",
     "output_type": "stream",
     "text": [
      "Processed 24 in 0.1530 seconds\n",
      "Processed 25 in 0.1530 seconds\n"
     ]
    },
    {
     "name": "stderr",
     "output_type": "stream",
     "text": [
      " TRAIN: 28it [00:27,  3.00it/s, loss=0.0957, acc=0.9805, batch_time=0.1533s]"
     ]
    },
    {
     "name": "stdout",
     "output_type": "stream",
     "text": [
      "Processed 26 in 0.1531 seconds\n",
      "Processed 27 in 0.1533 seconds\n"
     ]
    },
    {
     "name": "stderr",
     "output_type": "stream",
     "text": [
      " TRAIN: 30it [00:27,  4.10it/s, loss=0.1099, acc=0.9824, batch_time=0.1536s]"
     ]
    },
    {
     "name": "stdout",
     "output_type": "stream",
     "text": [
      "Processed 28 in 0.1537 seconds\n",
      "Processed 29 in 0.1536 seconds\n"
     ]
    },
    {
     "name": "stderr",
     "output_type": "stream",
     "text": [
      " TRAIN: 32it [00:34,  1.55s/it, loss=0.0925, acc=0.9766, batch_time=0.1553s]"
     ]
    },
    {
     "name": "stdout",
     "output_type": "stream",
     "text": [
      "Processed 30 in 0.1744 seconds\n",
      "Processed 31 in 0.1553 seconds\n"
     ]
    },
    {
     "name": "stderr",
     "output_type": "stream",
     "text": [
      " TRAIN: 34it [00:34,  1.19it/s, loss=0.0799, acc=0.9883, batch_time=0.1534s]"
     ]
    },
    {
     "name": "stdout",
     "output_type": "stream",
     "text": [
      "Processed 32 in 0.1531 seconds\n",
      "Processed 33 in 0.1534 seconds\n"
     ]
    },
    {
     "name": "stderr",
     "output_type": "stream",
     "text": [
      " TRAIN: 36it [00:35,  2.04it/s, loss=0.1012, acc=0.9707, batch_time=0.1530s]"
     ]
    },
    {
     "name": "stdout",
     "output_type": "stream",
     "text": [
      "Processed 34 in 0.1530 seconds\n",
      "Processed 35 in 0.1530 seconds\n"
     ]
    },
    {
     "name": "stderr",
     "output_type": "stream",
     "text": [
      " TRAIN: 38it [00:35,  3.11it/s, loss=0.1048, acc=0.9766, batch_time=0.1530s]"
     ]
    },
    {
     "name": "stdout",
     "output_type": "stream",
     "text": [
      "Processed 36 in 0.1535 seconds\n",
      "Processed 37 in 0.1530 seconds\n"
     ]
    },
    {
     "name": "stderr",
     "output_type": "stream",
     "text": [
      " TRAIN: 40it [00:35,  4.21it/s, loss=0.1177, acc=0.9707, batch_time=0.1532s]"
     ]
    },
    {
     "name": "stdout",
     "output_type": "stream",
     "text": [
      "Processed 38 in 0.1529 seconds\n",
      "Processed 39 in 0.1532 seconds\n"
     ]
    },
    {
     "name": "stderr",
     "output_type": "stream",
     "text": [
      "                                                                            "
     ]
    },
    {
     "name": "stdout",
     "output_type": "stream",
     "text": [
      "Processed 40 in 0.1529 seconds\n",
      "Processed 41 in 0.0193 seconds\n",
      " TRAIN | Loss: 0.0978 | Accuracy: 0.9764\n"
     ]
    },
    {
     "name": "stderr",
     "output_type": "stream",
     "text": [
      " TEST: 2it [00:09,  3.71s/it, loss=0.1411, acc=0.9570, batch_time=0.0625s]"
     ]
    },
    {
     "name": "stdout",
     "output_type": "stream",
     "text": [
      "Processed 0 in 0.0627 seconds\n",
      "Processed 1 in 0.0626 seconds\n"
     ]
    },
    {
     "name": "stderr",
     "output_type": "stream",
     "text": [
      " TEST: 4it [00:09,  1.43s/it, loss=0.1279, acc=0.9570, batch_time=0.0574s]"
     ]
    },
    {
     "name": "stdout",
     "output_type": "stream",
     "text": [
      "Processed 2 in 0.0625 seconds\n",
      "Processed 3 in 0.0601 seconds\n"
     ]
    },
    {
     "name": "stderr",
     "output_type": "stream",
     "text": [
      " TEST: 7it [00:09,  1.74it/s, loss=0.0920, acc=0.9746, batch_time=0.0574s]"
     ]
    },
    {
     "name": "stdout",
     "output_type": "stream",
     "text": [
      "Processed 4 in 0.0574 seconds\n",
      "Processed 5 in 0.0573 seconds\n",
      "Processed 6 in 0.0574 seconds\n"
     ]
    },
    {
     "name": "stderr",
     "output_type": "stream",
     "text": [
      " TEST: 9it [00:09,  2.58it/s, loss=0.1140, acc=0.9669, batch_time=0.0143s]"
     ]
    },
    {
     "name": "stdout",
     "output_type": "stream",
     "text": [
      "Processed 7 in 0.0573 seconds\n",
      "Processed 8 in 0.0573 seconds\n",
      "Processed 9 in 0.0573 seconds\n",
      "Processed 10 in 0.0143 seconds\n"
     ]
    },
    {
     "name": "stderr",
     "output_type": "stream",
     "text": [
      "\r                                                                          "
     ]
    },
    {
     "name": "stdout",
     "output_type": "stream",
     "text": [
      " TEST | Loss: 0.1243 | Accuracy: 0.9626\n",
      "\n",
      " Epoch 15/15 | LR: 0.001000\n",
      "--------------------------------------------------\n"
     ]
    },
    {
     "name": "stderr",
     "output_type": "stream",
     "text": [
      " TRAIN: 1it [00:08,  8.91s/it, loss=0.0789, acc=0.9746, batch_time=0.1759s]"
     ]
    },
    {
     "name": "stdout",
     "output_type": "stream",
     "text": [
      "Processed 0 in 0.1759 seconds\n"
     ]
    },
    {
     "name": "stderr",
     "output_type": "stream",
     "text": [
      " TRAIN: 3it [00:09,  2.16s/it, loss=0.1045, acc=0.9766, batch_time=0.1538s]"
     ]
    },
    {
     "name": "stdout",
     "output_type": "stream",
     "text": [
      "Processed 1 in 0.1535 seconds\n",
      "Processed 2 in 0.1538 seconds\n"
     ]
    },
    {
     "name": "stderr",
     "output_type": "stream",
     "text": [
      " TRAIN: 4it [00:09,  1.37s/it, loss=0.0778, acc=0.9805, batch_time=0.1535s]"
     ]
    },
    {
     "name": "stdout",
     "output_type": "stream",
     "text": [
      "Processed 3 in 0.1535 seconds\n"
     ]
    },
    {
     "name": "stderr",
     "output_type": "stream",
     "text": [
      " TRAIN: 6it [00:09,  1.41it/s, loss=0.1021, acc=0.9766, batch_time=0.1531s]"
     ]
    },
    {
     "name": "stdout",
     "output_type": "stream",
     "text": [
      "Processed 4 in 0.1532 seconds\n",
      "Processed 5 in 0.1531 seconds\n"
     ]
    },
    {
     "name": "stderr",
     "output_type": "stream",
     "text": [
      " TRAIN: 8it [00:10,  2.44it/s, loss=0.0970, acc=0.9824, batch_time=0.1537s]"
     ]
    },
    {
     "name": "stdout",
     "output_type": "stream",
     "text": [
      "Processed 6 in 0.1530 seconds\n",
      "Processed 7 in 0.1537 seconds\n"
     ]
    },
    {
     "name": "stderr",
     "output_type": "stream",
     "text": [
      " TRAIN: 10it [00:10,  3.59it/s, loss=0.0839, acc=0.9805, batch_time=0.1532s]"
     ]
    },
    {
     "name": "stdout",
     "output_type": "stream",
     "text": [
      "Processed 8 in 0.1530 seconds\n",
      "Processed 9 in 0.1532 seconds\n"
     ]
    },
    {
     "name": "stderr",
     "output_type": "stream",
     "text": [
      " TRAIN: 12it [00:17,  1.52s/it, loss=0.0965, acc=0.9707, batch_time=0.1531s]"
     ]
    },
    {
     "name": "stdout",
     "output_type": "stream",
     "text": [
      "Processed 10 in 0.1667 seconds\n",
      "Processed 11 in 0.1531 seconds\n"
     ]
    },
    {
     "name": "stderr",
     "output_type": "stream",
     "text": [
      " TRAIN: 14it [00:17,  1.17it/s, loss=0.0975, acc=0.9727, batch_time=0.1531s]"
     ]
    },
    {
     "name": "stdout",
     "output_type": "stream",
     "text": [
      "Processed 12 in 0.1531 seconds\n",
      "Processed 13 in 0.1531 seconds\n"
     ]
    },
    {
     "name": "stderr",
     "output_type": "stream",
     "text": [
      " TRAIN: 16it [00:18,  1.78it/s, loss=0.0980, acc=0.9707, batch_time=0.1535s]"
     ]
    },
    {
     "name": "stdout",
     "output_type": "stream",
     "text": [
      "Processed 14 in 0.1537 seconds\n",
      "Processed 15 in 0.1535 seconds\n"
     ]
    },
    {
     "name": "stderr",
     "output_type": "stream",
     "text": [
      " TRAIN: 18it [00:18,  2.81it/s, loss=0.1003, acc=0.9727, batch_time=0.1545s]"
     ]
    },
    {
     "name": "stdout",
     "output_type": "stream",
     "text": [
      "Processed 16 in 0.1530 seconds\n",
      "Processed 17 in 0.1545 seconds\n"
     ]
    },
    {
     "name": "stderr",
     "output_type": "stream",
     "text": [
      " TRAIN: 20it [00:18,  3.93it/s, loss=0.0658, acc=0.9844, batch_time=0.1535s]"
     ]
    },
    {
     "name": "stdout",
     "output_type": "stream",
     "text": [
      "Processed 18 in 0.1531 seconds\n",
      "Processed 19 in 0.1535 seconds\n"
     ]
    },
    {
     "name": "stderr",
     "output_type": "stream",
     "text": [
      " TRAIN: 22it [00:25,  1.54s/it, loss=0.1058, acc=0.9727, batch_time=0.1531s]"
     ]
    },
    {
     "name": "stdout",
     "output_type": "stream",
     "text": [
      "Processed 20 in 0.1720 seconds\n",
      "Processed 21 in 0.1531 seconds\n"
     ]
    },
    {
     "name": "stderr",
     "output_type": "stream",
     "text": [
      " TRAIN: 24it [00:26,  1.11it/s, loss=0.0936, acc=0.9785, batch_time=0.1532s]"
     ]
    },
    {
     "name": "stdout",
     "output_type": "stream",
     "text": [
      "Processed 22 in 0.1537 seconds\n",
      "Processed 23 in 0.1532 seconds\n"
     ]
    },
    {
     "name": "stderr",
     "output_type": "stream",
     "text": [
      " TRAIN: 26it [00:26,  1.91it/s, loss=0.0612, acc=0.9922, batch_time=0.1532s]"
     ]
    },
    {
     "name": "stdout",
     "output_type": "stream",
     "text": [
      "Processed 24 in 0.1540 seconds\n",
      "Processed 25 in 0.1532 seconds\n"
     ]
    },
    {
     "name": "stderr",
     "output_type": "stream",
     "text": [
      " TRAIN: 28it [00:26,  2.96it/s, loss=0.0799, acc=0.9824, batch_time=0.1536s]"
     ]
    },
    {
     "name": "stdout",
     "output_type": "stream",
     "text": [
      "Processed 26 in 0.1531 seconds\n",
      "Processed 27 in 0.1536 seconds\n"
     ]
    },
    {
     "name": "stderr",
     "output_type": "stream",
     "text": [
      " TRAIN: 30it [00:27,  4.06it/s, loss=0.1261, acc=0.9668, batch_time=0.1537s]"
     ]
    },
    {
     "name": "stdout",
     "output_type": "stream",
     "text": [
      "Processed 28 in 0.1530 seconds\n",
      "Processed 29 in 0.1537 seconds\n"
     ]
    },
    {
     "name": "stderr",
     "output_type": "stream",
     "text": [
      " TRAIN: 32it [00:33,  1.58s/it, loss=0.1055, acc=0.9844, batch_time=0.1542s]"
     ]
    },
    {
     "name": "stdout",
     "output_type": "stream",
     "text": [
      "Processed 30 in 0.1668 seconds\n",
      "Processed 31 in 0.1542 seconds\n"
     ]
    },
    {
     "name": "stderr",
     "output_type": "stream",
     "text": [
      " TRAIN: 34it [00:34,  1.05it/s, loss=0.0651, acc=0.9863, batch_time=0.1529s]"
     ]
    },
    {
     "name": "stdout",
     "output_type": "stream",
     "text": [
      "Processed 32 in 0.1542 seconds\n",
      "Processed 33 in 0.1529 seconds\n"
     ]
    },
    {
     "name": "stderr",
     "output_type": "stream",
     "text": [
      " TRAIN: 36it [00:34,  1.84it/s, loss=0.1039, acc=0.9766, batch_time=0.1530s]"
     ]
    },
    {
     "name": "stdout",
     "output_type": "stream",
     "text": [
      "Processed 34 in 0.1529 seconds\n",
      "Processed 35 in 0.1530 seconds\n"
     ]
    },
    {
     "name": "stderr",
     "output_type": "stream",
     "text": [
      " TRAIN: 38it [00:35,  2.88it/s, loss=0.0649, acc=0.9863, batch_time=0.1530s]"
     ]
    },
    {
     "name": "stdout",
     "output_type": "stream",
     "text": [
      "Processed 36 in 0.1530 seconds\n",
      "Processed 37 in 0.1530 seconds\n"
     ]
    },
    {
     "name": "stderr",
     "output_type": "stream",
     "text": [
      " TRAIN: 40it [00:35,  4.00it/s, loss=0.0874, acc=0.9766, batch_time=0.1529s]"
     ]
    },
    {
     "name": "stdout",
     "output_type": "stream",
     "text": [
      "Processed 38 in 0.1529 seconds\n",
      "Processed 39 in 0.1529 seconds\n"
     ]
    },
    {
     "name": "stderr",
     "output_type": "stream",
     "text": [
      "                                                                            "
     ]
    },
    {
     "name": "stdout",
     "output_type": "stream",
     "text": [
      "Processed 40 in 0.1532 seconds\n",
      "Processed 41 in 0.0221 seconds\n",
      " TRAIN | Loss: 0.0917 | Accuracy: 0.9783\n"
     ]
    },
    {
     "name": "stderr",
     "output_type": "stream",
     "text": [
      " TEST: 1it [00:08,  8.61s/it, loss=0.1211, acc=0.9609, batch_time=0.0627s]"
     ]
    },
    {
     "name": "stdout",
     "output_type": "stream",
     "text": [
      "Processed 0 in 0.0627 seconds\n"
     ]
    },
    {
     "name": "stderr",
     "output_type": "stream",
     "text": [
      " TEST: 4it [00:09,  1.48s/it, loss=0.1293, acc=0.9570, batch_time=0.0581s]"
     ]
    },
    {
     "name": "stdout",
     "output_type": "stream",
     "text": [
      "Processed 1 in 0.0626 seconds\n",
      "Processed 2 in 0.0625 seconds\n",
      "Processed 3 in 0.0625 seconds\n",
      "Processed 4 in 0.0581 seconds\n"
     ]
    },
    {
     "name": "stderr",
     "output_type": "stream",
     "text": [
      " TEST: 8it [00:09,  1.96it/s, loss=0.1317, acc=0.9629, batch_time=0.0573s]"
     ]
    },
    {
     "name": "stdout",
     "output_type": "stream",
     "text": [
      "Processed 5 in 0.0573 seconds\n",
      "Processed 6 in 0.0572 seconds\n",
      "Processed 7 in 0.0573 seconds\n",
      "Processed 8 in 0.0573 seconds\n"
     ]
    },
    {
     "name": "stderr",
     "output_type": "stream",
     "text": [
      "                                                                           "
     ]
    },
    {
     "name": "stdout",
     "output_type": "stream",
     "text": [
      "Processed 9 in 0.0573 seconds\n",
      "Processed 10 in 0.0143 seconds\n",
      " TEST | Loss: 0.1217 | Accuracy: 0.9626\n",
      "\n",
      " The training is complete.\n"
     ]
    },
    {
     "name": "stderr",
     "output_type": "stream",
     "text": [
      "\r"
     ]
    },
    {
     "data": {
      "text/plain": [
       "ResNet(\n",
       "  (conv1): Conv2d(3, 64, kernel_size=(7, 7), stride=(2, 2), padding=(3, 3), bias=False)\n",
       "  (bn1): BatchNorm2d(64, eps=1e-05, momentum=0.1, affine=True, track_running_stats=True)\n",
       "  (relu): ReLU(inplace=True)\n",
       "  (maxpool): MaxPool2d(kernel_size=3, stride=2, padding=1, dilation=1, ceil_mode=False)\n",
       "  (layer1): Sequential(\n",
       "    (0): BasicBlock(\n",
       "      (conv1): Conv2d(64, 64, kernel_size=(3, 3), stride=(1, 1), padding=(1, 1), bias=False)\n",
       "      (bn1): BatchNorm2d(64, eps=1e-05, momentum=0.1, affine=True, track_running_stats=True)\n",
       "      (relu): ReLU(inplace=True)\n",
       "      (conv2): Conv2d(64, 64, kernel_size=(3, 3), stride=(1, 1), padding=(1, 1), bias=False)\n",
       "      (bn2): BatchNorm2d(64, eps=1e-05, momentum=0.1, affine=True, track_running_stats=True)\n",
       "    )\n",
       "    (1): BasicBlock(\n",
       "      (conv1): Conv2d(64, 64, kernel_size=(3, 3), stride=(1, 1), padding=(1, 1), bias=False)\n",
       "      (bn1): BatchNorm2d(64, eps=1e-05, momentum=0.1, affine=True, track_running_stats=True)\n",
       "      (relu): ReLU(inplace=True)\n",
       "      (conv2): Conv2d(64, 64, kernel_size=(3, 3), stride=(1, 1), padding=(1, 1), bias=False)\n",
       "      (bn2): BatchNorm2d(64, eps=1e-05, momentum=0.1, affine=True, track_running_stats=True)\n",
       "    )\n",
       "  )\n",
       "  (layer2): Sequential(\n",
       "    (0): BasicBlock(\n",
       "      (conv1): Conv2d(64, 128, kernel_size=(3, 3), stride=(2, 2), padding=(1, 1), bias=False)\n",
       "      (bn1): BatchNorm2d(128, eps=1e-05, momentum=0.1, affine=True, track_running_stats=True)\n",
       "      (relu): ReLU(inplace=True)\n",
       "      (conv2): Conv2d(128, 128, kernel_size=(3, 3), stride=(1, 1), padding=(1, 1), bias=False)\n",
       "      (bn2): BatchNorm2d(128, eps=1e-05, momentum=0.1, affine=True, track_running_stats=True)\n",
       "      (downsample): Sequential(\n",
       "        (0): Conv2d(64, 128, kernel_size=(1, 1), stride=(2, 2), bias=False)\n",
       "        (1): BatchNorm2d(128, eps=1e-05, momentum=0.1, affine=True, track_running_stats=True)\n",
       "      )\n",
       "    )\n",
       "    (1): BasicBlock(\n",
       "      (conv1): Conv2d(128, 128, kernel_size=(3, 3), stride=(1, 1), padding=(1, 1), bias=False)\n",
       "      (bn1): BatchNorm2d(128, eps=1e-05, momentum=0.1, affine=True, track_running_stats=True)\n",
       "      (relu): ReLU(inplace=True)\n",
       "      (conv2): Conv2d(128, 128, kernel_size=(3, 3), stride=(1, 1), padding=(1, 1), bias=False)\n",
       "      (bn2): BatchNorm2d(128, eps=1e-05, momentum=0.1, affine=True, track_running_stats=True)\n",
       "    )\n",
       "  )\n",
       "  (layer3): Sequential(\n",
       "    (0): BasicBlock(\n",
       "      (conv1): Conv2d(128, 256, kernel_size=(3, 3), stride=(2, 2), padding=(1, 1), bias=False)\n",
       "      (bn1): BatchNorm2d(256, eps=1e-05, momentum=0.1, affine=True, track_running_stats=True)\n",
       "      (relu): ReLU(inplace=True)\n",
       "      (conv2): Conv2d(256, 256, kernel_size=(3, 3), stride=(1, 1), padding=(1, 1), bias=False)\n",
       "      (bn2): BatchNorm2d(256, eps=1e-05, momentum=0.1, affine=True, track_running_stats=True)\n",
       "      (downsample): Sequential(\n",
       "        (0): Conv2d(128, 256, kernel_size=(1, 1), stride=(2, 2), bias=False)\n",
       "        (1): BatchNorm2d(256, eps=1e-05, momentum=0.1, affine=True, track_running_stats=True)\n",
       "      )\n",
       "    )\n",
       "    (1): BasicBlock(\n",
       "      (conv1): Conv2d(256, 256, kernel_size=(3, 3), stride=(1, 1), padding=(1, 1), bias=False)\n",
       "      (bn1): BatchNorm2d(256, eps=1e-05, momentum=0.1, affine=True, track_running_stats=True)\n",
       "      (relu): ReLU(inplace=True)\n",
       "      (conv2): Conv2d(256, 256, kernel_size=(3, 3), stride=(1, 1), padding=(1, 1), bias=False)\n",
       "      (bn2): BatchNorm2d(256, eps=1e-05, momentum=0.1, affine=True, track_running_stats=True)\n",
       "    )\n",
       "  )\n",
       "  (layer4): Sequential(\n",
       "    (0): BasicBlock(\n",
       "      (conv1): Conv2d(256, 512, kernel_size=(3, 3), stride=(2, 2), padding=(1, 1), bias=False)\n",
       "      (bn1): BatchNorm2d(512, eps=1e-05, momentum=0.1, affine=True, track_running_stats=True)\n",
       "      (relu): ReLU(inplace=True)\n",
       "      (conv2): Conv2d(512, 512, kernel_size=(3, 3), stride=(1, 1), padding=(1, 1), bias=False)\n",
       "      (bn2): BatchNorm2d(512, eps=1e-05, momentum=0.1, affine=True, track_running_stats=True)\n",
       "      (downsample): Sequential(\n",
       "        (0): Conv2d(256, 512, kernel_size=(1, 1), stride=(2, 2), bias=False)\n",
       "        (1): BatchNorm2d(512, eps=1e-05, momentum=0.1, affine=True, track_running_stats=True)\n",
       "      )\n",
       "    )\n",
       "    (1): BasicBlock(\n",
       "      (conv1): Conv2d(512, 512, kernel_size=(3, 3), stride=(1, 1), padding=(1, 1), bias=False)\n",
       "      (bn1): BatchNorm2d(512, eps=1e-05, momentum=0.1, affine=True, track_running_stats=True)\n",
       "      (relu): ReLU(inplace=True)\n",
       "      (conv2): Conv2d(512, 512, kernel_size=(3, 3), stride=(1, 1), padding=(1, 1), bias=False)\n",
       "      (bn2): BatchNorm2d(512, eps=1e-05, momentum=0.1, affine=True, track_running_stats=True)\n",
       "    )\n",
       "  )\n",
       "  (avgpool): AdaptiveAvgPool2d(output_size=(1, 1))\n",
       "  (fc): Linear(in_features=512, out_features=10, bias=True)\n",
       ")"
      ]
     },
     "execution_count": 6,
     "metadata": {},
     "output_type": "execute_result"
    }
   ],
   "source": [
    "def get_data_loaders(dataset_dir, batch_size=32, num_workers=0):\n",
    "    data_transforms = {\n",
    "        'train': transforms.Compose([\n",
    "            transforms.Resize((224, 224)),\n",
    "            transforms.RandomHorizontalFlip(),\n",
    "            transforms.ToTensor(),\n",
    "            transforms.Normalize([0.485, 0.456, 0.406],\n",
    "                                 [0.229, 0.224, 0.225])\n",
    "        ]),\n",
    "        'test': transforms.Compose([\n",
    "            transforms.Resize((224, 224)),\n",
    "            transforms.ToTensor(),\n",
    "            transforms.Normalize([0.485, 0.456, 0.406],\n",
    "                                 [0.229, 0.224, 0.225])\n",
    "        ]),\n",
    "    }\n",
    "\n",
    "    image_datasets = {\n",
    "        phase: datasets.ImageFolder(\n",
    "            os.path.join(dataset_dir, phase),\n",
    "            transform=data_transforms[phase]\n",
    "        )\n",
    "        for phase in ['train', 'test']\n",
    "    }\n",
    "\n",
    "    dataloaders = {\n",
    "        phase: DataLoader(\n",
    "            image_datasets[phase],\n",
    "            batch_size=batch_size,\n",
    "            shuffle=True,\n",
    "            num_workers=num_workers,\n",
    "            pin_memory=True\n",
    "        )\n",
    "        for phase in ['train', 'test']\n",
    "    }\n",
    "\n",
    "    dataset_sizes = {phase: len(image_datasets[phase]) for phase in ['train', 'test']}\n",
    "    class_names = image_datasets['train'].classes\n",
    "\n",
    "    return dataloaders, dataset_sizes, class_names\n",
    "\n",
    "def build_model(num_classes):\n",
    "    model = models.resnet18(pretrained=True)\n",
    "    num_ftrs = model.fc.in_features\n",
    "    model.fc = nn.Linear(num_ftrs, num_classes)\n",
    "    return model\n",
    "\n",
    "def train_model(model, dataloaders, dataset_sizes, criterion, optimizer, scaler, device, num_epochs=5):\n",
    "    for epoch in range(num_epochs):\n",
    "        print(f\"\\n Epoch {epoch+1}/{num_epochs} | LR: {optimizer.param_groups[0]['lr']:.6f}\")\n",
    "        print(\"-\" * 50)\n",
    "\n",
    "        for phase in ['train', 'test']:\n",
    "            is_train = (phase == 'train')\n",
    "            model.train() if is_train else model.eval()\n",
    "\n",
    "            running_loss = 0.0\n",
    "            running_corrects = 0\n",
    "\n",
    "            progress_bar = tqdm(enumerate(dataloaders[phase]), desc=f\" {phase.upper()}\", leave=False)\n",
    "            for batch_idx, (inputs, labels) in progress_bar:\n",
    "                start_time = time.time()\n",
    "                inputs = inputs.to(device, non_blocking=True)\n",
    "                labels = labels.to(device, non_blocking=True)\n",
    "\n",
    "                optimizer.zero_grad()\n",
    "\n",
    "                with torch.amp.autocast(device_type='cuda'):\n",
    "                    outputs = model(inputs)\n",
    "                    loss = criterion(outputs, labels)\n",
    "                    _, preds = torch.max(outputs, 1)\n",
    "\n",
    "                if is_train:\n",
    "                    scaler.scale(loss).backward()\n",
    "                    scaler.step(optimizer)\n",
    "                    scaler.update()\n",
    "\n",
    "                running_loss += loss.item() * inputs.size(0)\n",
    "                running_corrects += torch.sum(preds == labels.data)\n",
    "\n",
    "                elapsed = time.time() - start_time\n",
    "                progress_bar.set_postfix({\n",
    "                    \"loss\": f\"{loss.item():.4f}\",\n",
    "                    \"acc\": f\"{(preds == labels).float().mean().item():.4f}\",\n",
    "                    \"batch_time\": f\"{elapsed:.4f}s\"\n",
    "                })\n",
    "                progress_bar.write(f\"Processed {batch_idx} in {elapsed:.4f} seconds\")\n",
    "\n",
    "            epoch_loss = running_loss / dataset_sizes[phase]\n",
    "            epoch_acc = running_corrects.double() / dataset_sizes[phase]\n",
    "            print(f\" {phase.upper()} | Loss: {epoch_loss:.4f} | Accuracy: {epoch_acc:.4f}\")\n",
    "\n",
    "    print(\"\\n The training is complete.\")\n",
    "    return model\n",
    "\n",
    "\n",
    "dataset_dir = \"/content/drive/MyDrive/Kaggle_Datasets/animals10/dataset\"\n",
    "batch_size = 512\n",
    "num_workers = 10\n",
    "num_epochs = 15\n",
    "learning_rate = 0.001\n",
    "momentum = 0.9\n",
    "weight_decay = 1e-4\n",
    "\n",
    "\n",
    "dataloaders, dataset_sizes, class_names = get_data_loaders(dataset_dir, batch_size, num_workers)\n",
    "print(\"Classes\", class_names)\n",
    "print(\"Dataset size\", dataset_sizes)\n",
    "\n",
    "device = torch.device(\"cuda:0\" if torch.cuda.is_available() else \"cpu\")\n",
    "\n",
    "num_classes = len(class_names)\n",
    "model = build_model(num_classes)\n",
    "model = model.to(device)\n",
    "\n",
    "\n",
    "optimizer = optim.SGD(model.parameters(), lr=learning_rate, momentum=momentum, weight_decay=weight_decay)\n",
    "criterion = nn.CrossEntropyLoss()\n",
    "scaler = torch.amp.GradScaler(device='cuda') if device.type == \"cuda\" else None\n",
    "\n",
    "\n",
    "train_model(model, dataloaders, dataset_sizes, criterion, optimizer, scaler, device, num_epochs)"
   ]
  },
  {
   "cell_type": "markdown",
   "metadata": {},
   "source": [
    "Saving models"
   ]
  },
  {
   "cell_type": "code",
   "execution_count": null,
   "metadata": {
    "executionInfo": {
     "elapsed": 519,
     "status": "ok",
     "timestamp": 1740589080961,
     "user": {
      "displayName": "Iordanova Valeriia",
      "userId": ""
     },
     "user_tz": -120
    },
    "id": "y7IqZGkbFxcL"
   },
   "outputs": [],
   "source": [
    "model_path = \"./vision/trained_model_vision\"\n",
    "os.makedirs(model_path, exist_ok=True)\n",
    "weights_path = os.path.join(model_path, \"resnet18_weights.pth\")\n",
    "checkpoint_path = os.path.join(model_path, \"resnet18_checkpoint.pth\")\n",
    "torch.save(model.state_dict(), weights_path)\n",
    "checkpoint = {\n",
    "    \"model_state_dict\": model.state_dict(),\n",
    "    \"optimizer_state_dict\": optimizer.state_dict(),\n",
    "    \"num_epochs\": num_epochs,\n",
    "}\n",
    "torch.save(checkpoint, checkpoint_path)"
   ]
  }
 ],
 "metadata": {
  "accelerator": "GPU",
  "colab": {
   "authorship_tag": "ABX9TyN3mv0EJJJGb3HnNGwpXGmT",
   "gpuType": "A100",
   "provenance": []
  },
  "kernelspec": {
   "display_name": "Python 3",
   "language": "python",
   "name": "python3"
  },
  "language_info": {
   "codemirror_mode": {
    "name": "ipython",
    "version": 3
   },
   "file_extension": ".py",
   "mimetype": "text/x-python",
   "name": "python",
   "nbconvert_exporter": "python",
   "pygments_lexer": "ipython3",
   "version": "3.9.7"
  }
 },
 "nbformat": 4,
 "nbformat_minor": 0
}
