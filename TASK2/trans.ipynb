{
 "cells": [
  {
   "cell_type": "code",
   "execution_count": 2,
   "metadata": {},
   "outputs": [],
   "source": [
    "import os\n",
    "import pandas as pd\n",
    "import numpy as np\n",
    "from sklearn.model_selection import train_test_split\n",
    "from datasets import Dataset\n",
    "from transformers import AutoTokenizer, AutoModelForSequenceClassification, Trainer, TrainingArguments\n",
    "import torch"
   ]
  },
  {
   "cell_type": "code",
   "execution_count": null,
   "metadata": {},
   "outputs": [],
   "source": [
    "folder_name = \"data/trans\"\n",
    "csv_file = \"text-animals.csv\""
   ]
  },
  {
   "cell_type": "markdown",
   "metadata": {},
   "source": [
    "Loading a CSV file with text data and class labels, cleans it, splits it into training and test samples in a balanced way, converts labels to numeric identifiers, and creates datasets from the data"
   ]
  },
  {
   "cell_type": "code",
   "execution_count": null,
   "metadata": {},
   "outputs": [
    {
     "name": "stdout",
     "output_type": "stream",
     "text": [
      "Count of examples for each class:\n",
      " label\n",
      "dog          100\n",
      "horse        100\n",
      "elephant     100\n",
      "butterfly    100\n",
      "chicken      100\n",
      "cat          100\n",
      "cow          100\n",
      "sheep        100\n",
      "squirrel     100\n",
      "spider       100\n",
      "Name: count, dtype: int64\n",
      "Size train: (800, 2)\n",
      "Size test: (200, 2)\n"
     ]
    }
   ],
   "source": [
    "file_path = os.path.join(folder_name, csv_file)\n",
    "\n",
    "df = pd.read_csv(file_path, names=[\"text\", \"label\"])\n",
    "\n",
    "df = df[df[\"label\"] != \"label\"].dropna().reset_index(drop=True)\n",
    "\n",
    "print(\"Count of examples for each class:\\n\", df[\"label\"].value_counts())\n",
    "\n",
    "train_dfs, test_dfs = [], []\n",
    "\n",
    "for label in df[\"label\"].unique():\n",
    "    df_label = df[df[\"label\"] == label]\n",
    "    train_df, test_df = train_test_split(df_label, test_size=0.2, random_state=42)\n",
    "    train_dfs.append(train_df)\n",
    "    test_dfs.append(test_df)\n",
    "\n",
    "train_df = pd.concat(train_dfs).reset_index(drop=True)\n",
    "test_df = pd.concat(test_dfs).reset_index(drop=True)\n",
    "\n",
    "print(\"Size train:\", train_df.shape)\n",
    "print(\"Size test:\", test_df.shape)\n",
    "\n",
    "labels = sorted(df[\"label\"].unique())\n",
    "label2id = {label: idx for idx, label in enumerate(labels)}\n",
    "id2label = {idx: label for label, idx in label2id.items()}\n",
    "\n",
    "train_df[\"label_id\"] = train_df[\"label\"].map(label2id)\n",
    "test_df[\"label_id\"] = test_df[\"label\"].map(label2id)\n",
    "\n",
    "train_dataset = Dataset.from_pandas(train_df)\n",
    "test_dataset = Dataset.from_pandas(test_df)"
   ]
  },
  {
   "cell_type": "markdown",
   "metadata": {},
   "source": [
    "Loads a pre-trained DistilBERT model for text classification, tokenises the data, converts it to PyTorch format and prepares training and test datasets"
   ]
  },
  {
   "cell_type": "code",
   "execution_count": null,
   "metadata": {},
   "outputs": [
    {
     "name": "stderr",
     "output_type": "stream",
     "text": [
      "Some weights of DistilBertForSequenceClassification were not initialized from the model checkpoint at distilbert-base-uncased and are newly initialized: ['classifier.bias', 'classifier.weight', 'pre_classifier.bias', 'pre_classifier.weight']\n",
      "You should probably TRAIN this model on a down-stream task to be able to use it for predictions and inference.\n",
      "Map: 100%|██████████| 800/800 [00:00<00:00, 24077.87 examples/s]\n",
      "Map: 100%|██████████| 200/200 [00:00<00:00, 162444.00 examples/s]\n"
     ]
    }
   ],
   "source": [
    "model_name = \"distilbert-base-uncased\"\n",
    "tokenizer = AutoTokenizer.from_pretrained(model_name)\n",
    "\n",
    "model = AutoModelForSequenceClassification.from_pretrained(\n",
    "    model_name,\n",
    "    num_labels=len(labels),\n",
    "    id2label=id2label,\n",
    "    label2id=label2id\n",
    ")\n",
    "\n",
    "def tokenize_function(example):\n",
    "    return tokenizer(example['text'], padding=\"max_length\", truncation=True, max_length=128)\n",
    "\n",
    "train_dataset = train_dataset.map(tokenize_function, batched=True)\n",
    "test_dataset = test_dataset.map(tokenize_function, batched=True)\n",
    "\n",
    "train_dataset = train_dataset.rename_column(\"label_id\", \"labels\")\n",
    "test_dataset = test_dataset.rename_column(\"label_id\", \"labels\")\n",
    "\n",
    "train_dataset.set_format(\"torch\", columns=[\"input_ids\", \"attention_mask\", \"labels\"])\n",
    "test_dataset.set_format(\"torch\", columns=[\"input_ids\", \"attention_mask\", \"labels\"])"
   ]
  },
  {
   "cell_type": "markdown",
   "metadata": {},
   "source": [
    "Configures the training parameters for the DistilBERT model, defines an accuracy metric, creates a Trainer object to train and evaluate the model, and then runs the training process"
   ]
  },
  {
   "cell_type": "code",
   "execution_count": null,
   "metadata": {},
   "outputs": [
    {
     "data": {
      "text/html": [
       "\n",
       "    <div>\n",
       "      \n",
       "      <progress value='300' max='300' style='width:300px; height:20px; vertical-align: middle;'></progress>\n",
       "      [300/300 02:30, Epoch 3/3]\n",
       "    </div>\n",
       "    <table border=\"1\" class=\"dataframe\">\n",
       "  <thead>\n",
       " <tr style=\"text-align: left;\">\n",
       "      <th>Epoch</th>\n",
       "      <th>Training Loss</th>\n",
       "      <th>Validation Loss</th>\n",
       "      <th>Accuracy</th>\n",
       "    </tr>\n",
       "  </thead>\n",
       "  <tbody>\n",
       "    <tr>\n",
       "      <td>1</td>\n",
       "      <td>0.123400</td>\n",
       "      <td>0.080506</td>\n",
       "      <td>0.995000</td>\n",
       "    </tr>\n",
       "    <tr>\n",
       "      <td>2</td>\n",
       "      <td>0.020400</td>\n",
       "      <td>0.016455</td>\n",
       "      <td>1.000000</td>\n",
       "    </tr>\n",
       "    <tr>\n",
       "      <td>3</td>\n",
       "      <td>0.014600</td>\n",
       "      <td>0.012976</td>\n",
       "      <td>1.000000</td>\n",
       "    </tr>\n",
       "  </tbody>\n",
       "</table><p>"
      ],
      "text/plain": [
       "<IPython.core.display.HTML object>"
      ]
     },
     "metadata": {},
     "output_type": "display_data"
    },
    {
     "data": {
      "text/plain": [
       "TrainOutput(global_step=300, training_loss=0.36689042682449025, metrics={'train_runtime': 150.9552, 'train_samples_per_second': 15.899, 'train_steps_per_second': 1.987, 'total_flos': 79491778560000.0, 'train_loss': 0.36689042682449025, 'epoch': 3.0})"
      ]
     },
     "execution_count": 5,
     "metadata": {},
     "output_type": "execute_result"
    }
   ],
   "source": [
    "training_args = TrainingArguments(\n",
    "    output_dir=\"./trans/results\",\n",
    "    num_train_epochs=3,\n",
    "    per_device_train_batch_size=8,\n",
    "    per_device_eval_batch_size=8,\n",
    "    evaluation_strategy=\"epoch\",\n",
    "    save_strategy=\"epoch\",\n",
    "    logging_dir=\"./trans/logs\",\n",
    "    logging_steps=10,\n",
    "    load_best_model_at_end=True,\n",
    "    metric_for_best_model=\"accuracy\"\n",
    ")\n",
    "\n",
    "def compute_metrics(eval_pred):\n",
    "    logits, labels = eval_pred\n",
    "    predictions = np.argmax(logits, axis=-1)\n",
    "    accuracy = np.mean(predictions == labels)\n",
    "    return {\"accuracy\": accuracy}\n",
    "\n",
    "trainer = Trainer(\n",
    "    model=model,\n",
    "    args=training_args,\n",
    "    train_dataset=train_dataset,\n",
    "    eval_dataset=test_dataset,\n",
    "    compute_metrics=compute_metrics\n",
    ")\n",
    "\n",
    "trainer.train()"
   ]
  },
  {
   "cell_type": "markdown",
   "metadata": {},
   "source": [
    "Evaluates the trained model on test data and then uses it to predict the class of an animal from the input text, outputting classification results for several examples"
   ]
  },
  {
   "cell_type": "code",
   "execution_count": null,
   "metadata": {},
   "outputs": [
    {
     "data": {
      "text/html": [
       "\n",
       "    <div>\n",
       "      \n",
       "      <progress value='25' max='25' style='width:300px; height:20px; vertical-align: middle;'></progress>\n",
       "      [25/25 00:02]\n",
       "    </div>\n",
       "    "
      ],
      "text/plain": [
       "<IPython.core.display.HTML object>"
      ]
     },
     "metadata": {},
     "output_type": "display_data"
    },
    {
     "name": "stdout",
     "output_type": "stream",
     "text": [
      "Results on the test sample: {'eval_loss': 0.016454851254820824, 'eval_accuracy': 1.0, 'eval_runtime': 3.0034, 'eval_samples_per_second': 66.592, 'eval_steps_per_second': 8.324, 'epoch': 3.0}\n",
      "Text: A little dog was barking in the park.\n",
      "Predict animal: dog\n",
      "\n",
      "Text: I saw a spider weaving its web on the porch.\n",
      "Predict animal: spider\n",
      "\n",
      "Text: The picture shows a beautiful dog playing with a ball\n",
      "Predict animal: dog\n",
      "\n"
     ]
    }
   ],
   "source": [
    "results = trainer.evaluate(test_dataset)\n",
    "print(\"Results on the test sample:\", results)\n",
    "\n",
    "def predict_animal(text):\n",
    "    inputs = tokenizer(text, return_tensors=\"pt\", padding=\"max_length\", truncation=True, max_length=128)\n",
    "    outputs = model(**inputs)\n",
    "    prediction = torch.argmax(outputs.logits, dim=1).item()\n",
    "    return id2label[prediction]\n",
    "\n",
    "new_texts = [\n",
    "    \"A little dog was barking in the park.\",\n",
    "    \"I saw a spider weaving its web on the porch.\",\n",
    "    \"The picture shows a beautiful dog playing with a ball\",\n",
    "]\n",
    "\n",
    "for text in new_texts:\n",
    "    animal = predict_animal(text)\n",
    "    print(f\"Text: {text}\\nPredict animal: {animal}\\n\")"
   ]
  },
  {
   "cell_type": "markdown",
   "metadata": {},
   "source": [
    "Saving the model"
   ]
  },
  {
   "cell_type": "code",
   "execution_count": null,
   "metadata": {},
   "outputs": [],
   "source": [
    "save_directory = \"./trans/trained_model_trans\"\n",
    "os.makedirs(save_directory, exist_ok=True)  "
   ]
  },
  {
   "cell_type": "code",
   "execution_count": null,
   "metadata": {},
   "outputs": [
    {
     "name": "stdout",
     "output_type": "stream",
     "text": [
      "Saved: ./trans/trained_model_trans\n"
     ]
    }
   ],
   "source": [
    "trainer.save_model(save_directory)\n",
    "tokenizer.save_pretrained(save_directory)\n",
    "\n",
    "print(f\"Saved: {save_directory}\")"
   ]
  }
 ],
 "metadata": {
  "kernelspec": {
   "display_name": "Python 3",
   "language": "python",
   "name": "python3"
  },
  "language_info": {
   "codemirror_mode": {
    "name": "ipython",
    "version": 3
   },
   "file_extension": ".py",
   "mimetype": "text/x-python",
   "name": "python",
   "nbconvert_exporter": "python",
   "pygments_lexer": "ipython3",
   "version": "3.9.7"
  }
 },
 "nbformat": 4,
 "nbformat_minor": 2
}
