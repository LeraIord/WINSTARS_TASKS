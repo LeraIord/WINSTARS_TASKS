{
 "cells": [
  {
   "cell_type": "code",
   "execution_count": 1,
   "metadata": {},
   "outputs": [],
   "source": [
    "import os\n",
    "import shutil\n",
    "import kagglehub"
   ]
  },
  {
   "cell_type": "markdown",
   "metadata": {},
   "source": [
    "The code checks for the presence of the Animals10 dataset, downloads it from Kaggle if it is missing, deleting the old files, and saves it to the specified directory."
   ]
  },
  {
   "cell_type": "code",
   "execution_count": 3,
   "metadata": {},
   "outputs": [
    {
     "name": "stdout",
     "output_type": "stream",
     "text": [
      "Downloading from https://www.kaggle.com/api/v1/datasets/download/alessiocorrado99/animals10?dataset_version_number=2...\n"
     ]
    },
    {
     "name": "stderr",
     "output_type": "stream",
     "text": [
      "100%|██████████| 586M/586M [07:48<00:00, 1.31MB/s] "
     ]
    },
    {
     "name": "stdout",
     "output_type": "stream",
     "text": [
      "Extracting files...\n"
     ]
    },
    {
     "name": "stderr",
     "output_type": "stream",
     "text": [
      "\n"
     ]
    },
    {
     "name": "stdout",
     "output_type": "stream",
     "text": [
      "Dataset loaded and moved to: ./data/vision\n"
     ]
    }
   ],
   "source": [
    "data_dir = \"./data/vision\"\n",
    "\n",
    "cache_dir = os.path.expanduser(\"~/.cache/kagglehub/datasets/alessiocorrado99/animals10\")\n",
    "\n",
    "complete_file = os.path.join(cache_dir, \"2.complete\")\n",
    "if not os.path.exists(data_dir):\n",
    "    os.makedirs(data_dir)\n",
    "\n",
    "dataset_main_folder = os.path.join(data_dir, \"raw-img\")\n",
    "\n",
    "if not os.path.exists(dataset_main_folder):\n",
    "    if os.path.exists(complete_file):\n",
    "        os.remove(complete_file)\n",
    "\n",
    "    if os.path.exists(data_dir):\n",
    "        shutil.rmtree(data_dir)\n",
    "        os.makedirs(data_dir)\n",
    "\n",
    "    path = kagglehub.dataset_download(\"alessiocorrado99/animals10\")\n",
    "    extracted_path = os.path.expanduser(path)\n",
    "\n",
    "    for file in os.listdir(extracted_path):\n",
    "        shutil.move(os.path.join(extracted_path, file), data_dir)\n",
    "\n",
    "    print(\"Dataset loaded and moved to:\", data_dir)\n",
    "else:\n",
    "    print(\"Dataset already downloaded, no download required.\")\n"
   ]
  },
  {
   "cell_type": "markdown",
   "metadata": {},
   "source": [
    "Translating the folders"
   ]
  },
  {
   "cell_type": "code",
   "execution_count": 4,
   "metadata": {},
   "outputs": [],
   "source": [
    "translate = {\n",
    "    \"cane\": \"dog\", \"cavallo\": \"horse\", \"elefante\": \"elephant\", \"farfalla\": \"butterfly\",\n",
    "    \"gallina\": \"chicken\", \"gatto\": \"cat\", \"mucca\": \"cow\", \"pecora\": \"sheep\",\n",
    "    \"scoiattolo\": \"squirrel\", \"ragno\": \"spider\"\n",
    "}"
   ]
  },
  {
   "cell_type": "code",
   "execution_count": 5,
   "metadata": {},
   "outputs": [
    {
     "name": "stdout",
     "output_type": "stream",
     "text": [
      "Folder 'cane' renamed to 'dog''.\n",
      "Folder 'cavallo' renamed to 'horse''.\n",
      "Folder 'elefante' renamed to 'elephant''.\n",
      "Folder 'farfalla' renamed to 'butterfly''.\n",
      "Folder 'gallina' renamed to 'chicken''.\n",
      "Folder 'gatto' renamed to 'cat''.\n",
      "Folder 'mucca' renamed to 'cow''.\n",
      "Folder 'pecora' renamed to 'sheep''.\n",
      "Folder 'ragno' renamed to 'spider''.\n",
      "Folder 'scoiattolo' renamed to 'squirrel''.\n",
      "All folders are translated!\n"
     ]
    }
   ],
   "source": [
    "translated_folders = set(translate.values()) \n",
    "folders = os.listdir(dataset_main_folder)\n",
    "\n",
    "for folder in folders:\n",
    "    folder_path = os.path.join(dataset_main_folder, folder)\n",
    "    \n",
    "    if folder in translate and os.path.isdir(folder_path):\n",
    "        new_name = translate[folder]\n",
    "        new_path = os.path.join(dataset_main_folder, new_name)\n",
    "\n",
    "        if not os.path.exists(new_path):\n",
    "            os.rename(folder_path, new_path)\n",
    "            print(f\"Folder '{folder}' renamed to '{new_name}''.\")\n",
    "\n",
    "print(\"All folders are translated!\")"
   ]
  }
 ],
 "metadata": {
  "kernelspec": {
   "display_name": "Python 3",
   "language": "python",
   "name": "python3"
  },
  "language_info": {
   "codemirror_mode": {
    "name": "ipython",
    "version": 3
   },
   "file_extension": ".py",
   "mimetype": "text/x-python",
   "name": "python",
   "nbconvert_exporter": "python",
   "pygments_lexer": "ipython3",
   "version": "3.9.7"
  }
 },
 "nbformat": 4,
 "nbformat_minor": 2
}
